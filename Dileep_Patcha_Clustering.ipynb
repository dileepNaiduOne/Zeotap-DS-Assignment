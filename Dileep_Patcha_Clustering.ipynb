{
 "cells": [
  {
   "cell_type": "code",
   "execution_count": 2,
   "id": "afff6baa-4edd-4dfb-95c9-fe5de698b0f7",
   "metadata": {
    "execution": {
     "iopub.execute_input": "2025-01-27T17:14:24.499168Z",
     "iopub.status.busy": "2025-01-27T17:14:24.498171Z",
     "iopub.status.idle": "2025-01-27T17:14:25.402828Z",
     "shell.execute_reply": "2025-01-27T17:14:25.402828Z",
     "shell.execute_reply.started": "2025-01-27T17:14:24.499168Z"
    }
   },
   "outputs": [],
   "source": [
    "import pandas as pd\n",
    "import numpy as np\n",
    "import matplotlib.pyplot as plt\n",
    "import seaborn as sns\n",
    "\n",
    "pd.set_option(\"display.max_columns\", 100)"
   ]
  },
  {
   "cell_type": "code",
   "execution_count": 3,
   "id": "e8391803-fea4-43c6-839d-7a1333ea1b60",
   "metadata": {
    "execution": {
     "iopub.execute_input": "2025-01-27T17:14:25.402828Z",
     "iopub.status.busy": "2025-01-27T17:14:25.402828Z",
     "iopub.status.idle": "2025-01-27T17:14:25.415682Z",
     "shell.execute_reply": "2025-01-27T17:14:25.415371Z",
     "shell.execute_reply.started": "2025-01-27T17:14:25.402828Z"
    }
   },
   "outputs": [],
   "source": [
    "cust = pd.read_csv(\"Customers.csv\")\n",
    "prod = pd.read_csv(\"Products.csv\")\n",
    "tran = pd.read_csv(\"Transactions.csv\")"
   ]
  },
  {
   "cell_type": "code",
   "execution_count": 4,
   "id": "8402fe6c-793b-4eab-8ad3-6a0148eab8b8",
   "metadata": {
    "execution": {
     "iopub.execute_input": "2025-01-27T17:14:25.416687Z",
     "iopub.status.busy": "2025-01-27T17:14:25.415682Z",
     "iopub.status.idle": "2025-01-27T17:14:25.432519Z",
     "shell.execute_reply": "2025-01-27T17:14:25.431510Z",
     "shell.execute_reply.started": "2025-01-27T17:14:25.416687Z"
    }
   },
   "outputs": [
    {
     "data": {
      "text/html": [
       "<div>\n",
       "<style scoped>\n",
       "    .dataframe tbody tr th:only-of-type {\n",
       "        vertical-align: middle;\n",
       "    }\n",
       "\n",
       "    .dataframe tbody tr th {\n",
       "        vertical-align: top;\n",
       "    }\n",
       "\n",
       "    .dataframe thead th {\n",
       "        text-align: right;\n",
       "    }\n",
       "</style>\n",
       "<table border=\"1\" class=\"dataframe\">\n",
       "  <thead>\n",
       "    <tr style=\"text-align: right;\">\n",
       "      <th></th>\n",
       "      <th>CustomerID</th>\n",
       "      <th>CustomerName</th>\n",
       "      <th>Region</th>\n",
       "      <th>SignupDate</th>\n",
       "    </tr>\n",
       "  </thead>\n",
       "  <tbody>\n",
       "    <tr>\n",
       "      <th>0</th>\n",
       "      <td>C0001</td>\n",
       "      <td>Lawrence Carroll</td>\n",
       "      <td>South America</td>\n",
       "      <td>2022-07-10</td>\n",
       "    </tr>\n",
       "    <tr>\n",
       "      <th>1</th>\n",
       "      <td>C0002</td>\n",
       "      <td>Elizabeth Lutz</td>\n",
       "      <td>Asia</td>\n",
       "      <td>2022-02-13</td>\n",
       "    </tr>\n",
       "    <tr>\n",
       "      <th>2</th>\n",
       "      <td>C0003</td>\n",
       "      <td>Michael Rivera</td>\n",
       "      <td>South America</td>\n",
       "      <td>2024-03-07</td>\n",
       "    </tr>\n",
       "    <tr>\n",
       "      <th>3</th>\n",
       "      <td>C0004</td>\n",
       "      <td>Kathleen Rodriguez</td>\n",
       "      <td>South America</td>\n",
       "      <td>2022-10-09</td>\n",
       "    </tr>\n",
       "    <tr>\n",
       "      <th>4</th>\n",
       "      <td>C0005</td>\n",
       "      <td>Laura Weber</td>\n",
       "      <td>Asia</td>\n",
       "      <td>2022-08-15</td>\n",
       "    </tr>\n",
       "  </tbody>\n",
       "</table>\n",
       "</div>"
      ],
      "text/plain": [
       "  CustomerID        CustomerName         Region  SignupDate\n",
       "0      C0001    Lawrence Carroll  South America  2022-07-10\n",
       "1      C0002      Elizabeth Lutz           Asia  2022-02-13\n",
       "2      C0003      Michael Rivera  South America  2024-03-07\n",
       "3      C0004  Kathleen Rodriguez  South America  2022-10-09\n",
       "4      C0005         Laura Weber           Asia  2022-08-15"
      ]
     },
     "execution_count": 4,
     "metadata": {},
     "output_type": "execute_result"
    }
   ],
   "source": [
    "cust.head()"
   ]
  },
  {
   "cell_type": "code",
   "execution_count": 5,
   "id": "e5bcfbd9-328b-418a-bf3f-de0a2421a050",
   "metadata": {
    "execution": {
     "iopub.execute_input": "2025-01-27T17:14:25.433876Z",
     "iopub.status.busy": "2025-01-27T17:14:25.433876Z",
     "iopub.status.idle": "2025-01-27T17:14:25.443386Z",
     "shell.execute_reply": "2025-01-27T17:14:25.443386Z",
     "shell.execute_reply.started": "2025-01-27T17:14:25.433876Z"
    }
   },
   "outputs": [
    {
     "data": {
      "text/html": [
       "<div>\n",
       "<style scoped>\n",
       "    .dataframe tbody tr th:only-of-type {\n",
       "        vertical-align: middle;\n",
       "    }\n",
       "\n",
       "    .dataframe tbody tr th {\n",
       "        vertical-align: top;\n",
       "    }\n",
       "\n",
       "    .dataframe thead th {\n",
       "        text-align: right;\n",
       "    }\n",
       "</style>\n",
       "<table border=\"1\" class=\"dataframe\">\n",
       "  <thead>\n",
       "    <tr style=\"text-align: right;\">\n",
       "      <th></th>\n",
       "      <th>ProductID</th>\n",
       "      <th>ProductName</th>\n",
       "      <th>Category</th>\n",
       "      <th>Price</th>\n",
       "    </tr>\n",
       "  </thead>\n",
       "  <tbody>\n",
       "    <tr>\n",
       "      <th>0</th>\n",
       "      <td>P001</td>\n",
       "      <td>ActiveWear Biography</td>\n",
       "      <td>Books</td>\n",
       "      <td>169.30</td>\n",
       "    </tr>\n",
       "    <tr>\n",
       "      <th>1</th>\n",
       "      <td>P002</td>\n",
       "      <td>ActiveWear Smartwatch</td>\n",
       "      <td>Electronics</td>\n",
       "      <td>346.30</td>\n",
       "    </tr>\n",
       "    <tr>\n",
       "      <th>2</th>\n",
       "      <td>P003</td>\n",
       "      <td>ComfortLiving Biography</td>\n",
       "      <td>Books</td>\n",
       "      <td>44.12</td>\n",
       "    </tr>\n",
       "    <tr>\n",
       "      <th>3</th>\n",
       "      <td>P004</td>\n",
       "      <td>BookWorld Rug</td>\n",
       "      <td>Home Decor</td>\n",
       "      <td>95.69</td>\n",
       "    </tr>\n",
       "    <tr>\n",
       "      <th>4</th>\n",
       "      <td>P005</td>\n",
       "      <td>TechPro T-Shirt</td>\n",
       "      <td>Clothing</td>\n",
       "      <td>429.31</td>\n",
       "    </tr>\n",
       "  </tbody>\n",
       "</table>\n",
       "</div>"
      ],
      "text/plain": [
       "  ProductID              ProductName     Category   Price\n",
       "0      P001     ActiveWear Biography        Books  169.30\n",
       "1      P002    ActiveWear Smartwatch  Electronics  346.30\n",
       "2      P003  ComfortLiving Biography        Books   44.12\n",
       "3      P004            BookWorld Rug   Home Decor   95.69\n",
       "4      P005          TechPro T-Shirt     Clothing  429.31"
      ]
     },
     "execution_count": 5,
     "metadata": {},
     "output_type": "execute_result"
    }
   ],
   "source": [
    "prod.head()"
   ]
  },
  {
   "cell_type": "code",
   "execution_count": 6,
   "id": "2bfd7d13-cfe1-4eba-9d80-d21c4d1941c6",
   "metadata": {
    "execution": {
     "iopub.execute_input": "2025-01-27T17:14:25.444392Z",
     "iopub.status.busy": "2025-01-27T17:14:25.444392Z",
     "iopub.status.idle": "2025-01-27T17:14:25.451776Z",
     "shell.execute_reply": "2025-01-27T17:14:25.451389Z",
     "shell.execute_reply.started": "2025-01-27T17:14:25.444392Z"
    }
   },
   "outputs": [
    {
     "data": {
      "text/html": [
       "<div>\n",
       "<style scoped>\n",
       "    .dataframe tbody tr th:only-of-type {\n",
       "        vertical-align: middle;\n",
       "    }\n",
       "\n",
       "    .dataframe tbody tr th {\n",
       "        vertical-align: top;\n",
       "    }\n",
       "\n",
       "    .dataframe thead th {\n",
       "        text-align: right;\n",
       "    }\n",
       "</style>\n",
       "<table border=\"1\" class=\"dataframe\">\n",
       "  <thead>\n",
       "    <tr style=\"text-align: right;\">\n",
       "      <th></th>\n",
       "      <th>TransactionID</th>\n",
       "      <th>CustomerID</th>\n",
       "      <th>ProductID</th>\n",
       "      <th>TransactionDate</th>\n",
       "      <th>Quantity</th>\n",
       "      <th>TotalValue</th>\n",
       "      <th>Price</th>\n",
       "    </tr>\n",
       "  </thead>\n",
       "  <tbody>\n",
       "    <tr>\n",
       "      <th>0</th>\n",
       "      <td>T00001</td>\n",
       "      <td>C0199</td>\n",
       "      <td>P067</td>\n",
       "      <td>2024-08-25 12:38:23</td>\n",
       "      <td>1</td>\n",
       "      <td>300.68</td>\n",
       "      <td>300.68</td>\n",
       "    </tr>\n",
       "    <tr>\n",
       "      <th>1</th>\n",
       "      <td>T00112</td>\n",
       "      <td>C0146</td>\n",
       "      <td>P067</td>\n",
       "      <td>2024-05-27 22:23:54</td>\n",
       "      <td>1</td>\n",
       "      <td>300.68</td>\n",
       "      <td>300.68</td>\n",
       "    </tr>\n",
       "    <tr>\n",
       "      <th>2</th>\n",
       "      <td>T00166</td>\n",
       "      <td>C0127</td>\n",
       "      <td>P067</td>\n",
       "      <td>2024-04-25 07:38:55</td>\n",
       "      <td>1</td>\n",
       "      <td>300.68</td>\n",
       "      <td>300.68</td>\n",
       "    </tr>\n",
       "    <tr>\n",
       "      <th>3</th>\n",
       "      <td>T00272</td>\n",
       "      <td>C0087</td>\n",
       "      <td>P067</td>\n",
       "      <td>2024-03-26 22:55:37</td>\n",
       "      <td>2</td>\n",
       "      <td>601.36</td>\n",
       "      <td>300.68</td>\n",
       "    </tr>\n",
       "    <tr>\n",
       "      <th>4</th>\n",
       "      <td>T00363</td>\n",
       "      <td>C0070</td>\n",
       "      <td>P067</td>\n",
       "      <td>2024-03-21 15:10:10</td>\n",
       "      <td>3</td>\n",
       "      <td>902.04</td>\n",
       "      <td>300.68</td>\n",
       "    </tr>\n",
       "  </tbody>\n",
       "</table>\n",
       "</div>"
      ],
      "text/plain": [
       "  TransactionID CustomerID ProductID      TransactionDate  Quantity  \\\n",
       "0        T00001      C0199      P067  2024-08-25 12:38:23         1   \n",
       "1        T00112      C0146      P067  2024-05-27 22:23:54         1   \n",
       "2        T00166      C0127      P067  2024-04-25 07:38:55         1   \n",
       "3        T00272      C0087      P067  2024-03-26 22:55:37         2   \n",
       "4        T00363      C0070      P067  2024-03-21 15:10:10         3   \n",
       "\n",
       "   TotalValue   Price  \n",
       "0      300.68  300.68  \n",
       "1      300.68  300.68  \n",
       "2      300.68  300.68  \n",
       "3      601.36  300.68  \n",
       "4      902.04  300.68  "
      ]
     },
     "execution_count": 6,
     "metadata": {},
     "output_type": "execute_result"
    }
   ],
   "source": [
    "tran.head()"
   ]
  },
  {
   "cell_type": "markdown",
   "id": "de470eef-a3d7-495b-93b1-1f0e23486d6e",
   "metadata": {},
   "source": [
    "#\n",
    "---\n",
    "# Checking Nulls"
   ]
  },
  {
   "cell_type": "code",
   "execution_count": 7,
   "id": "76d0af09-1d48-4a74-9e20-8a14e83ba5f4",
   "metadata": {
    "execution": {
     "iopub.execute_input": "2025-01-27T17:14:25.451776Z",
     "iopub.status.busy": "2025-01-27T17:14:25.451776Z",
     "iopub.status.idle": "2025-01-27T17:14:25.456552Z",
     "shell.execute_reply": "2025-01-27T17:14:25.456552Z",
     "shell.execute_reply.started": "2025-01-27T17:14:25.451776Z"
    }
   },
   "outputs": [
    {
     "data": {
      "text/plain": [
       "CustomerID      0\n",
       "CustomerName    0\n",
       "Region          0\n",
       "SignupDate      0\n",
       "dtype: int64"
      ]
     },
     "execution_count": 7,
     "metadata": {},
     "output_type": "execute_result"
    }
   ],
   "source": [
    "cust.isnull().sum()"
   ]
  },
  {
   "cell_type": "code",
   "execution_count": 8,
   "id": "4ec73fe6-90d7-42e2-ba5e-2194ae49be4c",
   "metadata": {
    "execution": {
     "iopub.execute_input": "2025-01-27T17:14:25.457793Z",
     "iopub.status.busy": "2025-01-27T17:14:25.457793Z",
     "iopub.status.idle": "2025-01-27T17:14:25.466526Z",
     "shell.execute_reply": "2025-01-27T17:14:25.466526Z",
     "shell.execute_reply.started": "2025-01-27T17:14:25.457793Z"
    }
   },
   "outputs": [
    {
     "data": {
      "text/plain": [
       "ProductID      0\n",
       "ProductName    0\n",
       "Category       0\n",
       "Price          0\n",
       "dtype: int64"
      ]
     },
     "execution_count": 8,
     "metadata": {},
     "output_type": "execute_result"
    }
   ],
   "source": [
    "prod.isnull().sum()"
   ]
  },
  {
   "cell_type": "code",
   "execution_count": 9,
   "id": "da221712-4294-49f9-9235-65f206895992",
   "metadata": {
    "execution": {
     "iopub.execute_input": "2025-01-27T17:14:25.467712Z",
     "iopub.status.busy": "2025-01-27T17:14:25.466526Z",
     "iopub.status.idle": "2025-01-27T17:14:25.471836Z",
     "shell.execute_reply": "2025-01-27T17:14:25.471770Z",
     "shell.execute_reply.started": "2025-01-27T17:14:25.467712Z"
    }
   },
   "outputs": [
    {
     "data": {
      "text/plain": [
       "TransactionID      0\n",
       "CustomerID         0\n",
       "ProductID          0\n",
       "TransactionDate    0\n",
       "Quantity           0\n",
       "TotalValue         0\n",
       "Price              0\n",
       "dtype: int64"
      ]
     },
     "execution_count": 9,
     "metadata": {},
     "output_type": "execute_result"
    }
   ],
   "source": [
    "tran.isnull().sum()"
   ]
  },
  {
   "cell_type": "code",
   "execution_count": 10,
   "id": "d663bded-241d-4ae8-8073-717400db1785",
   "metadata": {
    "execution": {
     "iopub.execute_input": "2025-01-27T17:14:25.472885Z",
     "iopub.status.busy": "2025-01-27T17:14:25.471836Z",
     "iopub.status.idle": "2025-01-27T17:14:25.480009Z",
     "shell.execute_reply": "2025-01-27T17:14:25.479000Z",
     "shell.execute_reply.started": "2025-01-27T17:14:25.472885Z"
    }
   },
   "outputs": [
    {
     "name": "stdout",
     "output_type": "stream",
     "text": [
      "Cutomers Shape : (200, 4) \n",
      "Products Shape : (100, 4) \n",
      "Transaction Shape : (1000, 7)\n"
     ]
    }
   ],
   "source": [
    "print(f\"Cutomers Shape : {cust.shape} \\nProducts Shape : {prod.shape} \\nTransaction Shape : {tran.shape}\")"
   ]
  },
  {
   "cell_type": "markdown",
   "id": "94086ba5-9036-4580-b7d1-35b13b24040d",
   "metadata": {},
   "source": [
    "## `No NULLs, We are good to go`"
   ]
  },
  {
   "cell_type": "markdown",
   "id": "78a681fc-e123-4d55-a539-2bc50c5e9250",
   "metadata": {},
   "source": [
    "#\n",
    "---\n",
    "# Checking the datatypes correctness"
   ]
  },
  {
   "cell_type": "code",
   "execution_count": 11,
   "id": "32fc8eff-b45b-44dc-a9f7-e63066492804",
   "metadata": {
    "execution": {
     "iopub.execute_input": "2025-01-27T17:14:25.483888Z",
     "iopub.status.busy": "2025-01-27T17:14:25.483888Z",
     "iopub.status.idle": "2025-01-27T17:14:25.490780Z",
     "shell.execute_reply": "2025-01-27T17:14:25.490780Z",
     "shell.execute_reply.started": "2025-01-27T17:14:25.483888Z"
    }
   },
   "outputs": [
    {
     "data": {
      "text/plain": [
       "CustomerID      object\n",
       "CustomerName    object\n",
       "Region          object\n",
       "SignupDate      object\n",
       "dtype: object"
      ]
     },
     "execution_count": 11,
     "metadata": {},
     "output_type": "execute_result"
    }
   ],
   "source": [
    "cust.dtypes"
   ]
  },
  {
   "cell_type": "code",
   "execution_count": 12,
   "id": "588838ea-f815-44f0-8fa6-8617e165b5f4",
   "metadata": {
    "execution": {
     "iopub.execute_input": "2025-01-27T17:14:25.494774Z",
     "iopub.status.busy": "2025-01-27T17:14:25.493762Z",
     "iopub.status.idle": "2025-01-27T17:14:25.506799Z",
     "shell.execute_reply": "2025-01-27T17:14:25.505697Z",
     "shell.execute_reply.started": "2025-01-27T17:14:25.494774Z"
    }
   },
   "outputs": [],
   "source": [
    "cust['SignupDate'] = pd.to_datetime(cust['SignupDate'])"
   ]
  },
  {
   "cell_type": "code",
   "execution_count": 13,
   "id": "04acf219-e7dc-4152-ad5a-5de8938fccc0",
   "metadata": {
    "execution": {
     "iopub.execute_input": "2025-01-27T17:14:25.508805Z",
     "iopub.status.busy": "2025-01-27T17:14:25.507808Z",
     "iopub.status.idle": "2025-01-27T17:14:25.515800Z",
     "shell.execute_reply": "2025-01-27T17:14:25.514743Z",
     "shell.execute_reply.started": "2025-01-27T17:14:25.508805Z"
    }
   },
   "outputs": [
    {
     "data": {
      "text/plain": [
       "CustomerID              object\n",
       "CustomerName            object\n",
       "Region                  object\n",
       "SignupDate      datetime64[ns]\n",
       "dtype: object"
      ]
     },
     "execution_count": 13,
     "metadata": {},
     "output_type": "execute_result"
    }
   ],
   "source": [
    "cust.dtypes"
   ]
  },
  {
   "cell_type": "code",
   "execution_count": 14,
   "id": "56fa8582-6df4-4b25-aae2-a2bfe0ede2ec",
   "metadata": {
    "execution": {
     "iopub.execute_input": "2025-01-27T17:14:25.516800Z",
     "iopub.status.busy": "2025-01-27T17:14:25.515800Z",
     "iopub.status.idle": "2025-01-27T17:14:25.522826Z",
     "shell.execute_reply": "2025-01-27T17:14:25.522826Z",
     "shell.execute_reply.started": "2025-01-27T17:14:25.516800Z"
    }
   },
   "outputs": [
    {
     "data": {
      "text/plain": [
       "ProductID       object\n",
       "ProductName     object\n",
       "Category        object\n",
       "Price          float64\n",
       "dtype: object"
      ]
     },
     "execution_count": 14,
     "metadata": {},
     "output_type": "execute_result"
    }
   ],
   "source": [
    "prod.dtypes"
   ]
  },
  {
   "cell_type": "code",
   "execution_count": 15,
   "id": "aee907ec-d8b7-4853-9b18-9745e1d081bb",
   "metadata": {
    "execution": {
     "iopub.execute_input": "2025-01-27T17:14:25.524833Z",
     "iopub.status.busy": "2025-01-27T17:14:25.523834Z",
     "iopub.status.idle": "2025-01-27T17:14:25.535033Z",
     "shell.execute_reply": "2025-01-27T17:14:25.535033Z",
     "shell.execute_reply.started": "2025-01-27T17:14:25.524833Z"
    }
   },
   "outputs": [
    {
     "data": {
      "text/plain": [
       "TransactionID       object\n",
       "CustomerID          object\n",
       "ProductID           object\n",
       "TransactionDate     object\n",
       "Quantity             int64\n",
       "TotalValue         float64\n",
       "Price              float64\n",
       "dtype: object"
      ]
     },
     "execution_count": 15,
     "metadata": {},
     "output_type": "execute_result"
    }
   ],
   "source": [
    "tran.dtypes"
   ]
  },
  {
   "cell_type": "code",
   "execution_count": 16,
   "id": "d3d87770-2776-4fe3-8206-6d6f7fa70af7",
   "metadata": {
    "execution": {
     "iopub.execute_input": "2025-01-27T17:14:25.537378Z",
     "iopub.status.busy": "2025-01-27T17:14:25.537378Z",
     "iopub.status.idle": "2025-01-27T17:14:25.545469Z",
     "shell.execute_reply": "2025-01-27T17:14:25.544081Z",
     "shell.execute_reply.started": "2025-01-27T17:14:25.537378Z"
    }
   },
   "outputs": [],
   "source": [
    "tran['TransactionDate'] = pd.to_datetime(tran['TransactionDate'])"
   ]
  },
  {
   "cell_type": "code",
   "execution_count": 17,
   "id": "2a15cef4-93e9-49a6-97aa-3809c3f31b76",
   "metadata": {
    "execution": {
     "iopub.execute_input": "2025-01-27T17:14:25.546540Z",
     "iopub.status.busy": "2025-01-27T17:14:25.546540Z",
     "iopub.status.idle": "2025-01-27T17:14:25.554452Z",
     "shell.execute_reply": "2025-01-27T17:14:25.554452Z",
     "shell.execute_reply.started": "2025-01-27T17:14:25.546540Z"
    }
   },
   "outputs": [
    {
     "data": {
      "text/plain": [
       "TransactionID              object\n",
       "CustomerID                 object\n",
       "ProductID                  object\n",
       "TransactionDate    datetime64[ns]\n",
       "Quantity                    int64\n",
       "TotalValue                float64\n",
       "Price                     float64\n",
       "dtype: object"
      ]
     },
     "execution_count": 17,
     "metadata": {},
     "output_type": "execute_result"
    }
   ],
   "source": [
    "tran.dtypes"
   ]
  },
  {
   "cell_type": "markdown",
   "id": "6ee3e745-1e89-4663-ace6-6f598fb3b1f9",
   "metadata": {
    "execution": {
     "iopub.execute_input": "2025-01-27T10:31:38.860650Z",
     "iopub.status.busy": "2025-01-27T10:31:38.859650Z",
     "iopub.status.idle": "2025-01-27T10:31:38.865001Z",
     "shell.execute_reply": "2025-01-27T10:31:38.863985Z",
     "shell.execute_reply.started": "2025-01-27T10:31:38.860650Z"
    }
   },
   "source": [
    "## `The Date features in the Customers and Transaction tables are of objects, I reassigned to datetime`"
   ]
  },
  {
   "cell_type": "markdown",
   "id": "ecc1bd4f-ed2a-48bc-9aab-5e1c6229bdc5",
   "metadata": {},
   "source": [
    "#\n",
    "---\n",
    "# Merging the three tables into single"
   ]
  },
  {
   "cell_type": "code",
   "execution_count": 18,
   "id": "df17c4b1-108b-4dcf-9a65-e8f7bf63d706",
   "metadata": {
    "execution": {
     "iopub.execute_input": "2025-01-27T17:14:25.556550Z",
     "iopub.status.busy": "2025-01-27T17:14:25.555547Z",
     "iopub.status.idle": "2025-01-27T17:14:25.566322Z",
     "shell.execute_reply": "2025-01-27T17:14:25.566322Z",
     "shell.execute_reply.started": "2025-01-27T17:14:25.556550Z"
    }
   },
   "outputs": [],
   "source": [
    "df = pd.merge(left=tran, right=cust, on=\"CustomerID\", how=\"left\")"
   ]
  },
  {
   "cell_type": "code",
   "execution_count": 19,
   "id": "55ad2fb2-f6c2-4e97-a3c5-cf1144650c9e",
   "metadata": {
    "execution": {
     "iopub.execute_input": "2025-01-27T17:14:25.569141Z",
     "iopub.status.busy": "2025-01-27T17:14:25.566322Z",
     "iopub.status.idle": "2025-01-27T17:14:25.584452Z",
     "shell.execute_reply": "2025-01-27T17:14:25.583911Z",
     "shell.execute_reply.started": "2025-01-27T17:14:25.569141Z"
    }
   },
   "outputs": [],
   "source": [
    "df = pd.merge(left=df, right=prod, on=[\"ProductID\", \"Price\"], how=\"left\")"
   ]
  },
  {
   "cell_type": "code",
   "execution_count": 20,
   "id": "4bbb07cb-8b48-46e5-acf0-f0d6f46e2965",
   "metadata": {
    "execution": {
     "iopub.execute_input": "2025-01-27T17:14:25.587109Z",
     "iopub.status.busy": "2025-01-27T17:14:25.584452Z",
     "iopub.status.idle": "2025-01-27T17:14:25.603547Z",
     "shell.execute_reply": "2025-01-27T17:14:25.603547Z",
     "shell.execute_reply.started": "2025-01-27T17:14:25.587109Z"
    }
   },
   "outputs": [
    {
     "data": {
      "text/html": [
       "<div>\n",
       "<style scoped>\n",
       "    .dataframe tbody tr th:only-of-type {\n",
       "        vertical-align: middle;\n",
       "    }\n",
       "\n",
       "    .dataframe tbody tr th {\n",
       "        vertical-align: top;\n",
       "    }\n",
       "\n",
       "    .dataframe thead th {\n",
       "        text-align: right;\n",
       "    }\n",
       "</style>\n",
       "<table border=\"1\" class=\"dataframe\">\n",
       "  <thead>\n",
       "    <tr style=\"text-align: right;\">\n",
       "      <th></th>\n",
       "      <th>TransactionID</th>\n",
       "      <th>CustomerID</th>\n",
       "      <th>ProductID</th>\n",
       "      <th>TransactionDate</th>\n",
       "      <th>Quantity</th>\n",
       "      <th>TotalValue</th>\n",
       "      <th>Price</th>\n",
       "      <th>CustomerName</th>\n",
       "      <th>Region</th>\n",
       "      <th>SignupDate</th>\n",
       "      <th>ProductName</th>\n",
       "      <th>Category</th>\n",
       "    </tr>\n",
       "  </thead>\n",
       "  <tbody>\n",
       "    <tr>\n",
       "      <th>0</th>\n",
       "      <td>T00001</td>\n",
       "      <td>C0199</td>\n",
       "      <td>P067</td>\n",
       "      <td>2024-08-25 12:38:23</td>\n",
       "      <td>1</td>\n",
       "      <td>300.68</td>\n",
       "      <td>300.68</td>\n",
       "      <td>Andrea Jenkins</td>\n",
       "      <td>Europe</td>\n",
       "      <td>2022-12-03</td>\n",
       "      <td>ComfortLiving Bluetooth Speaker</td>\n",
       "      <td>Electronics</td>\n",
       "    </tr>\n",
       "    <tr>\n",
       "      <th>1</th>\n",
       "      <td>T00112</td>\n",
       "      <td>C0146</td>\n",
       "      <td>P067</td>\n",
       "      <td>2024-05-27 22:23:54</td>\n",
       "      <td>1</td>\n",
       "      <td>300.68</td>\n",
       "      <td>300.68</td>\n",
       "      <td>Brittany Harvey</td>\n",
       "      <td>Asia</td>\n",
       "      <td>2024-09-04</td>\n",
       "      <td>ComfortLiving Bluetooth Speaker</td>\n",
       "      <td>Electronics</td>\n",
       "    </tr>\n",
       "    <tr>\n",
       "      <th>2</th>\n",
       "      <td>T00166</td>\n",
       "      <td>C0127</td>\n",
       "      <td>P067</td>\n",
       "      <td>2024-04-25 07:38:55</td>\n",
       "      <td>1</td>\n",
       "      <td>300.68</td>\n",
       "      <td>300.68</td>\n",
       "      <td>Kathryn Stevens</td>\n",
       "      <td>Europe</td>\n",
       "      <td>2024-04-04</td>\n",
       "      <td>ComfortLiving Bluetooth Speaker</td>\n",
       "      <td>Electronics</td>\n",
       "    </tr>\n",
       "    <tr>\n",
       "      <th>3</th>\n",
       "      <td>T00272</td>\n",
       "      <td>C0087</td>\n",
       "      <td>P067</td>\n",
       "      <td>2024-03-26 22:55:37</td>\n",
       "      <td>2</td>\n",
       "      <td>601.36</td>\n",
       "      <td>300.68</td>\n",
       "      <td>Travis Campbell</td>\n",
       "      <td>South America</td>\n",
       "      <td>2024-04-11</td>\n",
       "      <td>ComfortLiving Bluetooth Speaker</td>\n",
       "      <td>Electronics</td>\n",
       "    </tr>\n",
       "    <tr>\n",
       "      <th>4</th>\n",
       "      <td>T00363</td>\n",
       "      <td>C0070</td>\n",
       "      <td>P067</td>\n",
       "      <td>2024-03-21 15:10:10</td>\n",
       "      <td>3</td>\n",
       "      <td>902.04</td>\n",
       "      <td>300.68</td>\n",
       "      <td>Timothy Perez</td>\n",
       "      <td>Europe</td>\n",
       "      <td>2022-03-15</td>\n",
       "      <td>ComfortLiving Bluetooth Speaker</td>\n",
       "      <td>Electronics</td>\n",
       "    </tr>\n",
       "  </tbody>\n",
       "</table>\n",
       "</div>"
      ],
      "text/plain": [
       "  TransactionID CustomerID ProductID     TransactionDate  Quantity  \\\n",
       "0        T00001      C0199      P067 2024-08-25 12:38:23         1   \n",
       "1        T00112      C0146      P067 2024-05-27 22:23:54         1   \n",
       "2        T00166      C0127      P067 2024-04-25 07:38:55         1   \n",
       "3        T00272      C0087      P067 2024-03-26 22:55:37         2   \n",
       "4        T00363      C0070      P067 2024-03-21 15:10:10         3   \n",
       "\n",
       "   TotalValue   Price     CustomerName         Region SignupDate  \\\n",
       "0      300.68  300.68   Andrea Jenkins         Europe 2022-12-03   \n",
       "1      300.68  300.68  Brittany Harvey           Asia 2024-09-04   \n",
       "2      300.68  300.68  Kathryn Stevens         Europe 2024-04-04   \n",
       "3      601.36  300.68  Travis Campbell  South America 2024-04-11   \n",
       "4      902.04  300.68    Timothy Perez         Europe 2022-03-15   \n",
       "\n",
       "                       ProductName     Category  \n",
       "0  ComfortLiving Bluetooth Speaker  Electronics  \n",
       "1  ComfortLiving Bluetooth Speaker  Electronics  \n",
       "2  ComfortLiving Bluetooth Speaker  Electronics  \n",
       "3  ComfortLiving Bluetooth Speaker  Electronics  \n",
       "4  ComfortLiving Bluetooth Speaker  Electronics  "
      ]
     },
     "execution_count": 20,
     "metadata": {},
     "output_type": "execute_result"
    }
   ],
   "source": [
    "df.head()"
   ]
  },
  {
   "cell_type": "code",
   "execution_count": 21,
   "id": "d9b744c0-a16a-471c-8939-ecede168b95d",
   "metadata": {
    "execution": {
     "iopub.execute_input": "2025-01-27T17:14:25.605684Z",
     "iopub.status.busy": "2025-01-27T17:14:25.604554Z",
     "iopub.status.idle": "2025-01-27T17:14:25.613918Z",
     "shell.execute_reply": "2025-01-27T17:14:25.613918Z",
     "shell.execute_reply.started": "2025-01-27T17:14:25.605684Z"
    }
   },
   "outputs": [
    {
     "data": {
      "text/plain": [
       "TransactionID      0\n",
       "CustomerID         0\n",
       "ProductID          0\n",
       "TransactionDate    0\n",
       "Quantity           0\n",
       "TotalValue         0\n",
       "Price              0\n",
       "CustomerName       0\n",
       "Region             0\n",
       "SignupDate         0\n",
       "ProductName        0\n",
       "Category           0\n",
       "dtype: int64"
      ]
     },
     "execution_count": 21,
     "metadata": {},
     "output_type": "execute_result"
    }
   ],
   "source": [
    "df.isnull().sum()"
   ]
  },
  {
   "cell_type": "markdown",
   "id": "39542e37-ae3f-4789-a220-19c4867a038f",
   "metadata": {},
   "source": [
    "#\n",
    "---\n",
    "# Checking Outliers"
   ]
  },
  {
   "cell_type": "code",
   "execution_count": 22,
   "id": "300bacea-5e79-413d-810a-55bb449944a9",
   "metadata": {
    "execution": {
     "iopub.execute_input": "2025-01-27T17:14:25.616927Z",
     "iopub.status.busy": "2025-01-27T17:14:25.615919Z",
     "iopub.status.idle": "2025-01-27T17:14:25.946690Z",
     "shell.execute_reply": "2025-01-27T17:14:25.946690Z",
     "shell.execute_reply.started": "2025-01-27T17:14:25.616927Z"
    }
   },
   "outputs": [
    {
     "data": {
      "text/plain": [
       "Text(0.5, 1.0, 'Price boxplot')"
      ]
     },
     "execution_count": 22,
     "metadata": {},
     "output_type": "execute_result"
    },
    {
     "data": {
      "image/png": "[encoded data removed]",
      "text/plain": [
       "<Figure size 2000x500 with 2 Axes>"
      ]
     },
     "metadata": {},
     "output_type": "display_data"
    }
   ],
   "source": [
    "plt.figure(figsize=(20, 5))\n",
    "\n",
    "plt.subplot(1, 2, 1)\n",
    "sns.boxplot(df[\"TotalValue\"], color=\"#F2506E\")\n",
    "plt.title(\"Total Values boxplot\", fontdict={\"size\" : 20})\n",
    "\n",
    "plt.subplot(1, 2, 2)\n",
    "sns.boxplot(df[\"Price\"], color=\"#F2506E\")\n",
    "plt.title(\"Price boxplot\", fontdict={\"size\" : 20})"
   ]
  },
  {
   "cell_type": "markdown",
   "id": "6f0371c0-9e61-49b0-b2b6-da09260b5e39",
   "metadata": {},
   "source": [
    "## `No Outliers in numeric columns`"
   ]
  },
  {
   "cell_type": "markdown",
   "id": "45130519-b64e-4ce5-b106-ab2a20591cf0",
   "metadata": {},
   "source": [
    "#\n",
    "---\n",
    "# Creating New Feature"
   ]
  },
  {
   "cell_type": "code",
   "execution_count": 23,
   "id": "b0eb72f8-b4d4-49f9-b77a-7bd996924eb6",
   "metadata": {
    "execution": {
     "iopub.execute_input": "2025-01-27T17:14:25.946690Z",
     "iopub.status.busy": "2025-01-27T17:14:25.946690Z",
     "iopub.status.idle": "2025-01-27T17:14:25.966004Z",
     "shell.execute_reply": "2025-01-27T17:14:25.964884Z",
     "shell.execute_reply.started": "2025-01-27T17:14:25.946690Z"
    }
   },
   "outputs": [
    {
     "data": {
      "text/html": [
       "<div>\n",
       "<style scoped>\n",
       "    .dataframe tbody tr th:only-of-type {\n",
       "        vertical-align: middle;\n",
       "    }\n",
       "\n",
       "    .dataframe tbody tr th {\n",
       "        vertical-align: top;\n",
       "    }\n",
       "\n",
       "    .dataframe thead th {\n",
       "        text-align: right;\n",
       "    }\n",
       "</style>\n",
       "<table border=\"1\" class=\"dataframe\">\n",
       "  <thead>\n",
       "    <tr style=\"text-align: right;\">\n",
       "      <th></th>\n",
       "      <th>TransactionID</th>\n",
       "      <th>CustomerID</th>\n",
       "      <th>ProductID</th>\n",
       "      <th>TransactionDate</th>\n",
       "      <th>Quantity</th>\n",
       "      <th>TotalValue</th>\n",
       "      <th>Price</th>\n",
       "      <th>CustomerName</th>\n",
       "      <th>Region</th>\n",
       "      <th>SignupDate</th>\n",
       "      <th>ProductName</th>\n",
       "      <th>Category</th>\n",
       "    </tr>\n",
       "  </thead>\n",
       "  <tbody>\n",
       "    <tr>\n",
       "      <th>0</th>\n",
       "      <td>T00001</td>\n",
       "      <td>C0199</td>\n",
       "      <td>P067</td>\n",
       "      <td>2024-08-25 12:38:23</td>\n",
       "      <td>1</td>\n",
       "      <td>300.68</td>\n",
       "      <td>300.68</td>\n",
       "      <td>Andrea Jenkins</td>\n",
       "      <td>Europe</td>\n",
       "      <td>2022-12-03</td>\n",
       "      <td>ComfortLiving Bluetooth Speaker</td>\n",
       "      <td>Electronics</td>\n",
       "    </tr>\n",
       "    <tr>\n",
       "      <th>1</th>\n",
       "      <td>T00112</td>\n",
       "      <td>C0146</td>\n",
       "      <td>P067</td>\n",
       "      <td>2024-05-27 22:23:54</td>\n",
       "      <td>1</td>\n",
       "      <td>300.68</td>\n",
       "      <td>300.68</td>\n",
       "      <td>Brittany Harvey</td>\n",
       "      <td>Asia</td>\n",
       "      <td>2024-09-04</td>\n",
       "      <td>ComfortLiving Bluetooth Speaker</td>\n",
       "      <td>Electronics</td>\n",
       "    </tr>\n",
       "    <tr>\n",
       "      <th>2</th>\n",
       "      <td>T00166</td>\n",
       "      <td>C0127</td>\n",
       "      <td>P067</td>\n",
       "      <td>2024-04-25 07:38:55</td>\n",
       "      <td>1</td>\n",
       "      <td>300.68</td>\n",
       "      <td>300.68</td>\n",
       "      <td>Kathryn Stevens</td>\n",
       "      <td>Europe</td>\n",
       "      <td>2024-04-04</td>\n",
       "      <td>ComfortLiving Bluetooth Speaker</td>\n",
       "      <td>Electronics</td>\n",
       "    </tr>\n",
       "    <tr>\n",
       "      <th>3</th>\n",
       "      <td>T00272</td>\n",
       "      <td>C0087</td>\n",
       "      <td>P067</td>\n",
       "      <td>2024-03-26 22:55:37</td>\n",
       "      <td>2</td>\n",
       "      <td>601.36</td>\n",
       "      <td>300.68</td>\n",
       "      <td>Travis Campbell</td>\n",
       "      <td>South America</td>\n",
       "      <td>2024-04-11</td>\n",
       "      <td>ComfortLiving Bluetooth Speaker</td>\n",
       "      <td>Electronics</td>\n",
       "    </tr>\n",
       "    <tr>\n",
       "      <th>4</th>\n",
       "      <td>T00363</td>\n",
       "      <td>C0070</td>\n",
       "      <td>P067</td>\n",
       "      <td>2024-03-21 15:10:10</td>\n",
       "      <td>3</td>\n",
       "      <td>902.04</td>\n",
       "      <td>300.68</td>\n",
       "      <td>Timothy Perez</td>\n",
       "      <td>Europe</td>\n",
       "      <td>2022-03-15</td>\n",
       "      <td>ComfortLiving Bluetooth Speaker</td>\n",
       "      <td>Electronics</td>\n",
       "    </tr>\n",
       "  </tbody>\n",
       "</table>\n",
       "</div>"
      ],
      "text/plain": [
       "  TransactionID CustomerID ProductID     TransactionDate  Quantity  \\\n",
       "0        T00001      C0199      P067 2024-08-25 12:38:23         1   \n",
       "1        T00112      C0146      P067 2024-05-27 22:23:54         1   \n",
       "2        T00166      C0127      P067 2024-04-25 07:38:55         1   \n",
       "3        T00272      C0087      P067 2024-03-26 22:55:37         2   \n",
       "4        T00363      C0070      P067 2024-03-21 15:10:10         3   \n",
       "\n",
       "   TotalValue   Price     CustomerName         Region SignupDate  \\\n",
       "0      300.68  300.68   Andrea Jenkins         Europe 2022-12-03   \n",
       "1      300.68  300.68  Brittany Harvey           Asia 2024-09-04   \n",
       "2      300.68  300.68  Kathryn Stevens         Europe 2024-04-04   \n",
       "3      601.36  300.68  Travis Campbell  South America 2024-04-11   \n",
       "4      902.04  300.68    Timothy Perez         Europe 2022-03-15   \n",
       "\n",
       "                       ProductName     Category  \n",
       "0  ComfortLiving Bluetooth Speaker  Electronics  \n",
       "1  ComfortLiving Bluetooth Speaker  Electronics  \n",
       "2  ComfortLiving Bluetooth Speaker  Electronics  \n",
       "3  ComfortLiving Bluetooth Speaker  Electronics  \n",
       "4  ComfortLiving Bluetooth Speaker  Electronics  "
      ]
     },
     "execution_count": 23,
     "metadata": {},
     "output_type": "execute_result"
    }
   ],
   "source": [
    "df.head()"
   ]
  },
  {
   "cell_type": "markdown",
   "id": "c40633ed-9605-4153-a1fa-c87c8285511c",
   "metadata": {},
   "source": [
    "### Creating RFM (Recency, Frequency, and Monetary) on CustomerID"
   ]
  },
  {
   "cell_type": "code",
   "execution_count": 24,
   "id": "14037c5e-acae-4867-b8f0-486a19c38169",
   "metadata": {
    "execution": {
     "iopub.execute_input": "2025-01-27T17:14:25.968570Z",
     "iopub.status.busy": "2025-01-27T17:14:25.967256Z",
     "iopub.status.idle": "2025-01-27T17:14:25.976212Z",
     "shell.execute_reply": "2025-01-27T17:14:25.976212Z",
     "shell.execute_reply.started": "2025-01-27T17:14:25.968570Z"
    }
   },
   "outputs": [],
   "source": [
    "df[\"Recency from Today\"] = (pd.Timestamp.today() - df.groupby(by=\"CustomerID\")[\"TransactionDate\"].transform(\"max\")).dt.days"
   ]
  },
  {
   "cell_type": "code",
   "execution_count": 25,
   "id": "924c43a2-0fc6-4b94-b19f-96a3f24b6548",
   "metadata": {
    "execution": {
     "iopub.execute_input": "2025-01-27T17:14:25.977887Z",
     "iopub.status.busy": "2025-01-27T17:14:25.977887Z",
     "iopub.status.idle": "2025-01-27T17:14:25.985853Z",
     "shell.execute_reply": "2025-01-27T17:14:25.984807Z",
     "shell.execute_reply.started": "2025-01-27T17:14:25.977887Z"
    }
   },
   "outputs": [],
   "source": [
    "df[\"Frequency\"] = df.groupby(by=\"CustomerID\")[\"TransactionID\"].transform(\"count\")"
   ]
  },
  {
   "cell_type": "code",
   "execution_count": 26,
   "id": "d20d9c5b-7c10-4f0b-b502-4a49cb853ab8",
   "metadata": {
    "execution": {
     "iopub.execute_input": "2025-01-27T17:14:25.987862Z",
     "iopub.status.busy": "2025-01-27T17:14:25.986863Z",
     "iopub.status.idle": "2025-01-27T17:14:25.993342Z",
     "shell.execute_reply": "2025-01-27T17:14:25.993342Z",
     "shell.execute_reply.started": "2025-01-27T17:14:25.987862Z"
    }
   },
   "outputs": [],
   "source": [
    "df[\"Monetary\"] = df.groupby(by=\"CustomerID\")[\"TotalValue\"].transform(\"sum\")"
   ]
  },
  {
   "cell_type": "code",
   "execution_count": 27,
   "id": "d7598ac2-dd6f-4fe1-a555-d244cdd1ddce",
   "metadata": {
    "execution": {
     "iopub.execute_input": "2025-01-27T17:14:25.994580Z",
     "iopub.status.busy": "2025-01-27T17:14:25.994580Z",
     "iopub.status.idle": "2025-01-27T17:14:26.014272Z",
     "shell.execute_reply": "2025-01-27T17:14:26.014272Z",
     "shell.execute_reply.started": "2025-01-27T17:14:25.994580Z"
    }
   },
   "outputs": [
    {
     "data": {
      "text/html": [
       "<div>\n",
       "<style scoped>\n",
       "    .dataframe tbody tr th:only-of-type {\n",
       "        vertical-align: middle;\n",
       "    }\n",
       "\n",
       "    .dataframe tbody tr th {\n",
       "        vertical-align: top;\n",
       "    }\n",
       "\n",
       "    .dataframe thead th {\n",
       "        text-align: right;\n",
       "    }\n",
       "</style>\n",
       "<table border=\"1\" class=\"dataframe\">\n",
       "  <thead>\n",
       "    <tr style=\"text-align: right;\">\n",
       "      <th></th>\n",
       "      <th>TransactionID</th>\n",
       "      <th>CustomerID</th>\n",
       "      <th>ProductID</th>\n",
       "      <th>TransactionDate</th>\n",
       "      <th>Quantity</th>\n",
       "      <th>TotalValue</th>\n",
       "      <th>Price</th>\n",
       "      <th>CustomerName</th>\n",
       "      <th>Region</th>\n",
       "      <th>SignupDate</th>\n",
       "      <th>ProductName</th>\n",
       "      <th>Category</th>\n",
       "      <th>Recency from Today</th>\n",
       "      <th>Frequency</th>\n",
       "      <th>Monetary</th>\n",
       "    </tr>\n",
       "  </thead>\n",
       "  <tbody>\n",
       "    <tr>\n",
       "      <th>0</th>\n",
       "      <td>T00001</td>\n",
       "      <td>C0199</td>\n",
       "      <td>P067</td>\n",
       "      <td>2024-08-25 12:38:23</td>\n",
       "      <td>1</td>\n",
       "      <td>300.68</td>\n",
       "      <td>300.68</td>\n",
       "      <td>Andrea Jenkins</td>\n",
       "      <td>Europe</td>\n",
       "      <td>2022-12-03</td>\n",
       "      <td>ComfortLiving Bluetooth Speaker</td>\n",
       "      <td>Electronics</td>\n",
       "      <td>93</td>\n",
       "      <td>4</td>\n",
       "      <td>1979.28</td>\n",
       "    </tr>\n",
       "    <tr>\n",
       "      <th>1</th>\n",
       "      <td>T00112</td>\n",
       "      <td>C0146</td>\n",
       "      <td>P067</td>\n",
       "      <td>2024-05-27 22:23:54</td>\n",
       "      <td>1</td>\n",
       "      <td>300.68</td>\n",
       "      <td>300.68</td>\n",
       "      <td>Brittany Harvey</td>\n",
       "      <td>Asia</td>\n",
       "      <td>2024-09-04</td>\n",
       "      <td>ComfortLiving Bluetooth Speaker</td>\n",
       "      <td>Electronics</td>\n",
       "      <td>40</td>\n",
       "      <td>4</td>\n",
       "      <td>2570.80</td>\n",
       "    </tr>\n",
       "    <tr>\n",
       "      <th>2</th>\n",
       "      <td>T00166</td>\n",
       "      <td>C0127</td>\n",
       "      <td>P067</td>\n",
       "      <td>2024-04-25 07:38:55</td>\n",
       "      <td>1</td>\n",
       "      <td>300.68</td>\n",
       "      <td>300.68</td>\n",
       "      <td>Kathryn Stevens</td>\n",
       "      <td>Europe</td>\n",
       "      <td>2024-04-04</td>\n",
       "      <td>ComfortLiving Bluetooth Speaker</td>\n",
       "      <td>Electronics</td>\n",
       "      <td>129</td>\n",
       "      <td>6</td>\n",
       "      <td>3232.88</td>\n",
       "    </tr>\n",
       "    <tr>\n",
       "      <th>3</th>\n",
       "      <td>T00272</td>\n",
       "      <td>C0087</td>\n",
       "      <td>P067</td>\n",
       "      <td>2024-03-26 22:55:37</td>\n",
       "      <td>2</td>\n",
       "      <td>601.36</td>\n",
       "      <td>300.68</td>\n",
       "      <td>Travis Campbell</td>\n",
       "      <td>South America</td>\n",
       "      <td>2024-04-11</td>\n",
       "      <td>ComfortLiving Bluetooth Speaker</td>\n",
       "      <td>Electronics</td>\n",
       "      <td>135</td>\n",
       "      <td>7</td>\n",
       "      <td>6604.23</td>\n",
       "    </tr>\n",
       "    <tr>\n",
       "      <th>4</th>\n",
       "      <td>T00363</td>\n",
       "      <td>C0070</td>\n",
       "      <td>P067</td>\n",
       "      <td>2024-03-21 15:10:10</td>\n",
       "      <td>3</td>\n",
       "      <td>902.04</td>\n",
       "      <td>300.68</td>\n",
       "      <td>Timothy Perez</td>\n",
       "      <td>Europe</td>\n",
       "      <td>2022-03-15</td>\n",
       "      <td>ComfortLiving Bluetooth Speaker</td>\n",
       "      <td>Electronics</td>\n",
       "      <td>112</td>\n",
       "      <td>4</td>\n",
       "      <td>3125.49</td>\n",
       "    </tr>\n",
       "  </tbody>\n",
       "</table>\n",
       "</div>"
      ],
      "text/plain": [
       "  TransactionID CustomerID ProductID     TransactionDate  Quantity  \\\n",
       "0        T00001      C0199      P067 2024-08-25 12:38:23         1   \n",
       "1        T00112      C0146      P067 2024-05-27 22:23:54         1   \n",
       "2        T00166      C0127      P067 2024-04-25 07:38:55         1   \n",
       "3        T00272      C0087      P067 2024-03-26 22:55:37         2   \n",
       "4        T00363      C0070      P067 2024-03-21 15:10:10         3   \n",
       "\n",
       "   TotalValue   Price     CustomerName         Region SignupDate  \\\n",
       "0      300.68  300.68   Andrea Jenkins         Europe 2022-12-03   \n",
       "1      300.68  300.68  Brittany Harvey           Asia 2024-09-04   \n",
       "2      300.68  300.68  Kathryn Stevens         Europe 2024-04-04   \n",
       "3      601.36  300.68  Travis Campbell  South America 2024-04-11   \n",
       "4      902.04  300.68    Timothy Perez         Europe 2022-03-15   \n",
       "\n",
       "                       ProductName     Category  Recency from Today  \\\n",
       "0  ComfortLiving Bluetooth Speaker  Electronics                  93   \n",
       "1  ComfortLiving Bluetooth Speaker  Electronics                  40   \n",
       "2  ComfortLiving Bluetooth Speaker  Electronics                 129   \n",
       "3  ComfortLiving Bluetooth Speaker  Electronics                 135   \n",
       "4  ComfortLiving Bluetooth Speaker  Electronics                 112   \n",
       "\n",
       "   Frequency  Monetary  \n",
       "0          4   1979.28  \n",
       "1          4   2570.80  \n",
       "2          6   3232.88  \n",
       "3          7   6604.23  \n",
       "4          4   3125.49  "
      ]
     },
     "execution_count": 27,
     "metadata": {},
     "output_type": "execute_result"
    }
   ],
   "source": [
    "df.head()"
   ]
  },
  {
   "cell_type": "code",
   "execution_count": 28,
   "id": "275a6fad-3205-4f9c-a1ce-9c9692d0d9e1",
   "metadata": {
    "execution": {
     "iopub.execute_input": "2025-01-27T17:14:26.016572Z",
     "iopub.status.busy": "2025-01-27T17:14:26.015287Z",
     "iopub.status.idle": "2025-01-27T17:14:26.022266Z",
     "shell.execute_reply": "2025-01-27T17:14:26.021122Z",
     "shell.execute_reply.started": "2025-01-27T17:14:26.016572Z"
    }
   },
   "outputs": [],
   "source": [
    "df[\"Difference of Transaction and Signup\"] = (df[\"TransactionDate\"] - df[\"SignupDate\"]).dt.days"
   ]
  },
  {
   "cell_type": "code",
   "execution_count": 29,
   "id": "fd1a391a-5be5-486e-8e80-118205cfe7db",
   "metadata": {
    "execution": {
     "iopub.execute_input": "2025-01-27T17:14:26.028113Z",
     "iopub.status.busy": "2025-01-27T17:14:26.027885Z",
     "iopub.status.idle": "2025-01-27T17:14:26.035974Z",
     "shell.execute_reply": "2025-01-27T17:14:26.034962Z",
     "shell.execute_reply.started": "2025-01-27T17:14:26.028113Z"
    }
   },
   "outputs": [],
   "source": [
    "indexes = df[[\"TransactionID\", \"CustomerID\", \"ProductID\"]]\n",
    "df.drop(columns=[\"TransactionID\", \"CustomerID\", \"ProductID\"], inplace=True)"
   ]
  },
  {
   "cell_type": "code",
   "execution_count": 30,
   "id": "50017f67-ecee-498a-ab29-01d2abce2a7b",
   "metadata": {
    "execution": {
     "iopub.execute_input": "2025-01-27T17:14:26.038165Z",
     "iopub.status.busy": "2025-01-27T17:14:26.037163Z",
     "iopub.status.idle": "2025-01-27T17:14:26.050581Z",
     "shell.execute_reply": "2025-01-27T17:14:26.048961Z",
     "shell.execute_reply.started": "2025-01-27T17:14:26.038165Z"
    }
   },
   "outputs": [
    {
     "data": {
      "text/html": [
       "<div>\n",
       "<style scoped>\n",
       "    .dataframe tbody tr th:only-of-type {\n",
       "        vertical-align: middle;\n",
       "    }\n",
       "\n",
       "    .dataframe tbody tr th {\n",
       "        vertical-align: top;\n",
       "    }\n",
       "\n",
       "    .dataframe thead th {\n",
       "        text-align: right;\n",
       "    }\n",
       "</style>\n",
       "<table border=\"1\" class=\"dataframe\">\n",
       "  <thead>\n",
       "    <tr style=\"text-align: right;\">\n",
       "      <th></th>\n",
       "      <th>TransactionID</th>\n",
       "      <th>CustomerID</th>\n",
       "      <th>ProductID</th>\n",
       "    </tr>\n",
       "  </thead>\n",
       "  <tbody>\n",
       "    <tr>\n",
       "      <th>0</th>\n",
       "      <td>T00001</td>\n",
       "      <td>C0199</td>\n",
       "      <td>P067</td>\n",
       "    </tr>\n",
       "    <tr>\n",
       "      <th>1</th>\n",
       "      <td>T00112</td>\n",
       "      <td>C0146</td>\n",
       "      <td>P067</td>\n",
       "    </tr>\n",
       "    <tr>\n",
       "      <th>2</th>\n",
       "      <td>T00166</td>\n",
       "      <td>C0127</td>\n",
       "      <td>P067</td>\n",
       "    </tr>\n",
       "    <tr>\n",
       "      <th>3</th>\n",
       "      <td>T00272</td>\n",
       "      <td>C0087</td>\n",
       "      <td>P067</td>\n",
       "    </tr>\n",
       "    <tr>\n",
       "      <th>4</th>\n",
       "      <td>T00363</td>\n",
       "      <td>C0070</td>\n",
       "      <td>P067</td>\n",
       "    </tr>\n",
       "  </tbody>\n",
       "</table>\n",
       "</div>"
      ],
      "text/plain": [
       "  TransactionID CustomerID ProductID\n",
       "0        T00001      C0199      P067\n",
       "1        T00112      C0146      P067\n",
       "2        T00166      C0127      P067\n",
       "3        T00272      C0087      P067\n",
       "4        T00363      C0070      P067"
      ]
     },
     "execution_count": 30,
     "metadata": {},
     "output_type": "execute_result"
    }
   ],
   "source": [
    "indexes.head()"
   ]
  },
  {
   "cell_type": "code",
   "execution_count": 31,
   "id": "10ada16f-9f56-4fd3-992d-53ded1e17c60",
   "metadata": {
    "execution": {
     "iopub.execute_input": "2025-01-27T17:14:26.052100Z",
     "iopub.status.busy": "2025-01-27T17:14:26.051089Z",
     "iopub.status.idle": "2025-01-27T17:14:26.064915Z",
     "shell.execute_reply": "2025-01-27T17:14:26.064915Z",
     "shell.execute_reply.started": "2025-01-27T17:14:26.052100Z"
    }
   },
   "outputs": [
    {
     "data": {
      "text/html": [
       "<div>\n",
       "<style scoped>\n",
       "    .dataframe tbody tr th:only-of-type {\n",
       "        vertical-align: middle;\n",
       "    }\n",
       "\n",
       "    .dataframe tbody tr th {\n",
       "        vertical-align: top;\n",
       "    }\n",
       "\n",
       "    .dataframe thead th {\n",
       "        text-align: right;\n",
       "    }\n",
       "</style>\n",
       "<table border=\"1\" class=\"dataframe\">\n",
       "  <thead>\n",
       "    <tr style=\"text-align: right;\">\n",
       "      <th></th>\n",
       "      <th>TransactionDate</th>\n",
       "      <th>Quantity</th>\n",
       "      <th>TotalValue</th>\n",
       "      <th>Price</th>\n",
       "      <th>CustomerName</th>\n",
       "      <th>Region</th>\n",
       "      <th>SignupDate</th>\n",
       "      <th>ProductName</th>\n",
       "      <th>Category</th>\n",
       "      <th>Recency from Today</th>\n",
       "      <th>Frequency</th>\n",
       "      <th>Monetary</th>\n",
       "      <th>Difference of Transaction and Signup</th>\n",
       "    </tr>\n",
       "  </thead>\n",
       "  <tbody>\n",
       "    <tr>\n",
       "      <th>0</th>\n",
       "      <td>2024-08-25 12:38:23</td>\n",
       "      <td>1</td>\n",
       "      <td>300.68</td>\n",
       "      <td>300.68</td>\n",
       "      <td>Andrea Jenkins</td>\n",
       "      <td>Europe</td>\n",
       "      <td>2022-12-03</td>\n",
       "      <td>ComfortLiving Bluetooth Speaker</td>\n",
       "      <td>Electronics</td>\n",
       "      <td>93</td>\n",
       "      <td>4</td>\n",
       "      <td>1979.28</td>\n",
       "      <td>631</td>\n",
       "    </tr>\n",
       "    <tr>\n",
       "      <th>1</th>\n",
       "      <td>2024-05-27 22:23:54</td>\n",
       "      <td>1</td>\n",
       "      <td>300.68</td>\n",
       "      <td>300.68</td>\n",
       "      <td>Brittany Harvey</td>\n",
       "      <td>Asia</td>\n",
       "      <td>2024-09-04</td>\n",
       "      <td>ComfortLiving Bluetooth Speaker</td>\n",
       "      <td>Electronics</td>\n",
       "      <td>40</td>\n",
       "      <td>4</td>\n",
       "      <td>2570.80</td>\n",
       "      <td>-100</td>\n",
       "    </tr>\n",
       "    <tr>\n",
       "      <th>2</th>\n",
       "      <td>2024-04-25 07:38:55</td>\n",
       "      <td>1</td>\n",
       "      <td>300.68</td>\n",
       "      <td>300.68</td>\n",
       "      <td>Kathryn Stevens</td>\n",
       "      <td>Europe</td>\n",
       "      <td>2024-04-04</td>\n",
       "      <td>ComfortLiving Bluetooth Speaker</td>\n",
       "      <td>Electronics</td>\n",
       "      <td>129</td>\n",
       "      <td>6</td>\n",
       "      <td>3232.88</td>\n",
       "      <td>21</td>\n",
       "    </tr>\n",
       "    <tr>\n",
       "      <th>3</th>\n",
       "      <td>2024-03-26 22:55:37</td>\n",
       "      <td>2</td>\n",
       "      <td>601.36</td>\n",
       "      <td>300.68</td>\n",
       "      <td>Travis Campbell</td>\n",
       "      <td>South America</td>\n",
       "      <td>2024-04-11</td>\n",
       "      <td>ComfortLiving Bluetooth Speaker</td>\n",
       "      <td>Electronics</td>\n",
       "      <td>135</td>\n",
       "      <td>7</td>\n",
       "      <td>6604.23</td>\n",
       "      <td>-16</td>\n",
       "    </tr>\n",
       "    <tr>\n",
       "      <th>4</th>\n",
       "      <td>2024-03-21 15:10:10</td>\n",
       "      <td>3</td>\n",
       "      <td>902.04</td>\n",
       "      <td>300.68</td>\n",
       "      <td>Timothy Perez</td>\n",
       "      <td>Europe</td>\n",
       "      <td>2022-03-15</td>\n",
       "      <td>ComfortLiving Bluetooth Speaker</td>\n",
       "      <td>Electronics</td>\n",
       "      <td>112</td>\n",
       "      <td>4</td>\n",
       "      <td>3125.49</td>\n",
       "      <td>737</td>\n",
       "    </tr>\n",
       "  </tbody>\n",
       "</table>\n",
       "</div>"
      ],
      "text/plain": [
       "      TransactionDate  Quantity  TotalValue   Price     CustomerName  \\\n",
       "0 2024-08-25 12:38:23         1      300.68  300.68   Andrea Jenkins   \n",
       "1 2024-05-27 22:23:54         1      300.68  300.68  Brittany Harvey   \n",
       "2 2024-04-25 07:38:55         1      300.68  300.68  Kathryn Stevens   \n",
       "3 2024-03-26 22:55:37         2      601.36  300.68  Travis Campbell   \n",
       "4 2024-03-21 15:10:10         3      902.04  300.68    Timothy Perez   \n",
       "\n",
       "          Region SignupDate                      ProductName     Category  \\\n",
       "0         Europe 2022-12-03  ComfortLiving Bluetooth Speaker  Electronics   \n",
       "1           Asia 2024-09-04  ComfortLiving Bluetooth Speaker  Electronics   \n",
       "2         Europe 2024-04-04  ComfortLiving Bluetooth Speaker  Electronics   \n",
       "3  South America 2024-04-11  ComfortLiving Bluetooth Speaker  Electronics   \n",
       "4         Europe 2022-03-15  ComfortLiving Bluetooth Speaker  Electronics   \n",
       "\n",
       "   Recency from Today  Frequency  Monetary  \\\n",
       "0                  93          4   1979.28   \n",
       "1                  40          4   2570.80   \n",
       "2                 129          6   3232.88   \n",
       "3                 135          7   6604.23   \n",
       "4                 112          4   3125.49   \n",
       "\n",
       "   Difference of Transaction and Signup  \n",
       "0                                   631  \n",
       "1                                  -100  \n",
       "2                                    21  \n",
       "3                                   -16  \n",
       "4                                   737  "
      ]
     },
     "execution_count": 31,
     "metadata": {},
     "output_type": "execute_result"
    }
   ],
   "source": [
    "df.head()"
   ]
  },
  {
   "cell_type": "code",
   "execution_count": 32,
   "id": "eaa1906b-5fc6-47e9-b8ba-8ac775651a12",
   "metadata": {
    "execution": {
     "iopub.execute_input": "2025-01-27T17:14:26.066925Z",
     "iopub.status.busy": "2025-01-27T17:14:26.065945Z",
     "iopub.status.idle": "2025-01-27T17:14:26.077183Z",
     "shell.execute_reply": "2025-01-27T17:14:26.076571Z",
     "shell.execute_reply.started": "2025-01-27T17:14:26.066925Z"
    }
   },
   "outputs": [],
   "source": [
    "df[\"CustomerName_min\"] = df.groupby(by=\"CustomerName\")[\"TotalValue\"].transform(\"min\")\n",
    "df[\"CustomerName_max\"] = df.groupby(by=\"CustomerName\")[\"TotalValue\"].transform(\"max\")\n",
    "df[\"CustomerName_mean\"] = df.groupby(by=\"CustomerName\")[\"TotalValue\"].transform(\"mean\")\n",
    "df[\"CustomerName_median\"] = df.groupby(by=\"CustomerName\")[\"TotalValue\"].transform(\"median\")\n",
    "df[\"CustomerName_std\"] = df.groupby(by=\"CustomerName\")[\"TotalValue\"].transform(\"std\")\n",
    "# df[\"CustomerName_count\"] = df.groupby(by=\"CustomerName\")[\"TotalValue\"].transform(\"count\")\n",
    "# df[\"CustomerName_sum\"] = df.groupby(by=\"CustomerName\")[\"TotalValue\"].transform(\"sum\")"
   ]
  },
  {
   "cell_type": "code",
   "execution_count": 33,
   "id": "867d9937-6c8c-4532-86af-208aaf2693fa",
   "metadata": {
    "execution": {
     "iopub.execute_input": "2025-01-27T17:14:26.078559Z",
     "iopub.status.busy": "2025-01-27T17:14:26.078559Z",
     "iopub.status.idle": "2025-01-27T17:14:26.083448Z",
     "shell.execute_reply": "2025-01-27T17:14:26.083448Z",
     "shell.execute_reply.started": "2025-01-27T17:14:26.078559Z"
    }
   },
   "outputs": [],
   "source": [
    "df[\"CustomerName_std\"] = df[\"CustomerName_std\"].fillna(df[\"CustomerName_std\"].median())"
   ]
  },
  {
   "cell_type": "code",
   "execution_count": 34,
   "id": "d1d1d35c-3d0d-4dee-905d-0a02146ce133",
   "metadata": {
    "execution": {
     "iopub.execute_input": "2025-01-27T17:14:26.085457Z",
     "iopub.status.busy": "2025-01-27T17:14:26.084503Z",
     "iopub.status.idle": "2025-01-27T17:14:26.104161Z",
     "shell.execute_reply": "2025-01-27T17:14:26.102990Z",
     "shell.execute_reply.started": "2025-01-27T17:14:26.084503Z"
    }
   },
   "outputs": [],
   "source": [
    "df[\"ProductName_min\"] = df.groupby(by=\"ProductName\")[\"TotalValue\"].transform(\"min\")\n",
    "df[\"ProductName_max\"] = df.groupby(by=\"ProductName\")[\"TotalValue\"].transform(\"max\")\n",
    "df[\"ProductName_mean\"] = df.groupby(by=\"ProductName\")[\"TotalValue\"].transform(\"mean\")\n",
    "df[\"ProductName_median\"] = df.groupby(by=\"ProductName\")[\"TotalValue\"].transform(\"median\")\n",
    "df[\"ProductName_std\"] = df.groupby(by=\"ProductName\")[\"TotalValue\"].transform(\"std\")\n",
    "df[\"ProductName_count\"] = df.groupby(by=\"ProductName\")[\"TotalValue\"].transform(\"count\")\n",
    "df[\"ProductName_sum\"] = df.groupby(by=\"ProductName\")[\"TotalValue\"].transform(\"sum\")"
   ]
  },
  {
   "cell_type": "code",
   "execution_count": 35,
   "id": "1e95c618-2a95-41ae-b418-aa28c874b9f2",
   "metadata": {
    "execution": {
     "iopub.execute_input": "2025-01-27T17:14:26.106271Z",
     "iopub.status.busy": "2025-01-27T17:14:26.105256Z",
     "iopub.status.idle": "2025-01-27T17:14:26.113169Z",
     "shell.execute_reply": "2025-01-27T17:14:26.112092Z",
     "shell.execute_reply.started": "2025-01-27T17:14:26.106271Z"
    }
   },
   "outputs": [],
   "source": [
    "df.drop(columns=[\"CustomerName\", \"ProductName\"], inplace=True)"
   ]
  },
  {
   "cell_type": "code",
   "execution_count": 36,
   "id": "1cb20ec7-6dbe-4329-9e47-80335b4febf5",
   "metadata": {
    "execution": {
     "iopub.execute_input": "2025-01-27T17:14:26.114628Z",
     "iopub.status.busy": "2025-01-27T17:14:26.114628Z",
     "iopub.status.idle": "2025-01-27T17:14:26.138590Z",
     "shell.execute_reply": "2025-01-27T17:14:26.137472Z",
     "shell.execute_reply.started": "2025-01-27T17:14:26.114628Z"
    }
   },
   "outputs": [
    {
     "data": {
      "text/html": [
       "<div>\n",
       "<style scoped>\n",
       "    .dataframe tbody tr th:only-of-type {\n",
       "        vertical-align: middle;\n",
       "    }\n",
       "\n",
       "    .dataframe tbody tr th {\n",
       "        vertical-align: top;\n",
       "    }\n",
       "\n",
       "    .dataframe thead th {\n",
       "        text-align: right;\n",
       "    }\n",
       "</style>\n",
       "<table border=\"1\" class=\"dataframe\">\n",
       "  <thead>\n",
       "    <tr style=\"text-align: right;\">\n",
       "      <th></th>\n",
       "      <th>TransactionDate</th>\n",
       "      <th>Quantity</th>\n",
       "      <th>TotalValue</th>\n",
       "      <th>Price</th>\n",
       "      <th>Region</th>\n",
       "      <th>SignupDate</th>\n",
       "      <th>Category</th>\n",
       "      <th>Recency from Today</th>\n",
       "      <th>Frequency</th>\n",
       "      <th>Monetary</th>\n",
       "      <th>Difference of Transaction and Signup</th>\n",
       "      <th>CustomerName_min</th>\n",
       "      <th>CustomerName_max</th>\n",
       "      <th>CustomerName_mean</th>\n",
       "      <th>CustomerName_median</th>\n",
       "      <th>CustomerName_std</th>\n",
       "      <th>ProductName_min</th>\n",
       "      <th>ProductName_max</th>\n",
       "      <th>ProductName_mean</th>\n",
       "      <th>ProductName_median</th>\n",
       "      <th>ProductName_std</th>\n",
       "      <th>ProductName_count</th>\n",
       "      <th>ProductName_sum</th>\n",
       "    </tr>\n",
       "  </thead>\n",
       "  <tbody>\n",
       "    <tr>\n",
       "      <th>0</th>\n",
       "      <td>2024-08-25 12:38:23</td>\n",
       "      <td>1</td>\n",
       "      <td>300.68</td>\n",
       "      <td>300.68</td>\n",
       "      <td>Europe</td>\n",
       "      <td>2022-12-03</td>\n",
       "      <td>Electronics</td>\n",
       "      <td>93</td>\n",
       "      <td>4</td>\n",
       "      <td>1979.28</td>\n",
       "      <td>631</td>\n",
       "      <td>293.70</td>\n",
       "      <td>834.74</td>\n",
       "      <td>494.820000</td>\n",
       "      <td>425.42</td>\n",
       "      <td>256.090945</td>\n",
       "      <td>300.68</td>\n",
       "      <td>902.04</td>\n",
       "      <td>578.230769</td>\n",
       "      <td>601.36</td>\n",
       "      <td>259.281325</td>\n",
       "      <td>13</td>\n",
       "      <td>7517.0</td>\n",
       "    </tr>\n",
       "    <tr>\n",
       "      <th>1</th>\n",
       "      <td>2024-05-27 22:23:54</td>\n",
       "      <td>1</td>\n",
       "      <td>300.68</td>\n",
       "      <td>300.68</td>\n",
       "      <td>Asia</td>\n",
       "      <td>2024-09-04</td>\n",
       "      <td>Electronics</td>\n",
       "      <td>40</td>\n",
       "      <td>4</td>\n",
       "      <td>2570.80</td>\n",
       "      <td>-100</td>\n",
       "      <td>300.68</td>\n",
       "      <td>1011.66</td>\n",
       "      <td>642.700000</td>\n",
       "      <td>629.23</td>\n",
       "      <td>331.653906</td>\n",
       "      <td>300.68</td>\n",
       "      <td>902.04</td>\n",
       "      <td>578.230769</td>\n",
       "      <td>601.36</td>\n",
       "      <td>259.281325</td>\n",
       "      <td>13</td>\n",
       "      <td>7517.0</td>\n",
       "    </tr>\n",
       "    <tr>\n",
       "      <th>2</th>\n",
       "      <td>2024-04-25 07:38:55</td>\n",
       "      <td>1</td>\n",
       "      <td>300.68</td>\n",
       "      <td>300.68</td>\n",
       "      <td>Europe</td>\n",
       "      <td>2024-04-04</td>\n",
       "      <td>Electronics</td>\n",
       "      <td>129</td>\n",
       "      <td>6</td>\n",
       "      <td>3232.88</td>\n",
       "      <td>21</td>\n",
       "      <td>263.55</td>\n",
       "      <td>942.32</td>\n",
       "      <td>538.813333</td>\n",
       "      <td>413.27</td>\n",
       "      <td>306.097921</td>\n",
       "      <td>300.68</td>\n",
       "      <td>902.04</td>\n",
       "      <td>578.230769</td>\n",
       "      <td>601.36</td>\n",
       "      <td>259.281325</td>\n",
       "      <td>13</td>\n",
       "      <td>7517.0</td>\n",
       "    </tr>\n",
       "    <tr>\n",
       "      <th>3</th>\n",
       "      <td>2024-03-26 22:55:37</td>\n",
       "      <td>2</td>\n",
       "      <td>601.36</td>\n",
       "      <td>300.68</td>\n",
       "      <td>South America</td>\n",
       "      <td>2024-04-11</td>\n",
       "      <td>Electronics</td>\n",
       "      <td>135</td>\n",
       "      <td>7</td>\n",
       "      <td>6604.23</td>\n",
       "      <td>-16</td>\n",
       "      <td>443.85</td>\n",
       "      <td>1734.56</td>\n",
       "      <td>943.461429</td>\n",
       "      <td>909.60</td>\n",
       "      <td>415.929754</td>\n",
       "      <td>300.68</td>\n",
       "      <td>902.04</td>\n",
       "      <td>578.230769</td>\n",
       "      <td>601.36</td>\n",
       "      <td>259.281325</td>\n",
       "      <td>13</td>\n",
       "      <td>7517.0</td>\n",
       "    </tr>\n",
       "    <tr>\n",
       "      <th>4</th>\n",
       "      <td>2024-03-21 15:10:10</td>\n",
       "      <td>3</td>\n",
       "      <td>902.04</td>\n",
       "      <td>300.68</td>\n",
       "      <td>Europe</td>\n",
       "      <td>2022-03-15</td>\n",
       "      <td>Electronics</td>\n",
       "      <td>112</td>\n",
       "      <td>4</td>\n",
       "      <td>3125.49</td>\n",
       "      <td>737</td>\n",
       "      <td>354.29</td>\n",
       "      <td>1277.36</td>\n",
       "      <td>781.372500</td>\n",
       "      <td>746.92</td>\n",
       "      <td>399.542005</td>\n",
       "      <td>300.68</td>\n",
       "      <td>902.04</td>\n",
       "      <td>578.230769</td>\n",
       "      <td>601.36</td>\n",
       "      <td>259.281325</td>\n",
       "      <td>13</td>\n",
       "      <td>7517.0</td>\n",
       "    </tr>\n",
       "  </tbody>\n",
       "</table>\n",
       "</div>"
      ],
      "text/plain": [
       "      TransactionDate  Quantity  TotalValue   Price         Region SignupDate  \\\n",
       "0 2024-08-25 12:38:23         1      300.68  300.68         Europe 2022-12-03   \n",
       "1 2024-05-27 22:23:54         1      300.68  300.68           Asia 2024-09-04   \n",
       "2 2024-04-25 07:38:55         1      300.68  300.68         Europe 2024-04-04   \n",
       "3 2024-03-26 22:55:37         2      601.36  300.68  South America 2024-04-11   \n",
       "4 2024-03-21 15:10:10         3      902.04  300.68         Europe 2022-03-15   \n",
       "\n",
       "      Category  Recency from Today  Frequency  Monetary  \\\n",
       "0  Electronics                  93          4   1979.28   \n",
       "1  Electronics                  40          4   2570.80   \n",
       "2  Electronics                 129          6   3232.88   \n",
       "3  Electronics                 135          7   6604.23   \n",
       "4  Electronics                 112          4   3125.49   \n",
       "\n",
       "   Difference of Transaction and Signup  CustomerName_min  CustomerName_max  \\\n",
       "0                                   631            293.70            834.74   \n",
       "1                                  -100            300.68           1011.66   \n",
       "2                                    21            263.55            942.32   \n",
       "3                                   -16            443.85           1734.56   \n",
       "4                                   737            354.29           1277.36   \n",
       "\n",
       "   CustomerName_mean  CustomerName_median  CustomerName_std  ProductName_min  \\\n",
       "0         494.820000               425.42        256.090945           300.68   \n",
       "1         642.700000               629.23        331.653906           300.68   \n",
       "2         538.813333               413.27        306.097921           300.68   \n",
       "3         943.461429               909.60        415.929754           300.68   \n",
       "4         781.372500               746.92        399.542005           300.68   \n",
       "\n",
       "   ProductName_max  ProductName_mean  ProductName_median  ProductName_std  \\\n",
       "0           902.04        578.230769              601.36       259.281325   \n",
       "1           902.04        578.230769              601.36       259.281325   \n",
       "2           902.04        578.230769              601.36       259.281325   \n",
       "3           902.04        578.230769              601.36       259.281325   \n",
       "4           902.04        578.230769              601.36       259.281325   \n",
       "\n",
       "   ProductName_count  ProductName_sum  \n",
       "0                 13           7517.0  \n",
       "1                 13           7517.0  \n",
       "2                 13           7517.0  \n",
       "3                 13           7517.0  \n",
       "4                 13           7517.0  "
      ]
     },
     "execution_count": 36,
     "metadata": {},
     "output_type": "execute_result"
    }
   ],
   "source": [
    "df.head()"
   ]
  },
  {
   "cell_type": "code",
   "execution_count": 37,
   "id": "7b8e3028-652b-43db-87a8-b1728cd0ccf1",
   "metadata": {
    "execution": {
     "iopub.execute_input": "2025-01-27T17:14:26.139722Z",
     "iopub.status.busy": "2025-01-27T17:14:26.139722Z",
     "iopub.status.idle": "2025-01-27T17:14:26.143548Z",
     "shell.execute_reply": "2025-01-27T17:14:26.143025Z",
     "shell.execute_reply.started": "2025-01-27T17:14:26.139722Z"
    }
   },
   "outputs": [],
   "source": [
    "from sklearn.preprocessing import OneHotEncoder"
   ]
  },
  {
   "cell_type": "code",
   "execution_count": 38,
   "id": "a7a06dbc-cb72-4494-baf9-b5c76d4dabbd",
   "metadata": {
    "execution": {
     "iopub.execute_input": "2025-01-27T17:14:26.145731Z",
     "iopub.status.busy": "2025-01-27T17:14:26.145731Z",
     "iopub.status.idle": "2025-01-27T17:14:26.150461Z",
     "shell.execute_reply": "2025-01-27T17:14:26.149150Z",
     "shell.execute_reply.started": "2025-01-27T17:14:26.145731Z"
    }
   },
   "outputs": [],
   "source": [
    "region_encoder = OneHotEncoder(dtype=\"int\", drop=\"first\", sparse_output=False)"
   ]
  },
  {
   "cell_type": "code",
   "execution_count": 39,
   "id": "543d3edf-f94a-4b4d-ac51-68232f6635da",
   "metadata": {
    "execution": {
     "iopub.execute_input": "2025-01-27T17:14:26.152839Z",
     "iopub.status.busy": "2025-01-27T17:14:26.151839Z",
     "iopub.status.idle": "2025-01-27T17:14:26.160791Z",
     "shell.execute_reply": "2025-01-27T17:14:26.160791Z",
     "shell.execute_reply.started": "2025-01-27T17:14:26.152839Z"
    }
   },
   "outputs": [],
   "source": [
    "df = pd.concat([df, pd.DataFrame(region_encoder.fit_transform(df[[\"Region\"]]), columns=region_encoder.get_feature_names_out())], axis=1)"
   ]
  },
  {
   "cell_type": "code",
   "execution_count": 40,
   "id": "8c2a5e7f-2946-4054-a531-c634ed41ae80",
   "metadata": {
    "execution": {
     "iopub.execute_input": "2025-01-27T17:14:26.163255Z",
     "iopub.status.busy": "2025-01-27T17:14:26.162244Z",
     "iopub.status.idle": "2025-01-27T17:14:26.167714Z",
     "shell.execute_reply": "2025-01-27T17:14:26.167714Z",
     "shell.execute_reply.started": "2025-01-27T17:14:26.163255Z"
    }
   },
   "outputs": [],
   "source": [
    "category_encoder = OneHotEncoder(dtype=\"int\", drop=\"first\", sparse_output=False)"
   ]
  },
  {
   "cell_type": "code",
   "execution_count": 41,
   "id": "a3a46422-c2d6-4075-b04a-29c30dd449f4",
   "metadata": {
    "execution": {
     "iopub.execute_input": "2025-01-27T17:14:26.170417Z",
     "iopub.status.busy": "2025-01-27T17:14:26.169167Z",
     "iopub.status.idle": "2025-01-27T17:14:26.178866Z",
     "shell.execute_reply": "2025-01-27T17:14:26.177830Z",
     "shell.execute_reply.started": "2025-01-27T17:14:26.170308Z"
    }
   },
   "outputs": [],
   "source": [
    "df = pd.concat([df, pd.DataFrame(category_encoder.fit_transform(df[[\"Category\"]]), columns=category_encoder.get_feature_names_out())], axis=1)"
   ]
  },
  {
   "cell_type": "code",
   "execution_count": 42,
   "id": "f36c86d1-a749-45ee-a623-4478a9d54e23",
   "metadata": {
    "execution": {
     "iopub.execute_input": "2025-01-27T17:14:26.179883Z",
     "iopub.status.busy": "2025-01-27T17:14:26.179883Z",
     "iopub.status.idle": "2025-01-27T17:14:26.185992Z",
     "shell.execute_reply": "2025-01-27T17:14:26.184594Z",
     "shell.execute_reply.started": "2025-01-27T17:14:26.179883Z"
    }
   },
   "outputs": [],
   "source": [
    "df.drop(columns=[\"Region\", \"Category\"], inplace=True)"
   ]
  },
  {
   "cell_type": "code",
   "execution_count": 43,
   "id": "7f9bee00-9129-410f-a176-9886143fa3dd",
   "metadata": {
    "execution": {
     "iopub.execute_input": "2025-01-27T17:14:26.186133Z",
     "iopub.status.busy": "2025-01-27T17:14:26.186133Z",
     "iopub.status.idle": "2025-01-27T17:14:26.206867Z",
     "shell.execute_reply": "2025-01-27T17:14:26.206867Z",
     "shell.execute_reply.started": "2025-01-27T17:14:26.186133Z"
    }
   },
   "outputs": [
    {
     "data": {
      "text/html": [
       "<div>\n",
       "<style scoped>\n",
       "    .dataframe tbody tr th:only-of-type {\n",
       "        vertical-align: middle;\n",
       "    }\n",
       "\n",
       "    .dataframe tbody tr th {\n",
       "        vertical-align: top;\n",
       "    }\n",
       "\n",
       "    .dataframe thead th {\n",
       "        text-align: right;\n",
       "    }\n",
       "</style>\n",
       "<table border=\"1\" class=\"dataframe\">\n",
       "  <thead>\n",
       "    <tr style=\"text-align: right;\">\n",
       "      <th></th>\n",
       "      <th>TransactionDate</th>\n",
       "      <th>Quantity</th>\n",
       "      <th>TotalValue</th>\n",
       "      <th>Price</th>\n",
       "      <th>SignupDate</th>\n",
       "      <th>Recency from Today</th>\n",
       "      <th>Frequency</th>\n",
       "      <th>Monetary</th>\n",
       "      <th>Difference of Transaction and Signup</th>\n",
       "      <th>CustomerName_min</th>\n",
       "      <th>CustomerName_max</th>\n",
       "      <th>CustomerName_mean</th>\n",
       "      <th>CustomerName_median</th>\n",
       "      <th>CustomerName_std</th>\n",
       "      <th>ProductName_min</th>\n",
       "      <th>ProductName_max</th>\n",
       "      <th>ProductName_mean</th>\n",
       "      <th>ProductName_median</th>\n",
       "      <th>ProductName_std</th>\n",
       "      <th>ProductName_count</th>\n",
       "      <th>ProductName_sum</th>\n",
       "      <th>Region_Europe</th>\n",
       "      <th>Region_North America</th>\n",
       "      <th>Region_South America</th>\n",
       "      <th>Category_Clothing</th>\n",
       "      <th>Category_Electronics</th>\n",
       "      <th>Category_Home Decor</th>\n",
       "    </tr>\n",
       "  </thead>\n",
       "  <tbody>\n",
       "    <tr>\n",
       "      <th>0</th>\n",
       "      <td>2024-08-25 12:38:23</td>\n",
       "      <td>1</td>\n",
       "      <td>300.68</td>\n",
       "      <td>300.68</td>\n",
       "      <td>2022-12-03</td>\n",
       "      <td>93</td>\n",
       "      <td>4</td>\n",
       "      <td>1979.28</td>\n",
       "      <td>631</td>\n",
       "      <td>293.70</td>\n",
       "      <td>834.74</td>\n",
       "      <td>494.820000</td>\n",
       "      <td>425.42</td>\n",
       "      <td>256.090945</td>\n",
       "      <td>300.68</td>\n",
       "      <td>902.04</td>\n",
       "      <td>578.230769</td>\n",
       "      <td>601.36</td>\n",
       "      <td>259.281325</td>\n",
       "      <td>13</td>\n",
       "      <td>7517.0</td>\n",
       "      <td>1</td>\n",
       "      <td>0</td>\n",
       "      <td>0</td>\n",
       "      <td>0</td>\n",
       "      <td>1</td>\n",
       "      <td>0</td>\n",
       "    </tr>\n",
       "    <tr>\n",
       "      <th>1</th>\n",
       "      <td>2024-05-27 22:23:54</td>\n",
       "      <td>1</td>\n",
       "      <td>300.68</td>\n",
       "      <td>300.68</td>\n",
       "      <td>2024-09-04</td>\n",
       "      <td>40</td>\n",
       "      <td>4</td>\n",
       "      <td>2570.80</td>\n",
       "      <td>-100</td>\n",
       "      <td>300.68</td>\n",
       "      <td>1011.66</td>\n",
       "      <td>642.700000</td>\n",
       "      <td>629.23</td>\n",
       "      <td>331.653906</td>\n",
       "      <td>300.68</td>\n",
       "      <td>902.04</td>\n",
       "      <td>578.230769</td>\n",
       "      <td>601.36</td>\n",
       "      <td>259.281325</td>\n",
       "      <td>13</td>\n",
       "      <td>7517.0</td>\n",
       "      <td>0</td>\n",
       "      <td>0</td>\n",
       "      <td>0</td>\n",
       "      <td>0</td>\n",
       "      <td>1</td>\n",
       "      <td>0</td>\n",
       "    </tr>\n",
       "    <tr>\n",
       "      <th>2</th>\n",
       "      <td>2024-04-25 07:38:55</td>\n",
       "      <td>1</td>\n",
       "      <td>300.68</td>\n",
       "      <td>300.68</td>\n",
       "      <td>2024-04-04</td>\n",
       "      <td>129</td>\n",
       "      <td>6</td>\n",
       "      <td>3232.88</td>\n",
       "      <td>21</td>\n",
       "      <td>263.55</td>\n",
       "      <td>942.32</td>\n",
       "      <td>538.813333</td>\n",
       "      <td>413.27</td>\n",
       "      <td>306.097921</td>\n",
       "      <td>300.68</td>\n",
       "      <td>902.04</td>\n",
       "      <td>578.230769</td>\n",
       "      <td>601.36</td>\n",
       "      <td>259.281325</td>\n",
       "      <td>13</td>\n",
       "      <td>7517.0</td>\n",
       "      <td>1</td>\n",
       "      <td>0</td>\n",
       "      <td>0</td>\n",
       "      <td>0</td>\n",
       "      <td>1</td>\n",
       "      <td>0</td>\n",
       "    </tr>\n",
       "    <tr>\n",
       "      <th>3</th>\n",
       "      <td>2024-03-26 22:55:37</td>\n",
       "      <td>2</td>\n",
       "      <td>601.36</td>\n",
       "      <td>300.68</td>\n",
       "      <td>2024-04-11</td>\n",
       "      <td>135</td>\n",
       "      <td>7</td>\n",
       "      <td>6604.23</td>\n",
       "      <td>-16</td>\n",
       "      <td>443.85</td>\n",
       "      <td>1734.56</td>\n",
       "      <td>943.461429</td>\n",
       "      <td>909.60</td>\n",
       "      <td>415.929754</td>\n",
       "      <td>300.68</td>\n",
       "      <td>902.04</td>\n",
       "      <td>578.230769</td>\n",
       "      <td>601.36</td>\n",
       "      <td>259.281325</td>\n",
       "      <td>13</td>\n",
       "      <td>7517.0</td>\n",
       "      <td>0</td>\n",
       "      <td>0</td>\n",
       "      <td>1</td>\n",
       "      <td>0</td>\n",
       "      <td>1</td>\n",
       "      <td>0</td>\n",
       "    </tr>\n",
       "    <tr>\n",
       "      <th>4</th>\n",
       "      <td>2024-03-21 15:10:10</td>\n",
       "      <td>3</td>\n",
       "      <td>902.04</td>\n",
       "      <td>300.68</td>\n",
       "      <td>2022-03-15</td>\n",
       "      <td>112</td>\n",
       "      <td>4</td>\n",
       "      <td>3125.49</td>\n",
       "      <td>737</td>\n",
       "      <td>354.29</td>\n",
       "      <td>1277.36</td>\n",
       "      <td>781.372500</td>\n",
       "      <td>746.92</td>\n",
       "      <td>399.542005</td>\n",
       "      <td>300.68</td>\n",
       "      <td>902.04</td>\n",
       "      <td>578.230769</td>\n",
       "      <td>601.36</td>\n",
       "      <td>259.281325</td>\n",
       "      <td>13</td>\n",
       "      <td>7517.0</td>\n",
       "      <td>1</td>\n",
       "      <td>0</td>\n",
       "      <td>0</td>\n",
       "      <td>0</td>\n",
       "      <td>1</td>\n",
       "      <td>0</td>\n",
       "    </tr>\n",
       "  </tbody>\n",
       "</table>\n",
       "</div>"
      ],
      "text/plain": [
       "      TransactionDate  Quantity  TotalValue   Price SignupDate  \\\n",
       "0 2024-08-25 12:38:23         1      300.68  300.68 2022-12-03   \n",
       "1 2024-05-27 22:23:54         1      300.68  300.68 2024-09-04   \n",
       "2 2024-04-25 07:38:55         1      300.68  300.68 2024-04-04   \n",
       "3 2024-03-26 22:55:37         2      601.36  300.68 2024-04-11   \n",
       "4 2024-03-21 15:10:10         3      902.04  300.68 2022-03-15   \n",
       "\n",
       "   Recency from Today  Frequency  Monetary  \\\n",
       "0                  93          4   1979.28   \n",
       "1                  40          4   2570.80   \n",
       "2                 129          6   3232.88   \n",
       "3                 135          7   6604.23   \n",
       "4                 112          4   3125.49   \n",
       "\n",
       "   Difference of Transaction and Signup  CustomerName_min  CustomerName_max  \\\n",
       "0                                   631            293.70            834.74   \n",
       "1                                  -100            300.68           1011.66   \n",
       "2                                    21            263.55            942.32   \n",
       "3                                   -16            443.85           1734.56   \n",
       "4                                   737            354.29           1277.36   \n",
       "\n",
       "   CustomerName_mean  CustomerName_median  CustomerName_std  ProductName_min  \\\n",
       "0         494.820000               425.42        256.090945           300.68   \n",
       "1         642.700000               629.23        331.653906           300.68   \n",
       "2         538.813333               413.27        306.097921           300.68   \n",
       "3         943.461429               909.60        415.929754           300.68   \n",
       "4         781.372500               746.92        399.542005           300.68   \n",
       "\n",
       "   ProductName_max  ProductName_mean  ProductName_median  ProductName_std  \\\n",
       "0           902.04        578.230769              601.36       259.281325   \n",
       "1           902.04        578.230769              601.36       259.281325   \n",
       "2           902.04        578.230769              601.36       259.281325   \n",
       "3           902.04        578.230769              601.36       259.281325   \n",
       "4           902.04        578.230769              601.36       259.281325   \n",
       "\n",
       "   ProductName_count  ProductName_sum  Region_Europe  Region_North America  \\\n",
       "0                 13           7517.0              1                     0   \n",
       "1                 13           7517.0              0                     0   \n",
       "2                 13           7517.0              1                     0   \n",
       "3                 13           7517.0              0                     0   \n",
       "4                 13           7517.0              1                     0   \n",
       "\n",
       "   Region_South America  Category_Clothing  Category_Electronics  \\\n",
       "0                     0                  0                     1   \n",
       "1                     0                  0                     1   \n",
       "2                     0                  0                     1   \n",
       "3                     1                  0                     1   \n",
       "4                     0                  0                     1   \n",
       "\n",
       "   Category_Home Decor  \n",
       "0                    0  \n",
       "1                    0  \n",
       "2                    0  \n",
       "3                    0  \n",
       "4                    0  "
      ]
     },
     "execution_count": 43,
     "metadata": {},
     "output_type": "execute_result"
    }
   ],
   "source": [
    "df.head()"
   ]
  },
  {
   "cell_type": "code",
   "execution_count": 44,
   "id": "ee8c6d95-1d10-4bc3-b748-5ef1fc2576d4",
   "metadata": {
    "execution": {
     "iopub.execute_input": "2025-01-27T17:14:26.207874Z",
     "iopub.status.busy": "2025-01-27T17:14:26.207874Z",
     "iopub.status.idle": "2025-01-27T17:14:26.214828Z",
     "shell.execute_reply": "2025-01-27T17:14:26.214828Z",
     "shell.execute_reply.started": "2025-01-27T17:14:26.207874Z"
    }
   },
   "outputs": [],
   "source": [
    "df[\"TransactionDate_day\"] = df[\"TransactionDate\"].dt.day\n",
    "df[\"TransactionDate_month\"] = df[\"TransactionDate\"].dt.month\n",
    "df[\"TransactionDate_year\"] = df[\"TransactionDate\"].dt.year\n",
    "df[\"TransactionDate_weekday\"] = df[\"TransactionDate\"].dt.weekday"
   ]
  },
  {
   "cell_type": "code",
   "execution_count": 45,
   "id": "14e6cbde-80ff-4bf8-87be-65e07f5cac00",
   "metadata": {
    "execution": {
     "iopub.execute_input": "2025-01-27T17:14:26.216274Z",
     "iopub.status.busy": "2025-01-27T17:14:26.216274Z",
     "iopub.status.idle": "2025-01-27T17:14:26.223564Z",
     "shell.execute_reply": "2025-01-27T17:14:26.223564Z",
     "shell.execute_reply.started": "2025-01-27T17:14:26.216274Z"
    }
   },
   "outputs": [],
   "source": [
    "df[\"SignupDate_day\"] = df[\"SignupDate\"].dt.day\n",
    "df[\"SignupDate_month\"] = df[\"SignupDate\"].dt.month\n",
    "df[\"SignupDate_year\"] = df[\"SignupDate\"].dt.year\n",
    "df[\"SignupDate_weekday\"] = df[\"SignupDate\"].dt.weekday"
   ]
  },
  {
   "cell_type": "code",
   "execution_count": 46,
   "id": "12cdcc0c-4be5-4903-a357-a240ef67ca0c",
   "metadata": {
    "execution": {
     "iopub.execute_input": "2025-01-27T17:14:26.223564Z",
     "iopub.status.busy": "2025-01-27T17:14:26.223564Z",
     "iopub.status.idle": "2025-01-27T17:14:26.230720Z",
     "shell.execute_reply": "2025-01-27T17:14:26.230121Z",
     "shell.execute_reply.started": "2025-01-27T17:14:26.223564Z"
    }
   },
   "outputs": [],
   "source": [
    "df.drop(columns=[\"SignupDate\", \"TransactionDate\"], inplace=True)"
   ]
  },
  {
   "cell_type": "markdown",
   "id": "b5833f1f-9e5b-4a1b-97ee-89213771e386",
   "metadata": {},
   "source": [
    "#\n",
    "---\n",
    "# Scaling"
   ]
  },
  {
   "cell_type": "code",
   "execution_count": 47,
   "id": "e6d024a7-9807-4ea4-967a-5fb64c6806fe",
   "metadata": {
    "execution": {
     "iopub.execute_input": "2025-01-27T17:14:26.231665Z",
     "iopub.status.busy": "2025-01-27T17:14:26.231665Z",
     "iopub.status.idle": "2025-01-27T17:14:26.235529Z",
     "shell.execute_reply": "2025-01-27T17:14:26.235529Z",
     "shell.execute_reply.started": "2025-01-27T17:14:26.231665Z"
    }
   },
   "outputs": [],
   "source": [
    "from sklearn.preprocessing import StandardScaler"
   ]
  },
  {
   "cell_type": "code",
   "execution_count": 48,
   "id": "4ef46c51-9d16-45ee-8547-4aa4e976c233",
   "metadata": {
    "execution": {
     "iopub.execute_input": "2025-01-27T17:14:26.237986Z",
     "iopub.status.busy": "2025-01-27T17:14:26.236912Z",
     "iopub.status.idle": "2025-01-27T17:14:26.242326Z",
     "shell.execute_reply": "2025-01-27T17:14:26.242002Z",
     "shell.execute_reply.started": "2025-01-27T17:14:26.237986Z"
    }
   },
   "outputs": [],
   "source": [
    "scaler = StandardScaler()"
   ]
  },
  {
   "cell_type": "code",
   "execution_count": 49,
   "id": "57412dfb-900b-4076-8163-a36138b4077e",
   "metadata": {
    "execution": {
     "iopub.execute_input": "2025-01-27T17:14:26.244481Z",
     "iopub.status.busy": "2025-01-27T17:14:26.243335Z",
     "iopub.status.idle": "2025-01-27T17:14:26.251817Z",
     "shell.execute_reply": "2025-01-27T17:14:26.251817Z",
     "shell.execute_reply.started": "2025-01-27T17:14:26.244481Z"
    }
   },
   "outputs": [],
   "source": [
    "scaled_df = pd.DataFrame(scaler.fit_transform(df), columns=scaler.get_feature_names_out())"
   ]
  },
  {
   "cell_type": "code",
   "execution_count": 50,
   "id": "d8e25590-39b2-46ff-88bf-2f1f54ce930f",
   "metadata": {
    "execution": {
     "iopub.execute_input": "2025-01-27T17:14:26.253832Z",
     "iopub.status.busy": "2025-01-27T17:14:26.252829Z",
     "iopub.status.idle": "2025-01-27T17:14:26.279256Z",
     "shell.execute_reply": "2025-01-27T17:14:26.279256Z",
     "shell.execute_reply.started": "2025-01-27T17:14:26.252829Z"
    }
   },
   "outputs": [
    {
     "data": {
      "text/html": [
       "<div>\n",
       "<style scoped>\n",
       "    .dataframe tbody tr th:only-of-type {\n",
       "        vertical-align: middle;\n",
       "    }\n",
       "\n",
       "    .dataframe tbody tr th {\n",
       "        vertical-align: top;\n",
       "    }\n",
       "\n",
       "    .dataframe thead th {\n",
       "        text-align: right;\n",
       "    }\n",
       "</style>\n",
       "<table border=\"1\" class=\"dataframe\">\n",
       "  <thead>\n",
       "    <tr style=\"text-align: right;\">\n",
       "      <th></th>\n",
       "      <th>Quantity</th>\n",
       "      <th>TotalValue</th>\n",
       "      <th>Price</th>\n",
       "      <th>Recency from Today</th>\n",
       "      <th>Frequency</th>\n",
       "      <th>Monetary</th>\n",
       "      <th>Difference of Transaction and Signup</th>\n",
       "      <th>CustomerName_min</th>\n",
       "      <th>CustomerName_max</th>\n",
       "      <th>CustomerName_mean</th>\n",
       "      <th>CustomerName_median</th>\n",
       "      <th>CustomerName_std</th>\n",
       "      <th>ProductName_min</th>\n",
       "      <th>ProductName_max</th>\n",
       "      <th>ProductName_mean</th>\n",
       "      <th>ProductName_median</th>\n",
       "      <th>ProductName_std</th>\n",
       "      <th>ProductName_count</th>\n",
       "      <th>ProductName_sum</th>\n",
       "      <th>Region_Europe</th>\n",
       "      <th>Region_North America</th>\n",
       "      <th>Region_South America</th>\n",
       "      <th>Category_Clothing</th>\n",
       "      <th>Category_Electronics</th>\n",
       "      <th>Category_Home Decor</th>\n",
       "      <th>TransactionDate_day</th>\n",
       "      <th>TransactionDate_month</th>\n",
       "      <th>TransactionDate_year</th>\n",
       "      <th>TransactionDate_weekday</th>\n",
       "      <th>SignupDate_day</th>\n",
       "      <th>SignupDate_month</th>\n",
       "      <th>SignupDate_year</th>\n",
       "      <th>SignupDate_weekday</th>\n",
       "    </tr>\n",
       "  </thead>\n",
       "  <tbody>\n",
       "    <tr>\n",
       "      <th>0</th>\n",
       "      <td>-1.375488</td>\n",
       "      <td>-0.789850</td>\n",
       "      <td>0.199948</td>\n",
       "      <td>0.037203</td>\n",
       "      <td>-0.935189</td>\n",
       "      <td>-1.162244</td>\n",
       "      <td>0.801657</td>\n",
       "      <td>0.595150</td>\n",
       "      <td>-1.345621</td>\n",
       "      <td>-0.907900</td>\n",
       "      <td>-0.697540</td>\n",
       "      <td>-1.352005</td>\n",
       "      <td>0.590415</td>\n",
       "      <td>-0.867804</td>\n",
       "      <td>-0.376091</td>\n",
       "      <td>-0.142662</td>\n",
       "      <td>-0.778920</td>\n",
       "      <td>-0.680884</td>\n",
       "      <td>-0.686198</td>\n",
       "      <td>1.809283</td>\n",
       "      <td>-0.568112</td>\n",
       "      <td>-0.660895</td>\n",
       "      <td>-0.543449</td>\n",
       "      <td>1.71377</td>\n",
       "      <td>-0.574271</td>\n",
       "      <td>1.040795</td>\n",
       "      <td>0.498234</td>\n",
       "      <td>0.063372</td>\n",
       "      <td>1.567364</td>\n",
       "      <td>-1.489960</td>\n",
       "      <td>1.718916</td>\n",
       "      <td>-1.246819</td>\n",
       "      <td>0.928261</td>\n",
       "    </tr>\n",
       "    <tr>\n",
       "      <th>1</th>\n",
       "      <td>-1.375488</td>\n",
       "      <td>-0.789850</td>\n",
       "      <td>0.199948</td>\n",
       "      <td>-0.941349</td>\n",
       "      <td>-0.935189</td>\n",
       "      <td>-0.838261</td>\n",
       "      <td>-1.283963</td>\n",
       "      <td>0.639436</td>\n",
       "      <td>-0.884697</td>\n",
       "      <td>-0.220005</td>\n",
       "      <td>0.002246</td>\n",
       "      <td>-0.874957</td>\n",
       "      <td>0.590415</td>\n",
       "      <td>-0.867804</td>\n",
       "      <td>-0.376091</td>\n",
       "      <td>-0.142662</td>\n",
       "      <td>-0.778920</td>\n",
       "      <td>-0.680884</td>\n",
       "      <td>-0.686198</td>\n",
       "      <td>-0.552705</td>\n",
       "      <td>-0.568112</td>\n",
       "      <td>-0.660895</td>\n",
       "      <td>-0.543449</td>\n",
       "      <td>1.71377</td>\n",
       "      <td>-0.574271</td>\n",
       "      <td>1.265710</td>\n",
       "      <td>-0.374839</td>\n",
       "      <td>0.063372</td>\n",
       "      <td>-1.459409</td>\n",
       "      <td>-1.363682</td>\n",
       "      <td>0.841918</td>\n",
       "      <td>1.116819</td>\n",
       "      <td>-0.543612</td>\n",
       "    </tr>\n",
       "    <tr>\n",
       "      <th>2</th>\n",
       "      <td>-1.375488</td>\n",
       "      <td>-0.789850</td>\n",
       "      <td>0.199948</td>\n",
       "      <td>0.701881</td>\n",
       "      <td>0.008493</td>\n",
       "      <td>-0.475630</td>\n",
       "      <td>-0.938737</td>\n",
       "      <td>0.403858</td>\n",
       "      <td>-1.065346</td>\n",
       "      <td>-0.703256</td>\n",
       "      <td>-0.739257</td>\n",
       "      <td>-1.036298</td>\n",
       "      <td>0.590415</td>\n",
       "      <td>-0.867804</td>\n",
       "      <td>-0.376091</td>\n",
       "      <td>-0.142662</td>\n",
       "      <td>-0.778920</td>\n",
       "      <td>-0.680884</td>\n",
       "      <td>-0.686198</td>\n",
       "      <td>1.809283</td>\n",
       "      <td>-0.568112</td>\n",
       "      <td>-0.660895</td>\n",
       "      <td>-0.543449</td>\n",
       "      <td>1.71377</td>\n",
       "      <td>-0.574271</td>\n",
       "      <td>1.040795</td>\n",
       "      <td>-0.665863</td>\n",
       "      <td>0.063372</td>\n",
       "      <td>0.053977</td>\n",
       "      <td>-1.363682</td>\n",
       "      <td>-0.619745</td>\n",
       "      <td>1.116819</td>\n",
       "      <td>-0.052987</td>\n",
       "    </tr>\n",
       "    <tr>\n",
       "      <th>3</th>\n",
       "      <td>-0.480571</td>\n",
       "      <td>-0.179825</td>\n",
       "      <td>0.199948</td>\n",
       "      <td>0.812660</td>\n",
       "      <td>0.480334</td>\n",
       "      <td>1.370904</td>\n",
       "      <td>-1.044302</td>\n",
       "      <td>1.547805</td>\n",
       "      <td>0.998654</td>\n",
       "      <td>1.179050</td>\n",
       "      <td>0.964901</td>\n",
       "      <td>-0.342902</td>\n",
       "      <td>0.590415</td>\n",
       "      <td>-0.867804</td>\n",
       "      <td>-0.376091</td>\n",
       "      <td>-0.142662</td>\n",
       "      <td>-0.778920</td>\n",
       "      <td>-0.680884</td>\n",
       "      <td>-0.686198</td>\n",
       "      <td>-0.552705</td>\n",
       "      <td>-0.568112</td>\n",
       "      <td>1.513101</td>\n",
       "      <td>-0.543449</td>\n",
       "      <td>1.71377</td>\n",
       "      <td>-0.574271</td>\n",
       "      <td>1.153252</td>\n",
       "      <td>-0.956888</td>\n",
       "      <td>0.063372</td>\n",
       "      <td>-0.954947</td>\n",
       "      <td>-0.479732</td>\n",
       "      <td>-0.619745</td>\n",
       "      <td>1.116819</td>\n",
       "      <td>-0.052987</td>\n",
       "    </tr>\n",
       "    <tr>\n",
       "      <th>4</th>\n",
       "      <td>0.414347</td>\n",
       "      <td>0.430200</td>\n",
       "      <td>0.199948</td>\n",
       "      <td>0.388005</td>\n",
       "      <td>-0.935189</td>\n",
       "      <td>-0.534449</td>\n",
       "      <td>1.104086</td>\n",
       "      <td>0.979575</td>\n",
       "      <td>-0.192476</td>\n",
       "      <td>0.425059</td>\n",
       "      <td>0.406336</td>\n",
       "      <td>-0.446362</td>\n",
       "      <td>0.590415</td>\n",
       "      <td>-0.867804</td>\n",
       "      <td>-0.376091</td>\n",
       "      <td>-0.142662</td>\n",
       "      <td>-0.778920</td>\n",
       "      <td>-0.680884</td>\n",
       "      <td>-0.686198</td>\n",
       "      <td>1.809283</td>\n",
       "      <td>-0.568112</td>\n",
       "      <td>-0.660895</td>\n",
       "      <td>-0.543449</td>\n",
       "      <td>1.71377</td>\n",
       "      <td>-0.574271</td>\n",
       "      <td>0.590965</td>\n",
       "      <td>-0.956888</td>\n",
       "      <td>0.063372</td>\n",
       "      <td>0.053977</td>\n",
       "      <td>0.025382</td>\n",
       "      <td>-0.912078</td>\n",
       "      <td>-1.246819</td>\n",
       "      <td>-1.034236</td>\n",
       "    </tr>\n",
       "    <tr>\n",
       "      <th>...</th>\n",
       "      <td>...</td>\n",
       "      <td>...</td>\n",
       "      <td>...</td>\n",
       "      <td>...</td>\n",
       "      <td>...</td>\n",
       "      <td>...</td>\n",
       "      <td>...</td>\n",
       "      <td>...</td>\n",
       "      <td>...</td>\n",
       "      <td>...</td>\n",
       "      <td>...</td>\n",
       "      <td>...</td>\n",
       "      <td>...</td>\n",
       "      <td>...</td>\n",
       "      <td>...</td>\n",
       "      <td>...</td>\n",
       "      <td>...</td>\n",
       "      <td>...</td>\n",
       "      <td>...</td>\n",
       "      <td>...</td>\n",
       "      <td>...</td>\n",
       "      <td>...</td>\n",
       "      <td>...</td>\n",
       "      <td>...</td>\n",
       "      <td>...</td>\n",
       "      <td>...</td>\n",
       "      <td>...</td>\n",
       "      <td>...</td>\n",
       "      <td>...</td>\n",
       "      <td>...</td>\n",
       "      <td>...</td>\n",
       "      <td>...</td>\n",
       "      <td>...</td>\n",
       "    </tr>\n",
       "    <tr>\n",
       "      <th>995</th>\n",
       "      <td>-1.375488</td>\n",
       "      <td>-0.466903</td>\n",
       "      <td>1.331565</td>\n",
       "      <td>-0.941349</td>\n",
       "      <td>0.008493</td>\n",
       "      <td>-0.365053</td>\n",
       "      <td>1.871572</td>\n",
       "      <td>-0.543721</td>\n",
       "      <td>0.818994</td>\n",
       "      <td>-0.546734</td>\n",
       "      <td>-0.634655</td>\n",
       "      <td>0.616032</td>\n",
       "      <td>-1.461415</td>\n",
       "      <td>1.033336</td>\n",
       "      <td>-0.698658</td>\n",
       "      <td>-1.599651</td>\n",
       "      <td>1.378204</td>\n",
       "      <td>-0.454150</td>\n",
       "      <td>-0.719640</td>\n",
       "      <td>-0.552705</td>\n",
       "      <td>-0.568112</td>\n",
       "      <td>1.513101</td>\n",
       "      <td>-0.543449</td>\n",
       "      <td>1.71377</td>\n",
       "      <td>-0.574271</td>\n",
       "      <td>0.928337</td>\n",
       "      <td>1.080282</td>\n",
       "      <td>0.063372</td>\n",
       "      <td>0.053977</td>\n",
       "      <td>0.909332</td>\n",
       "      <td>-1.496743</td>\n",
       "      <td>-1.246819</td>\n",
       "      <td>0.928261</td>\n",
       "    </tr>\n",
       "    <tr>\n",
       "      <th>996</th>\n",
       "      <td>0.414347</td>\n",
       "      <td>1.399041</td>\n",
       "      <td>1.331565</td>\n",
       "      <td>0.074130</td>\n",
       "      <td>0.952175</td>\n",
       "      <td>1.627809</td>\n",
       "      <td>-0.833173</td>\n",
       "      <td>0.682517</td>\n",
       "      <td>0.495628</td>\n",
       "      <td>0.903197</td>\n",
       "      <td>0.586081</td>\n",
       "      <td>0.088782</td>\n",
       "      <td>-1.461415</td>\n",
       "      <td>1.033336</td>\n",
       "      <td>-0.698658</td>\n",
       "      <td>-1.599651</td>\n",
       "      <td>1.378204</td>\n",
       "      <td>-0.454150</td>\n",
       "      <td>-0.719640</td>\n",
       "      <td>-0.552705</td>\n",
       "      <td>1.760216</td>\n",
       "      <td>-0.660895</td>\n",
       "      <td>-0.543449</td>\n",
       "      <td>1.71377</td>\n",
       "      <td>-0.574271</td>\n",
       "      <td>-1.320814</td>\n",
       "      <td>-0.083815</td>\n",
       "      <td>0.063372</td>\n",
       "      <td>-0.954947</td>\n",
       "      <td>-0.984846</td>\n",
       "      <td>-0.619745</td>\n",
       "      <td>1.116819</td>\n",
       "      <td>1.418886</td>\n",
       "    </tr>\n",
       "    <tr>\n",
       "      <th>997</th>\n",
       "      <td>1.309264</td>\n",
       "      <td>2.332014</td>\n",
       "      <td>1.331565</td>\n",
       "      <td>1.588117</td>\n",
       "      <td>-0.463348</td>\n",
       "      <td>0.372762</td>\n",
       "      <td>-1.480828</td>\n",
       "      <td>1.547805</td>\n",
       "      <td>1.271895</td>\n",
       "      <td>1.239097</td>\n",
       "      <td>0.987699</td>\n",
       "      <td>0.635657</td>\n",
       "      <td>-1.461415</td>\n",
       "      <td>1.033336</td>\n",
       "      <td>-0.698658</td>\n",
       "      <td>-1.599651</td>\n",
       "      <td>1.378204</td>\n",
       "      <td>-0.454150</td>\n",
       "      <td>-0.719640</td>\n",
       "      <td>-0.552705</td>\n",
       "      <td>1.760216</td>\n",
       "      <td>-0.660895</td>\n",
       "      <td>-0.543449</td>\n",
       "      <td>1.71377</td>\n",
       "      <td>-0.574271</td>\n",
       "      <td>-1.208357</td>\n",
       "      <td>-0.665863</td>\n",
       "      <td>0.063372</td>\n",
       "      <td>0.558440</td>\n",
       "      <td>0.783053</td>\n",
       "      <td>0.841918</td>\n",
       "      <td>1.116819</td>\n",
       "      <td>0.928261</td>\n",
       "    </tr>\n",
       "    <tr>\n",
       "      <th>998</th>\n",
       "      <td>-0.480571</td>\n",
       "      <td>0.466069</td>\n",
       "      <td>1.331565</td>\n",
       "      <td>-1.015202</td>\n",
       "      <td>-1.407030</td>\n",
       "      <td>-0.528047</td>\n",
       "      <td>-1.121336</td>\n",
       "      <td>2.537640</td>\n",
       "      <td>0.693941</td>\n",
       "      <td>1.654759</td>\n",
       "      <td>0.999648</td>\n",
       "      <td>0.316892</td>\n",
       "      <td>-1.461415</td>\n",
       "      <td>1.033336</td>\n",
       "      <td>-0.698658</td>\n",
       "      <td>-1.599651</td>\n",
       "      <td>1.378204</td>\n",
       "      <td>-0.454150</td>\n",
       "      <td>-0.719640</td>\n",
       "      <td>-0.552705</td>\n",
       "      <td>-0.568112</td>\n",
       "      <td>-0.660895</td>\n",
       "      <td>-0.543449</td>\n",
       "      <td>1.71377</td>\n",
       "      <td>-0.574271</td>\n",
       "      <td>1.490625</td>\n",
       "      <td>0.789258</td>\n",
       "      <td>0.063372</td>\n",
       "      <td>1.567364</td>\n",
       "      <td>-0.479732</td>\n",
       "      <td>1.426584</td>\n",
       "      <td>1.116819</td>\n",
       "      <td>-1.524861</td>\n",
       "    </tr>\n",
       "    <tr>\n",
       "      <th>999</th>\n",
       "      <td>-1.375488</td>\n",
       "      <td>-0.466903</td>\n",
       "      <td>1.331565</td>\n",
       "      <td>0.628028</td>\n",
       "      <td>0.480334</td>\n",
       "      <td>-0.259755</td>\n",
       "      <td>-0.781817</td>\n",
       "      <td>0.476124</td>\n",
       "      <td>-1.150591</td>\n",
       "      <td>-0.799396</td>\n",
       "      <td>-0.579289</td>\n",
       "      <td>-1.603511</td>\n",
       "      <td>-1.461415</td>\n",
       "      <td>1.033336</td>\n",
       "      <td>-0.698658</td>\n",
       "      <td>-1.599651</td>\n",
       "      <td>1.378204</td>\n",
       "      <td>-0.454150</td>\n",
       "      <td>-0.719640</td>\n",
       "      <td>-0.552705</td>\n",
       "      <td>1.760216</td>\n",
       "      <td>-0.660895</td>\n",
       "      <td>-0.543449</td>\n",
       "      <td>1.71377</td>\n",
       "      <td>-0.574271</td>\n",
       "      <td>0.590965</td>\n",
       "      <td>-0.665863</td>\n",
       "      <td>0.063372</td>\n",
       "      <td>1.567364</td>\n",
       "      <td>-1.237403</td>\n",
       "      <td>-1.204411</td>\n",
       "      <td>1.116819</td>\n",
       "      <td>-1.524861</td>\n",
       "    </tr>\n",
       "  </tbody>\n",
       "</table>\n",
       "<p>1000 rows × 33 columns</p>\n",
       "</div>"
      ],
      "text/plain": [
       "     Quantity  TotalValue     Price  Recency from Today  Frequency  Monetary  \\\n",
       "0   -1.375488   -0.789850  0.199948            0.037203  -0.935189 -1.162244   \n",
       "1   -1.375488   -0.789850  0.199948           -0.941349  -0.935189 -0.838261   \n",
       "2   -1.375488   -0.789850  0.199948            0.701881   0.008493 -0.475630   \n",
       "3   -0.480571   -0.179825  0.199948            0.812660   0.480334  1.370904   \n",
       "4    0.414347    0.430200  0.199948            0.388005  -0.935189 -0.534449   \n",
       "..        ...         ...       ...                 ...        ...       ...   \n",
       "995 -1.375488   -0.466903  1.331565           -0.941349   0.008493 -0.365053   \n",
       "996  0.414347    1.399041  1.331565            0.074130   0.952175  1.627809   \n",
       "997  1.309264    2.332014  1.331565            1.588117  -0.463348  0.372762   \n",
       "998 -0.480571    0.466069  1.331565           -1.015202  -1.407030 -0.528047   \n",
       "999 -1.375488   -0.466903  1.331565            0.628028   0.480334 -0.259755   \n",
       "\n",
       "     Difference of Transaction and Signup  CustomerName_min  CustomerName_max  \\\n",
       "0                                0.801657          0.595150         -1.345621   \n",
       "1                               -1.283963          0.639436         -0.884697   \n",
       "2                               -0.938737          0.403858         -1.065346   \n",
       "3                               -1.044302          1.547805          0.998654   \n",
       "4                                1.104086          0.979575         -0.192476   \n",
       "..                                    ...               ...               ...   \n",
       "995                              1.871572         -0.543721          0.818994   \n",
       "996                             -0.833173          0.682517          0.495628   \n",
       "997                             -1.480828          1.547805          1.271895   \n",
       "998                             -1.121336          2.537640          0.693941   \n",
       "999                             -0.781817          0.476124         -1.150591   \n",
       "\n",
       "     CustomerName_mean  CustomerName_median  CustomerName_std  \\\n",
       "0            -0.907900            -0.697540         -1.352005   \n",
       "1            -0.220005             0.002246         -0.874957   \n",
       "2            -0.703256            -0.739257         -1.036298   \n",
       "3             1.179050             0.964901         -0.342902   \n",
       "4             0.425059             0.406336         -0.446362   \n",
       "..                 ...                  ...               ...   \n",
       "995          -0.546734            -0.634655          0.616032   \n",
       "996           0.903197             0.586081          0.088782   \n",
       "997           1.239097             0.987699          0.635657   \n",
       "998           1.654759             0.999648          0.316892   \n",
       "999          -0.799396            -0.579289         -1.603511   \n",
       "\n",
       "     ProductName_min  ProductName_max  ProductName_mean  ProductName_median  \\\n",
       "0           0.590415        -0.867804         -0.376091           -0.142662   \n",
       "1           0.590415        -0.867804         -0.376091           -0.142662   \n",
       "2           0.590415        -0.867804         -0.376091           -0.142662   \n",
       "3           0.590415        -0.867804         -0.376091           -0.142662   \n",
       "4           0.590415        -0.867804         -0.376091           -0.142662   \n",
       "..               ...              ...               ...                 ...   \n",
       "995        -1.461415         1.033336         -0.698658           -1.599651   \n",
       "996        -1.461415         1.033336         -0.698658           -1.599651   \n",
       "997        -1.461415         1.033336         -0.698658           -1.599651   \n",
       "998        -1.461415         1.033336         -0.698658           -1.599651   \n",
       "999        -1.461415         1.033336         -0.698658           -1.599651   \n",
       "\n",
       "     ProductName_std  ProductName_count  ProductName_sum  Region_Europe  \\\n",
       "0          -0.778920          -0.680884        -0.686198       1.809283   \n",
       "1          -0.778920          -0.680884        -0.686198      -0.552705   \n",
       "2          -0.778920          -0.680884        -0.686198       1.809283   \n",
       "3          -0.778920          -0.680884        -0.686198      -0.552705   \n",
       "4          -0.778920          -0.680884        -0.686198       1.809283   \n",
       "..               ...                ...              ...            ...   \n",
       "995         1.378204          -0.454150        -0.719640      -0.552705   \n",
       "996         1.378204          -0.454150        -0.719640      -0.552705   \n",
       "997         1.378204          -0.454150        -0.719640      -0.552705   \n",
       "998         1.378204          -0.454150        -0.719640      -0.552705   \n",
       "999         1.378204          -0.454150        -0.719640      -0.552705   \n",
       "\n",
       "     Region_North America  Region_South America  Category_Clothing  \\\n",
       "0               -0.568112             -0.660895          -0.543449   \n",
       "1               -0.568112             -0.660895          -0.543449   \n",
       "2               -0.568112             -0.660895          -0.543449   \n",
       "3               -0.568112              1.513101          -0.543449   \n",
       "4               -0.568112             -0.660895          -0.543449   \n",
       "..                    ...                   ...                ...   \n",
       "995             -0.568112              1.513101          -0.543449   \n",
       "996              1.760216             -0.660895          -0.543449   \n",
       "997              1.760216             -0.660895          -0.543449   \n",
       "998             -0.568112             -0.660895          -0.543449   \n",
       "999              1.760216             -0.660895          -0.543449   \n",
       "\n",
       "     Category_Electronics  Category_Home Decor  TransactionDate_day  \\\n",
       "0                 1.71377            -0.574271             1.040795   \n",
       "1                 1.71377            -0.574271             1.265710   \n",
       "2                 1.71377            -0.574271             1.040795   \n",
       "3                 1.71377            -0.574271             1.153252   \n",
       "4                 1.71377            -0.574271             0.590965   \n",
       "..                    ...                  ...                  ...   \n",
       "995               1.71377            -0.574271             0.928337   \n",
       "996               1.71377            -0.574271            -1.320814   \n",
       "997               1.71377            -0.574271            -1.208357   \n",
       "998               1.71377            -0.574271             1.490625   \n",
       "999               1.71377            -0.574271             0.590965   \n",
       "\n",
       "     TransactionDate_month  TransactionDate_year  TransactionDate_weekday  \\\n",
       "0                 0.498234              0.063372                 1.567364   \n",
       "1                -0.374839              0.063372                -1.459409   \n",
       "2                -0.665863              0.063372                 0.053977   \n",
       "3                -0.956888              0.063372                -0.954947   \n",
       "4                -0.956888              0.063372                 0.053977   \n",
       "..                     ...                   ...                      ...   \n",
       "995               1.080282              0.063372                 0.053977   \n",
       "996              -0.083815              0.063372                -0.954947   \n",
       "997              -0.665863              0.063372                 0.558440   \n",
       "998               0.789258              0.063372                 1.567364   \n",
       "999              -0.665863              0.063372                 1.567364   \n",
       "\n",
       "     SignupDate_day  SignupDate_month  SignupDate_year  SignupDate_weekday  \n",
       "0         -1.489960          1.718916        -1.246819            0.928261  \n",
       "1         -1.363682          0.841918         1.116819           -0.543612  \n",
       "2         -1.363682         -0.619745         1.116819           -0.052987  \n",
       "3         -0.479732         -0.619745         1.116819           -0.052987  \n",
       "4          0.025382         -0.912078        -1.246819           -1.034236  \n",
       "..              ...               ...              ...                 ...  \n",
       "995        0.909332         -1.496743        -1.246819            0.928261  \n",
       "996       -0.984846         -0.619745         1.116819            1.418886  \n",
       "997        0.783053          0.841918         1.116819            0.928261  \n",
       "998       -0.479732          1.426584         1.116819           -1.524861  \n",
       "999       -1.237403         -1.204411         1.116819           -1.524861  \n",
       "\n",
       "[1000 rows x 33 columns]"
      ]
     },
     "execution_count": 50,
     "metadata": {},
     "output_type": "execute_result"
    }
   ],
   "source": [
    "scaled_df"
   ]
  },
  {
   "cell_type": "markdown",
   "id": "50e3e32b-2e41-4988-aa04-067c9438eda6",
   "metadata": {},
   "source": [
    "#\n",
    "---\n",
    "# Combining the scaled df with index"
   ]
  },
  {
   "cell_type": "code",
   "execution_count": 51,
   "id": "bfec74a4-8c38-4f2d-88f6-85fa4db7dbd1",
   "metadata": {
    "execution": {
     "iopub.execute_input": "2025-01-27T17:14:26.280566Z",
     "iopub.status.busy": "2025-01-27T17:14:26.280566Z",
     "iopub.status.idle": "2025-01-27T17:14:26.284413Z",
     "shell.execute_reply": "2025-01-27T17:14:26.284413Z",
     "shell.execute_reply.started": "2025-01-27T17:14:26.280566Z"
    }
   },
   "outputs": [],
   "source": [
    "new_df = pd.concat([indexes, scaled_df], axis=1)"
   ]
  },
  {
   "cell_type": "markdown",
   "id": "79e8e87e-10fd-4abc-90e1-f35d71a493a8",
   "metadata": {},
   "source": [
    "## As there are multiple instances for each customer, example as shown below, customer 1 has 5 transaction. This is because we have joined the tables. **So, I will be doing averaging for each customer to make multiple values into single**"
   ]
  },
  {
   "cell_type": "code",
   "execution_count": 52,
   "id": "43d1fac1-f706-4636-930b-bec7d18f7385",
   "metadata": {
    "execution": {
     "iopub.execute_input": "2025-01-27T17:14:26.286420Z",
     "iopub.status.busy": "2025-01-27T17:14:26.286420Z",
     "iopub.status.idle": "2025-01-27T17:14:26.309698Z",
     "shell.execute_reply": "2025-01-27T17:14:26.309698Z",
     "shell.execute_reply.started": "2025-01-27T17:14:26.286420Z"
    }
   },
   "outputs": [
    {
     "data": {
      "text/html": [
       "<div>\n",
       "<style scoped>\n",
       "    .dataframe tbody tr th:only-of-type {\n",
       "        vertical-align: middle;\n",
       "    }\n",
       "\n",
       "    .dataframe tbody tr th {\n",
       "        vertical-align: top;\n",
       "    }\n",
       "\n",
       "    .dataframe thead th {\n",
       "        text-align: right;\n",
       "    }\n",
       "</style>\n",
       "<table border=\"1\" class=\"dataframe\">\n",
       "  <thead>\n",
       "    <tr style=\"text-align: right;\">\n",
       "      <th></th>\n",
       "      <th>TransactionID</th>\n",
       "      <th>CustomerID</th>\n",
       "      <th>ProductID</th>\n",
       "      <th>Quantity</th>\n",
       "      <th>TotalValue</th>\n",
       "      <th>Price</th>\n",
       "      <th>Recency from Today</th>\n",
       "      <th>Frequency</th>\n",
       "      <th>Monetary</th>\n",
       "      <th>Difference of Transaction and Signup</th>\n",
       "      <th>CustomerName_min</th>\n",
       "      <th>CustomerName_max</th>\n",
       "      <th>CustomerName_mean</th>\n",
       "      <th>CustomerName_median</th>\n",
       "      <th>CustomerName_std</th>\n",
       "      <th>ProductName_min</th>\n",
       "      <th>ProductName_max</th>\n",
       "      <th>ProductName_mean</th>\n",
       "      <th>ProductName_median</th>\n",
       "      <th>ProductName_std</th>\n",
       "      <th>ProductName_count</th>\n",
       "      <th>ProductName_sum</th>\n",
       "      <th>Region_Europe</th>\n",
       "      <th>Region_North America</th>\n",
       "      <th>Region_South America</th>\n",
       "      <th>Category_Clothing</th>\n",
       "      <th>Category_Electronics</th>\n",
       "      <th>Category_Home Decor</th>\n",
       "      <th>TransactionDate_day</th>\n",
       "      <th>TransactionDate_month</th>\n",
       "      <th>TransactionDate_year</th>\n",
       "      <th>TransactionDate_weekday</th>\n",
       "      <th>SignupDate_day</th>\n",
       "      <th>SignupDate_month</th>\n",
       "      <th>SignupDate_year</th>\n",
       "      <th>SignupDate_weekday</th>\n",
       "    </tr>\n",
       "  </thead>\n",
       "  <tbody>\n",
       "    <tr>\n",
       "      <th>135</th>\n",
       "      <td>T00015</td>\n",
       "      <td>C0001</td>\n",
       "      <td>P054</td>\n",
       "      <td>-0.480571</td>\n",
       "      <td>-1.167373</td>\n",
       "      <td>-1.530249</td>\n",
       "      <td>-0.092039</td>\n",
       "      <td>-0.463348</td>\n",
       "      <td>-0.409007</td>\n",
       "      <td>0.593380</td>\n",
       "      <td>-0.541183</td>\n",
       "      <td>-0.131096</td>\n",
       "      <td>-0.088808</td>\n",
       "      <td>-0.046819</td>\n",
       "      <td>-0.085864</td>\n",
       "      <td>-1.164238</td>\n",
       "      <td>0.711193</td>\n",
       "      <td>-0.569403</td>\n",
       "      <td>-1.152331</td>\n",
       "      <td>0.759351</td>\n",
       "      <td>1.132993</td>\n",
       "      <td>0.215237</td>\n",
       "      <td>-0.552705</td>\n",
       "      <td>-0.568112</td>\n",
       "      <td>1.513101</td>\n",
       "      <td>-0.543449</td>\n",
       "      <td>-0.583509</td>\n",
       "      <td>-0.574271</td>\n",
       "      <td>0.366049</td>\n",
       "      <td>-1.538936</td>\n",
       "      <td>0.063372</td>\n",
       "      <td>0.558440</td>\n",
       "      <td>-0.606011</td>\n",
       "      <td>0.257253</td>\n",
       "      <td>-1.246819</td>\n",
       "      <td>1.418886</td>\n",
       "    </tr>\n",
       "    <tr>\n",
       "      <th>442</th>\n",
       "      <td>T00932</td>\n",
       "      <td>C0001</td>\n",
       "      <td>P022</td>\n",
       "      <td>0.414347</td>\n",
       "      <td>-0.562745</td>\n",
       "      <td>-0.959820</td>\n",
       "      <td>-0.092039</td>\n",
       "      <td>-0.463348</td>\n",
       "      <td>-0.409007</td>\n",
       "      <td>1.283832</td>\n",
       "      <td>-0.541183</td>\n",
       "      <td>-0.131096</td>\n",
       "      <td>-0.088808</td>\n",
       "      <td>-0.046819</td>\n",
       "      <td>-0.085864</td>\n",
       "      <td>-0.585746</td>\n",
       "      <td>-1.581451</td>\n",
       "      <td>-1.149361</td>\n",
       "      <td>-0.654713</td>\n",
       "      <td>-1.532789</td>\n",
       "      <td>-0.454150</td>\n",
       "      <td>-0.958383</td>\n",
       "      <td>-0.552705</td>\n",
       "      <td>-0.568112</td>\n",
       "      <td>1.513101</td>\n",
       "      <td>-0.543449</td>\n",
       "      <td>-0.583509</td>\n",
       "      <td>1.741338</td>\n",
       "      <td>0.141134</td>\n",
       "      <td>0.789258</td>\n",
       "      <td>0.063372</td>\n",
       "      <td>-0.954947</td>\n",
       "      <td>-0.606011</td>\n",
       "      <td>0.257253</td>\n",
       "      <td>-1.246819</td>\n",
       "      <td>1.418886</td>\n",
       "    </tr>\n",
       "    <tr>\n",
       "      <th>546</th>\n",
       "      <td>T00085</td>\n",
       "      <td>C0001</td>\n",
       "      <td>P096</td>\n",
       "      <td>-0.480571</td>\n",
       "      <td>-0.152274</td>\n",
       "      <td>0.248219</td>\n",
       "      <td>-0.092039</td>\n",
       "      <td>-0.463348</td>\n",
       "      <td>-0.409007</td>\n",
       "      <td>0.821629</td>\n",
       "      <td>-0.541183</td>\n",
       "      <td>-0.131096</td>\n",
       "      <td>-0.088808</td>\n",
       "      <td>-0.046819</td>\n",
       "      <td>-0.085864</td>\n",
       "      <td>-0.161394</td>\n",
       "      <td>-0.202912</td>\n",
       "      <td>-0.089279</td>\n",
       "      <td>-0.105820</td>\n",
       "      <td>-0.560667</td>\n",
       "      <td>2.153299</td>\n",
       "      <td>1.416511</td>\n",
       "      <td>-0.552705</td>\n",
       "      <td>-0.568112</td>\n",
       "      <td>1.513101</td>\n",
       "      <td>-0.543449</td>\n",
       "      <td>1.713770</td>\n",
       "      <td>-0.574271</td>\n",
       "      <td>-0.870984</td>\n",
       "      <td>-0.665863</td>\n",
       "      <td>0.063372</td>\n",
       "      <td>-1.459409</td>\n",
       "      <td>-0.606011</td>\n",
       "      <td>0.257253</td>\n",
       "      <td>-1.246819</td>\n",
       "      <td>1.418886</td>\n",
       "    </tr>\n",
       "    <tr>\n",
       "      <th>724</th>\n",
       "      <td>T00445</td>\n",
       "      <td>C0001</td>\n",
       "      <td>P083</td>\n",
       "      <td>-0.480571</td>\n",
       "      <td>0.449270</td>\n",
       "      <td>1.302134</td>\n",
       "      <td>-0.092039</td>\n",
       "      <td>-0.463348</td>\n",
       "      <td>-0.409007</td>\n",
       "      <td>0.904369</td>\n",
       "      <td>-0.541183</td>\n",
       "      <td>-0.131096</td>\n",
       "      <td>-0.088808</td>\n",
       "      <td>-0.046819</td>\n",
       "      <td>-0.085864</td>\n",
       "      <td>0.336856</td>\n",
       "      <td>0.999751</td>\n",
       "      <td>0.967205</td>\n",
       "      <td>0.871484</td>\n",
       "      <td>0.298787</td>\n",
       "      <td>2.380034</td>\n",
       "      <td>3.066548</td>\n",
       "      <td>-0.552705</td>\n",
       "      <td>-0.568112</td>\n",
       "      <td>1.513101</td>\n",
       "      <td>-0.543449</td>\n",
       "      <td>1.713770</td>\n",
       "      <td>-0.574271</td>\n",
       "      <td>-0.983441</td>\n",
       "      <td>-0.374839</td>\n",
       "      <td>0.063372</td>\n",
       "      <td>-0.954947</td>\n",
       "      <td>-0.606011</td>\n",
       "      <td>0.257253</td>\n",
       "      <td>-1.246819</td>\n",
       "      <td>1.418886</td>\n",
       "    </tr>\n",
       "    <tr>\n",
       "      <th>776</th>\n",
       "      <td>T00436</td>\n",
       "      <td>C0001</td>\n",
       "      <td>P029</td>\n",
       "      <td>0.414347</td>\n",
       "      <td>1.239454</td>\n",
       "      <td>1.145166</td>\n",
       "      <td>-0.092039</td>\n",
       "      <td>-0.463348</td>\n",
       "      <td>-0.409007</td>\n",
       "      <td>1.415075</td>\n",
       "      <td>-0.541183</td>\n",
       "      <td>-0.131096</td>\n",
       "      <td>-0.088808</td>\n",
       "      <td>-0.046819</td>\n",
       "      <td>-0.085864</td>\n",
       "      <td>1.548993</td>\n",
       "      <td>0.820629</td>\n",
       "      <td>1.540761</td>\n",
       "      <td>1.755243</td>\n",
       "      <td>0.709978</td>\n",
       "      <td>-0.227415</td>\n",
       "      <td>0.739419</td>\n",
       "      <td>-0.552705</td>\n",
       "      <td>-0.568112</td>\n",
       "      <td>1.513101</td>\n",
       "      <td>-0.543449</td>\n",
       "      <td>1.713770</td>\n",
       "      <td>-0.574271</td>\n",
       "      <td>-1.545729</td>\n",
       "      <td>1.371306</td>\n",
       "      <td>0.063372</td>\n",
       "      <td>1.062902</td>\n",
       "      <td>-0.606011</td>\n",
       "      <td>0.257253</td>\n",
       "      <td>-1.246819</td>\n",
       "      <td>1.418886</td>\n",
       "    </tr>\n",
       "  </tbody>\n",
       "</table>\n",
       "</div>"
      ],
      "text/plain": [
       "    TransactionID CustomerID ProductID  Quantity  TotalValue     Price  \\\n",
       "135        T00015      C0001      P054 -0.480571   -1.167373 -1.530249   \n",
       "442        T00932      C0001      P022  0.414347   -0.562745 -0.959820   \n",
       "546        T00085      C0001      P096 -0.480571   -0.152274  0.248219   \n",
       "724        T00445      C0001      P083 -0.480571    0.449270  1.302134   \n",
       "776        T00436      C0001      P029  0.414347    1.239454  1.145166   \n",
       "\n",
       "     Recency from Today  Frequency  Monetary  \\\n",
       "135           -0.092039  -0.463348 -0.409007   \n",
       "442           -0.092039  -0.463348 -0.409007   \n",
       "546           -0.092039  -0.463348 -0.409007   \n",
       "724           -0.092039  -0.463348 -0.409007   \n",
       "776           -0.092039  -0.463348 -0.409007   \n",
       "\n",
       "     Difference of Transaction and Signup  CustomerName_min  CustomerName_max  \\\n",
       "135                              0.593380         -0.541183         -0.131096   \n",
       "442                              1.283832         -0.541183         -0.131096   \n",
       "546                              0.821629         -0.541183         -0.131096   \n",
       "724                              0.904369         -0.541183         -0.131096   \n",
       "776                              1.415075         -0.541183         -0.131096   \n",
       "\n",
       "     CustomerName_mean  CustomerName_median  CustomerName_std  \\\n",
       "135          -0.088808            -0.046819         -0.085864   \n",
       "442          -0.088808            -0.046819         -0.085864   \n",
       "546          -0.088808            -0.046819         -0.085864   \n",
       "724          -0.088808            -0.046819         -0.085864   \n",
       "776          -0.088808            -0.046819         -0.085864   \n",
       "\n",
       "     ProductName_min  ProductName_max  ProductName_mean  ProductName_median  \\\n",
       "135        -1.164238         0.711193         -0.569403           -1.152331   \n",
       "442        -0.585746        -1.581451         -1.149361           -0.654713   \n",
       "546        -0.161394        -0.202912         -0.089279           -0.105820   \n",
       "724         0.336856         0.999751          0.967205            0.871484   \n",
       "776         1.548993         0.820629          1.540761            1.755243   \n",
       "\n",
       "     ProductName_std  ProductName_count  ProductName_sum  Region_Europe  \\\n",
       "135         0.759351           1.132993         0.215237      -0.552705   \n",
       "442        -1.532789          -0.454150        -0.958383      -0.552705   \n",
       "546        -0.560667           2.153299         1.416511      -0.552705   \n",
       "724         0.298787           2.380034         3.066548      -0.552705   \n",
       "776         0.709978          -0.227415         0.739419      -0.552705   \n",
       "\n",
       "     Region_North America  Region_South America  Category_Clothing  \\\n",
       "135             -0.568112              1.513101          -0.543449   \n",
       "442             -0.568112              1.513101          -0.543449   \n",
       "546             -0.568112              1.513101          -0.543449   \n",
       "724             -0.568112              1.513101          -0.543449   \n",
       "776             -0.568112              1.513101          -0.543449   \n",
       "\n",
       "     Category_Electronics  Category_Home Decor  TransactionDate_day  \\\n",
       "135             -0.583509            -0.574271             0.366049   \n",
       "442             -0.583509             1.741338             0.141134   \n",
       "546              1.713770            -0.574271            -0.870984   \n",
       "724              1.713770            -0.574271            -0.983441   \n",
       "776              1.713770            -0.574271            -1.545729   \n",
       "\n",
       "     TransactionDate_month  TransactionDate_year  TransactionDate_weekday  \\\n",
       "135              -1.538936              0.063372                 0.558440   \n",
       "442               0.789258              0.063372                -0.954947   \n",
       "546              -0.665863              0.063372                -1.459409   \n",
       "724              -0.374839              0.063372                -0.954947   \n",
       "776               1.371306              0.063372                 1.062902   \n",
       "\n",
       "     SignupDate_day  SignupDate_month  SignupDate_year  SignupDate_weekday  \n",
       "135       -0.606011          0.257253        -1.246819            1.418886  \n",
       "442       -0.606011          0.257253        -1.246819            1.418886  \n",
       "546       -0.606011          0.257253        -1.246819            1.418886  \n",
       "724       -0.606011          0.257253        -1.246819            1.418886  \n",
       "776       -0.606011          0.257253        -1.246819            1.418886  "
      ]
     },
     "execution_count": 52,
     "metadata": {},
     "output_type": "execute_result"
    }
   ],
   "source": [
    "new_df[new_df[\"CustomerID\"] == \"C0001\"]"
   ]
  },
  {
   "cell_type": "code",
   "execution_count": 53,
   "id": "51e9bcaf-4273-44b2-878b-4b57eab8964b",
   "metadata": {
    "execution": {
     "iopub.execute_input": "2025-01-27T17:14:26.311133Z",
     "iopub.status.busy": "2025-01-27T17:14:26.311053Z",
     "iopub.status.idle": "2025-01-27T17:14:26.315486Z",
     "shell.execute_reply": "2025-01-27T17:14:26.314980Z",
     "shell.execute_reply.started": "2025-01-27T17:14:26.311133Z"
    }
   },
   "outputs": [],
   "source": [
    "new_df.drop([\"TransactionID\", \"ProductID\"], axis=1, inplace=True)"
   ]
  },
  {
   "cell_type": "code",
   "execution_count": 54,
   "id": "885705ff-ea33-464e-b8f2-c4e70b19f339",
   "metadata": {
    "execution": {
     "iopub.execute_input": "2025-01-27T17:14:26.316496Z",
     "iopub.status.busy": "2025-01-27T17:14:26.316496Z",
     "iopub.status.idle": "2025-01-27T17:14:26.339031Z",
     "shell.execute_reply": "2025-01-27T17:14:26.339031Z",
     "shell.execute_reply.started": "2025-01-27T17:14:26.316496Z"
    }
   },
   "outputs": [
    {
     "data": {
      "text/html": [
       "<div>\n",
       "<style scoped>\n",
       "    .dataframe tbody tr th:only-of-type {\n",
       "        vertical-align: middle;\n",
       "    }\n",
       "\n",
       "    .dataframe tbody tr th {\n",
       "        vertical-align: top;\n",
       "    }\n",
       "\n",
       "    .dataframe thead th {\n",
       "        text-align: right;\n",
       "    }\n",
       "</style>\n",
       "<table border=\"1\" class=\"dataframe\">\n",
       "  <thead>\n",
       "    <tr style=\"text-align: right;\">\n",
       "      <th></th>\n",
       "      <th>CustomerID</th>\n",
       "      <th>Quantity</th>\n",
       "      <th>TotalValue</th>\n",
       "      <th>Price</th>\n",
       "      <th>Recency from Today</th>\n",
       "      <th>Frequency</th>\n",
       "      <th>Monetary</th>\n",
       "      <th>Difference of Transaction and Signup</th>\n",
       "      <th>CustomerName_min</th>\n",
       "      <th>CustomerName_max</th>\n",
       "      <th>CustomerName_mean</th>\n",
       "      <th>CustomerName_median</th>\n",
       "      <th>CustomerName_std</th>\n",
       "      <th>ProductName_min</th>\n",
       "      <th>ProductName_max</th>\n",
       "      <th>ProductName_mean</th>\n",
       "      <th>ProductName_median</th>\n",
       "      <th>ProductName_std</th>\n",
       "      <th>ProductName_count</th>\n",
       "      <th>ProductName_sum</th>\n",
       "      <th>Region_Europe</th>\n",
       "      <th>Region_North America</th>\n",
       "      <th>Region_South America</th>\n",
       "      <th>Category_Clothing</th>\n",
       "      <th>Category_Electronics</th>\n",
       "      <th>Category_Home Decor</th>\n",
       "      <th>TransactionDate_day</th>\n",
       "      <th>TransactionDate_month</th>\n",
       "      <th>TransactionDate_year</th>\n",
       "      <th>TransactionDate_weekday</th>\n",
       "      <th>SignupDate_day</th>\n",
       "      <th>SignupDate_month</th>\n",
       "      <th>SignupDate_year</th>\n",
       "      <th>SignupDate_weekday</th>\n",
       "    </tr>\n",
       "  </thead>\n",
       "  <tbody>\n",
       "    <tr>\n",
       "      <th>0</th>\n",
       "      <td>C0199</td>\n",
       "      <td>-1.375488</td>\n",
       "      <td>-0.789850</td>\n",
       "      <td>0.199948</td>\n",
       "      <td>0.037203</td>\n",
       "      <td>-0.935189</td>\n",
       "      <td>-1.162244</td>\n",
       "      <td>0.801657</td>\n",
       "      <td>0.595150</td>\n",
       "      <td>-1.345621</td>\n",
       "      <td>-0.907900</td>\n",
       "      <td>-0.697540</td>\n",
       "      <td>-1.352005</td>\n",
       "      <td>0.590415</td>\n",
       "      <td>-0.867804</td>\n",
       "      <td>-0.376091</td>\n",
       "      <td>-0.142662</td>\n",
       "      <td>-0.77892</td>\n",
       "      <td>-0.680884</td>\n",
       "      <td>-0.686198</td>\n",
       "      <td>1.809283</td>\n",
       "      <td>-0.568112</td>\n",
       "      <td>-0.660895</td>\n",
       "      <td>-0.543449</td>\n",
       "      <td>1.71377</td>\n",
       "      <td>-0.574271</td>\n",
       "      <td>1.040795</td>\n",
       "      <td>0.498234</td>\n",
       "      <td>0.063372</td>\n",
       "      <td>1.567364</td>\n",
       "      <td>-1.489960</td>\n",
       "      <td>1.718916</td>\n",
       "      <td>-1.246819</td>\n",
       "      <td>0.928261</td>\n",
       "    </tr>\n",
       "    <tr>\n",
       "      <th>1</th>\n",
       "      <td>C0146</td>\n",
       "      <td>-1.375488</td>\n",
       "      <td>-0.789850</td>\n",
       "      <td>0.199948</td>\n",
       "      <td>-0.941349</td>\n",
       "      <td>-0.935189</td>\n",
       "      <td>-0.838261</td>\n",
       "      <td>-1.283963</td>\n",
       "      <td>0.639436</td>\n",
       "      <td>-0.884697</td>\n",
       "      <td>-0.220005</td>\n",
       "      <td>0.002246</td>\n",
       "      <td>-0.874957</td>\n",
       "      <td>0.590415</td>\n",
       "      <td>-0.867804</td>\n",
       "      <td>-0.376091</td>\n",
       "      <td>-0.142662</td>\n",
       "      <td>-0.77892</td>\n",
       "      <td>-0.680884</td>\n",
       "      <td>-0.686198</td>\n",
       "      <td>-0.552705</td>\n",
       "      <td>-0.568112</td>\n",
       "      <td>-0.660895</td>\n",
       "      <td>-0.543449</td>\n",
       "      <td>1.71377</td>\n",
       "      <td>-0.574271</td>\n",
       "      <td>1.265710</td>\n",
       "      <td>-0.374839</td>\n",
       "      <td>0.063372</td>\n",
       "      <td>-1.459409</td>\n",
       "      <td>-1.363682</td>\n",
       "      <td>0.841918</td>\n",
       "      <td>1.116819</td>\n",
       "      <td>-0.543612</td>\n",
       "    </tr>\n",
       "    <tr>\n",
       "      <th>2</th>\n",
       "      <td>C0127</td>\n",
       "      <td>-1.375488</td>\n",
       "      <td>-0.789850</td>\n",
       "      <td>0.199948</td>\n",
       "      <td>0.701881</td>\n",
       "      <td>0.008493</td>\n",
       "      <td>-0.475630</td>\n",
       "      <td>-0.938737</td>\n",
       "      <td>0.403858</td>\n",
       "      <td>-1.065346</td>\n",
       "      <td>-0.703256</td>\n",
       "      <td>-0.739257</td>\n",
       "      <td>-1.036298</td>\n",
       "      <td>0.590415</td>\n",
       "      <td>-0.867804</td>\n",
       "      <td>-0.376091</td>\n",
       "      <td>-0.142662</td>\n",
       "      <td>-0.77892</td>\n",
       "      <td>-0.680884</td>\n",
       "      <td>-0.686198</td>\n",
       "      <td>1.809283</td>\n",
       "      <td>-0.568112</td>\n",
       "      <td>-0.660895</td>\n",
       "      <td>-0.543449</td>\n",
       "      <td>1.71377</td>\n",
       "      <td>-0.574271</td>\n",
       "      <td>1.040795</td>\n",
       "      <td>-0.665863</td>\n",
       "      <td>0.063372</td>\n",
       "      <td>0.053977</td>\n",
       "      <td>-1.363682</td>\n",
       "      <td>-0.619745</td>\n",
       "      <td>1.116819</td>\n",
       "      <td>-0.052987</td>\n",
       "    </tr>\n",
       "    <tr>\n",
       "      <th>3</th>\n",
       "      <td>C0087</td>\n",
       "      <td>-0.480571</td>\n",
       "      <td>-0.179825</td>\n",
       "      <td>0.199948</td>\n",
       "      <td>0.812660</td>\n",
       "      <td>0.480334</td>\n",
       "      <td>1.370904</td>\n",
       "      <td>-1.044302</td>\n",
       "      <td>1.547805</td>\n",
       "      <td>0.998654</td>\n",
       "      <td>1.179050</td>\n",
       "      <td>0.964901</td>\n",
       "      <td>-0.342902</td>\n",
       "      <td>0.590415</td>\n",
       "      <td>-0.867804</td>\n",
       "      <td>-0.376091</td>\n",
       "      <td>-0.142662</td>\n",
       "      <td>-0.77892</td>\n",
       "      <td>-0.680884</td>\n",
       "      <td>-0.686198</td>\n",
       "      <td>-0.552705</td>\n",
       "      <td>-0.568112</td>\n",
       "      <td>1.513101</td>\n",
       "      <td>-0.543449</td>\n",
       "      <td>1.71377</td>\n",
       "      <td>-0.574271</td>\n",
       "      <td>1.153252</td>\n",
       "      <td>-0.956888</td>\n",
       "      <td>0.063372</td>\n",
       "      <td>-0.954947</td>\n",
       "      <td>-0.479732</td>\n",
       "      <td>-0.619745</td>\n",
       "      <td>1.116819</td>\n",
       "      <td>-0.052987</td>\n",
       "    </tr>\n",
       "    <tr>\n",
       "      <th>4</th>\n",
       "      <td>C0070</td>\n",
       "      <td>0.414347</td>\n",
       "      <td>0.430200</td>\n",
       "      <td>0.199948</td>\n",
       "      <td>0.388005</td>\n",
       "      <td>-0.935189</td>\n",
       "      <td>-0.534449</td>\n",
       "      <td>1.104086</td>\n",
       "      <td>0.979575</td>\n",
       "      <td>-0.192476</td>\n",
       "      <td>0.425059</td>\n",
       "      <td>0.406336</td>\n",
       "      <td>-0.446362</td>\n",
       "      <td>0.590415</td>\n",
       "      <td>-0.867804</td>\n",
       "      <td>-0.376091</td>\n",
       "      <td>-0.142662</td>\n",
       "      <td>-0.77892</td>\n",
       "      <td>-0.680884</td>\n",
       "      <td>-0.686198</td>\n",
       "      <td>1.809283</td>\n",
       "      <td>-0.568112</td>\n",
       "      <td>-0.660895</td>\n",
       "      <td>-0.543449</td>\n",
       "      <td>1.71377</td>\n",
       "      <td>-0.574271</td>\n",
       "      <td>0.590965</td>\n",
       "      <td>-0.956888</td>\n",
       "      <td>0.063372</td>\n",
       "      <td>0.053977</td>\n",
       "      <td>0.025382</td>\n",
       "      <td>-0.912078</td>\n",
       "      <td>-1.246819</td>\n",
       "      <td>-1.034236</td>\n",
       "    </tr>\n",
       "  </tbody>\n",
       "</table>\n",
       "</div>"
      ],
      "text/plain": [
       "  CustomerID  Quantity  TotalValue     Price  Recency from Today  Frequency  \\\n",
       "0      C0199 -1.375488   -0.789850  0.199948            0.037203  -0.935189   \n",
       "1      C0146 -1.375488   -0.789850  0.199948           -0.941349  -0.935189   \n",
       "2      C0127 -1.375488   -0.789850  0.199948            0.701881   0.008493   \n",
       "3      C0087 -0.480571   -0.179825  0.199948            0.812660   0.480334   \n",
       "4      C0070  0.414347    0.430200  0.199948            0.388005  -0.935189   \n",
       "\n",
       "   Monetary  Difference of Transaction and Signup  CustomerName_min  \\\n",
       "0 -1.162244                              0.801657          0.595150   \n",
       "1 -0.838261                             -1.283963          0.639436   \n",
       "2 -0.475630                             -0.938737          0.403858   \n",
       "3  1.370904                             -1.044302          1.547805   \n",
       "4 -0.534449                              1.104086          0.979575   \n",
       "\n",
       "   CustomerName_max  CustomerName_mean  CustomerName_median  CustomerName_std  \\\n",
       "0         -1.345621          -0.907900            -0.697540         -1.352005   \n",
       "1         -0.884697          -0.220005             0.002246         -0.874957   \n",
       "2         -1.065346          -0.703256            -0.739257         -1.036298   \n",
       "3          0.998654           1.179050             0.964901         -0.342902   \n",
       "4         -0.192476           0.425059             0.406336         -0.446362   \n",
       "\n",
       "   ProductName_min  ProductName_max  ProductName_mean  ProductName_median  \\\n",
       "0         0.590415        -0.867804         -0.376091           -0.142662   \n",
       "1         0.590415        -0.867804         -0.376091           -0.142662   \n",
       "2         0.590415        -0.867804         -0.376091           -0.142662   \n",
       "3         0.590415        -0.867804         -0.376091           -0.142662   \n",
       "4         0.590415        -0.867804         -0.376091           -0.142662   \n",
       "\n",
       "   ProductName_std  ProductName_count  ProductName_sum  Region_Europe  \\\n",
       "0         -0.77892          -0.680884        -0.686198       1.809283   \n",
       "1         -0.77892          -0.680884        -0.686198      -0.552705   \n",
       "2         -0.77892          -0.680884        -0.686198       1.809283   \n",
       "3         -0.77892          -0.680884        -0.686198      -0.552705   \n",
       "4         -0.77892          -0.680884        -0.686198       1.809283   \n",
       "\n",
       "   Region_North America  Region_South America  Category_Clothing  \\\n",
       "0             -0.568112             -0.660895          -0.543449   \n",
       "1             -0.568112             -0.660895          -0.543449   \n",
       "2             -0.568112             -0.660895          -0.543449   \n",
       "3             -0.568112              1.513101          -0.543449   \n",
       "4             -0.568112             -0.660895          -0.543449   \n",
       "\n",
       "   Category_Electronics  Category_Home Decor  TransactionDate_day  \\\n",
       "0               1.71377            -0.574271             1.040795   \n",
       "1               1.71377            -0.574271             1.265710   \n",
       "2               1.71377            -0.574271             1.040795   \n",
       "3               1.71377            -0.574271             1.153252   \n",
       "4               1.71377            -0.574271             0.590965   \n",
       "\n",
       "   TransactionDate_month  TransactionDate_year  TransactionDate_weekday  \\\n",
       "0               0.498234              0.063372                 1.567364   \n",
       "1              -0.374839              0.063372                -1.459409   \n",
       "2              -0.665863              0.063372                 0.053977   \n",
       "3              -0.956888              0.063372                -0.954947   \n",
       "4              -0.956888              0.063372                 0.053977   \n",
       "\n",
       "   SignupDate_day  SignupDate_month  SignupDate_year  SignupDate_weekday  \n",
       "0       -1.489960          1.718916        -1.246819            0.928261  \n",
       "1       -1.363682          0.841918         1.116819           -0.543612  \n",
       "2       -1.363682         -0.619745         1.116819           -0.052987  \n",
       "3       -0.479732         -0.619745         1.116819           -0.052987  \n",
       "4        0.025382         -0.912078        -1.246819           -1.034236  "
      ]
     },
     "execution_count": 54,
     "metadata": {},
     "output_type": "execute_result"
    }
   ],
   "source": [
    "new_df.head()"
   ]
  },
  {
   "cell_type": "code",
   "execution_count": 55,
   "id": "0c1121b0-8f16-4427-910c-916c87349a5c",
   "metadata": {
    "execution": {
     "iopub.execute_input": "2025-01-27T17:14:26.340038Z",
     "iopub.status.busy": "2025-01-27T17:14:26.340038Z",
     "iopub.status.idle": "2025-01-27T17:14:26.345000Z",
     "shell.execute_reply": "2025-01-27T17:14:26.345000Z",
     "shell.execute_reply.started": "2025-01-27T17:14:26.340038Z"
    }
   },
   "outputs": [],
   "source": [
    "avg_df = new_df.groupby(by=\"CustomerID\").mean()"
   ]
  },
  {
   "cell_type": "code",
   "execution_count": 56,
   "id": "acdb7caa-357e-4b88-83ce-16ab3e5a7367",
   "metadata": {
    "execution": {
     "iopub.execute_input": "2025-01-27T17:14:26.347007Z",
     "iopub.status.busy": "2025-01-27T17:14:26.346007Z",
     "iopub.status.idle": "2025-01-27T17:14:26.375309Z",
     "shell.execute_reply": "2025-01-27T17:14:26.374179Z",
     "shell.execute_reply.started": "2025-01-27T17:14:26.347007Z"
    }
   },
   "outputs": [
    {
     "data": {
      "text/html": [
       "<div>\n",
       "<style scoped>\n",
       "    .dataframe tbody tr th:only-of-type {\n",
       "        vertical-align: middle;\n",
       "    }\n",
       "\n",
       "    .dataframe tbody tr th {\n",
       "        vertical-align: top;\n",
       "    }\n",
       "\n",
       "    .dataframe thead th {\n",
       "        text-align: right;\n",
       "    }\n",
       "</style>\n",
       "<table border=\"1\" class=\"dataframe\">\n",
       "  <thead>\n",
       "    <tr style=\"text-align: right;\">\n",
       "      <th></th>\n",
       "      <th>Quantity</th>\n",
       "      <th>TotalValue</th>\n",
       "      <th>Price</th>\n",
       "      <th>Recency from Today</th>\n",
       "      <th>Frequency</th>\n",
       "      <th>Monetary</th>\n",
       "      <th>Difference of Transaction and Signup</th>\n",
       "      <th>CustomerName_min</th>\n",
       "      <th>CustomerName_max</th>\n",
       "      <th>CustomerName_mean</th>\n",
       "      <th>CustomerName_median</th>\n",
       "      <th>CustomerName_std</th>\n",
       "      <th>ProductName_min</th>\n",
       "      <th>ProductName_max</th>\n",
       "      <th>ProductName_mean</th>\n",
       "      <th>ProductName_median</th>\n",
       "      <th>ProductName_std</th>\n",
       "      <th>ProductName_count</th>\n",
       "      <th>ProductName_sum</th>\n",
       "      <th>Region_Europe</th>\n",
       "      <th>Region_North America</th>\n",
       "      <th>Region_South America</th>\n",
       "      <th>Category_Clothing</th>\n",
       "      <th>Category_Electronics</th>\n",
       "      <th>Category_Home Decor</th>\n",
       "      <th>TransactionDate_day</th>\n",
       "      <th>TransactionDate_month</th>\n",
       "      <th>TransactionDate_year</th>\n",
       "      <th>TransactionDate_weekday</th>\n",
       "      <th>SignupDate_day</th>\n",
       "      <th>SignupDate_month</th>\n",
       "      <th>SignupDate_year</th>\n",
       "      <th>SignupDate_weekday</th>\n",
       "    </tr>\n",
       "    <tr>\n",
       "      <th>CustomerID</th>\n",
       "      <th></th>\n",
       "      <th></th>\n",
       "      <th></th>\n",
       "      <th></th>\n",
       "      <th></th>\n",
       "      <th></th>\n",
       "      <th></th>\n",
       "      <th></th>\n",
       "      <th></th>\n",
       "      <th></th>\n",
       "      <th></th>\n",
       "      <th></th>\n",
       "      <th></th>\n",
       "      <th></th>\n",
       "      <th></th>\n",
       "      <th></th>\n",
       "      <th></th>\n",
       "      <th></th>\n",
       "      <th></th>\n",
       "      <th></th>\n",
       "      <th></th>\n",
       "      <th></th>\n",
       "      <th></th>\n",
       "      <th></th>\n",
       "      <th></th>\n",
       "      <th></th>\n",
       "      <th></th>\n",
       "      <th></th>\n",
       "      <th></th>\n",
       "      <th></th>\n",
       "      <th></th>\n",
       "      <th></th>\n",
       "      <th></th>\n",
       "    </tr>\n",
       "  </thead>\n",
       "  <tbody>\n",
       "    <tr>\n",
       "      <th>C0001</th>\n",
       "      <td>-0.122604</td>\n",
       "      <td>-0.038733</td>\n",
       "      <td>0.041090</td>\n",
       "      <td>-0.092039</td>\n",
       "      <td>-0.463348</td>\n",
       "      <td>-0.409007</td>\n",
       "      <td>1.003657</td>\n",
       "      <td>-0.541183</td>\n",
       "      <td>-0.131096</td>\n",
       "      <td>-0.088808</td>\n",
       "      <td>-0.046819</td>\n",
       "      <td>-0.085864</td>\n",
       "      <td>-0.005106</td>\n",
       "      <td>0.149442</td>\n",
       "      <td>0.139985</td>\n",
       "      <td>0.142772</td>\n",
       "      <td>-0.065068</td>\n",
       "      <td>0.996952</td>\n",
       "      <td>0.895866</td>\n",
       "      <td>-0.552705</td>\n",
       "      <td>-0.568112</td>\n",
       "      <td>1.513101</td>\n",
       "      <td>-0.543449</td>\n",
       "      <td>0.794859</td>\n",
       "      <td>-0.111149</td>\n",
       "      <td>-0.578594</td>\n",
       "      <td>-0.083815</td>\n",
       "      <td>0.063372</td>\n",
       "      <td>-0.349592</td>\n",
       "      <td>-0.606011</td>\n",
       "      <td>0.257253</td>\n",
       "      <td>-1.246819</td>\n",
       "      <td>1.418886</td>\n",
       "    </tr>\n",
       "    <tr>\n",
       "      <th>C0002</th>\n",
       "      <td>-0.033112</td>\n",
       "      <td>-0.455085</td>\n",
       "      <td>-0.452377</td>\n",
       "      <td>-0.664400</td>\n",
       "      <td>-0.935189</td>\n",
       "      <td>-1.226075</td>\n",
       "      <td>1.496388</td>\n",
       "      <td>0.347834</td>\n",
       "      <td>-1.512358</td>\n",
       "      <td>-1.043428</td>\n",
       "      <td>-0.720819</td>\n",
       "      <td>-1.582891</td>\n",
       "      <td>-0.071131</td>\n",
       "      <td>-0.390004</td>\n",
       "      <td>-0.064404</td>\n",
       "      <td>0.145207</td>\n",
       "      <td>-0.312799</td>\n",
       "      <td>-0.765910</td>\n",
       "      <td>-0.575551</td>\n",
       "      <td>-0.552705</td>\n",
       "      <td>-0.568112</td>\n",
       "      <td>-0.660895</td>\n",
       "      <td>0.648325</td>\n",
       "      <td>-0.583509</td>\n",
       "      <td>0.583533</td>\n",
       "      <td>-0.252467</td>\n",
       "      <td>0.134453</td>\n",
       "      <td>0.063372</td>\n",
       "      <td>-0.450485</td>\n",
       "      <td>-0.227175</td>\n",
       "      <td>-1.204411</td>\n",
       "      <td>-1.246819</td>\n",
       "      <td>1.418886</td>\n",
       "    </tr>\n",
       "    <tr>\n",
       "      <th>C0003</th>\n",
       "      <td>0.861805</td>\n",
       "      <td>-0.017550</td>\n",
       "      <td>-0.546305</td>\n",
       "      <td>1.200389</td>\n",
       "      <td>-0.935189</td>\n",
       "      <td>-0.753595</td>\n",
       "      <td>-0.755425</td>\n",
       "      <td>-0.491948</td>\n",
       "      <td>0.088476</td>\n",
       "      <td>-0.040240</td>\n",
       "      <td>-0.067523</td>\n",
       "      <td>0.562082</td>\n",
       "      <td>-0.312001</td>\n",
       "      <td>0.057354</td>\n",
       "      <td>-0.060933</td>\n",
       "      <td>-0.152602</td>\n",
       "      <td>-0.048520</td>\n",
       "      <td>0.679524</td>\n",
       "      <td>0.805825</td>\n",
       "      <td>-0.552705</td>\n",
       "      <td>-0.568112</td>\n",
       "      <td>1.513101</td>\n",
       "      <td>0.052438</td>\n",
       "      <td>-0.009189</td>\n",
       "      <td>0.583533</td>\n",
       "      <td>-0.055666</td>\n",
       "      <td>-0.229327</td>\n",
       "      <td>0.063372</td>\n",
       "      <td>0.684555</td>\n",
       "      <td>-0.984846</td>\n",
       "      <td>-0.912078</td>\n",
       "      <td>1.116819</td>\n",
       "      <td>-0.052987</td>\n",
       "    </tr>\n",
       "    <tr>\n",
       "      <th>C0004</th>\n",
       "      <td>0.302482</td>\n",
       "      <td>-0.041866</td>\n",
       "      <td>-0.226905</td>\n",
       "      <td>-1.033666</td>\n",
       "      <td>0.952175</td>\n",
       "      <td>0.686618</td>\n",
       "      <td>0.895453</td>\n",
       "      <td>0.595150</td>\n",
       "      <td>-0.655172</td>\n",
       "      <td>-0.095991</td>\n",
       "      <td>-0.165001</td>\n",
       "      <td>-0.914522</td>\n",
       "      <td>-0.096031</td>\n",
       "      <td>0.351821</td>\n",
       "      <td>-0.024941</td>\n",
       "      <td>-0.061316</td>\n",
       "      <td>0.083776</td>\n",
       "      <td>0.339422</td>\n",
       "      <td>0.332902</td>\n",
       "      <td>-0.552705</td>\n",
       "      <td>-0.568112</td>\n",
       "      <td>1.513101</td>\n",
       "      <td>-0.543449</td>\n",
       "      <td>-0.009189</td>\n",
       "      <td>0.294082</td>\n",
       "      <td>0.267649</td>\n",
       "      <td>0.352721</td>\n",
       "      <td>0.063372</td>\n",
       "      <td>-0.324369</td>\n",
       "      <td>-0.732289</td>\n",
       "      <td>1.134251</td>\n",
       "      <td>-1.246819</td>\n",
       "      <td>1.418886</td>\n",
       "    </tr>\n",
       "    <tr>\n",
       "      <th>C0005</th>\n",
       "      <td>-0.182265</td>\n",
       "      <td>-0.024175</td>\n",
       "      <td>0.135422</td>\n",
       "      <td>-0.128966</td>\n",
       "      <td>-1.407030</td>\n",
       "      <td>-1.132142</td>\n",
       "      <td>0.921488</td>\n",
       "      <td>0.756940</td>\n",
       "      <td>-1.276738</td>\n",
       "      <td>-0.055428</td>\n",
       "      <td>0.773517</td>\n",
       "      <td>-1.006482</td>\n",
       "      <td>0.524977</td>\n",
       "      <td>0.127831</td>\n",
       "      <td>0.267669</td>\n",
       "      <td>0.382710</td>\n",
       "      <td>0.007375</td>\n",
       "      <td>-0.605306</td>\n",
       "      <td>-0.222527</td>\n",
       "      <td>-0.552705</td>\n",
       "      <td>-0.568112</td>\n",
       "      <td>-0.660895</td>\n",
       "      <td>-0.543449</td>\n",
       "      <td>0.948010</td>\n",
       "      <td>0.197599</td>\n",
       "      <td>-0.870984</td>\n",
       "      <td>0.013193</td>\n",
       "      <td>0.063372</td>\n",
       "      <td>0.222131</td>\n",
       "      <td>0.025382</td>\n",
       "      <td>0.549585</td>\n",
       "      <td>-1.246819</td>\n",
       "      <td>-1.524861</td>\n",
       "    </tr>\n",
       "    <tr>\n",
       "      <th>...</th>\n",
       "      <td>...</td>\n",
       "      <td>...</td>\n",
       "      <td>...</td>\n",
       "      <td>...</td>\n",
       "      <td>...</td>\n",
       "      <td>...</td>\n",
       "      <td>...</td>\n",
       "      <td>...</td>\n",
       "      <td>...</td>\n",
       "      <td>...</td>\n",
       "      <td>...</td>\n",
       "      <td>...</td>\n",
       "      <td>...</td>\n",
       "      <td>...</td>\n",
       "      <td>...</td>\n",
       "      <td>...</td>\n",
       "      <td>...</td>\n",
       "      <td>...</td>\n",
       "      <td>...</td>\n",
       "      <td>...</td>\n",
       "      <td>...</td>\n",
       "      <td>...</td>\n",
       "      <td>...</td>\n",
       "      <td>...</td>\n",
       "      <td>...</td>\n",
       "      <td>...</td>\n",
       "      <td>...</td>\n",
       "      <td>...</td>\n",
       "      <td>...</td>\n",
       "      <td>...</td>\n",
       "      <td>...</td>\n",
       "      <td>...</td>\n",
       "      <td>...</td>\n",
       "    </tr>\n",
       "    <tr>\n",
       "      <th>C0196</th>\n",
       "      <td>0.414347</td>\n",
       "      <td>1.127464</td>\n",
       "      <td>1.026818</td>\n",
       "      <td>-0.885960</td>\n",
       "      <td>-0.935189</td>\n",
       "      <td>0.482868</td>\n",
       "      <td>1.452165</td>\n",
       "      <td>1.379798</td>\n",
       "      <td>0.829103</td>\n",
       "      <td>2.585070</td>\n",
       "      <td>2.813558</td>\n",
       "      <td>0.649314</td>\n",
       "      <td>-0.210581</td>\n",
       "      <td>0.685578</td>\n",
       "      <td>0.757771</td>\n",
       "      <td>0.350683</td>\n",
       "      <td>1.279078</td>\n",
       "      <td>0.424447</td>\n",
       "      <td>0.680716</td>\n",
       "      <td>1.809283</td>\n",
       "      <td>-0.568112</td>\n",
       "      <td>-0.660895</td>\n",
       "      <td>0.052438</td>\n",
       "      <td>-0.583509</td>\n",
       "      <td>0.583533</td>\n",
       "      <td>-0.308696</td>\n",
       "      <td>1.080282</td>\n",
       "      <td>0.063372</td>\n",
       "      <td>-0.198254</td>\n",
       "      <td>-0.984846</td>\n",
       "      <td>-0.035080</td>\n",
       "      <td>-1.246819</td>\n",
       "      <td>-1.034236</td>\n",
       "    </tr>\n",
       "    <tr>\n",
       "      <th>C0197</th>\n",
       "      <td>0.414347</td>\n",
       "      <td>-0.095582</td>\n",
       "      <td>-0.323443</td>\n",
       "      <td>-1.107519</td>\n",
       "      <td>-1.407030</td>\n",
       "      <td>-1.189975</td>\n",
       "      <td>0.293804</td>\n",
       "      <td>1.629969</td>\n",
       "      <td>-0.879304</td>\n",
       "      <td>-0.219152</td>\n",
       "      <td>-0.585263</td>\n",
       "      <td>-0.941186</td>\n",
       "      <td>-0.018862</td>\n",
       "      <td>-0.643226</td>\n",
       "      <td>-0.271949</td>\n",
       "      <td>0.008533</td>\n",
       "      <td>-0.654952</td>\n",
       "      <td>0.188265</td>\n",
       "      <td>-0.003582</td>\n",
       "      <td>1.809283</td>\n",
       "      <td>-0.568112</td>\n",
       "      <td>-0.660895</td>\n",
       "      <td>-0.543449</td>\n",
       "      <td>0.948010</td>\n",
       "      <td>0.197599</td>\n",
       "      <td>0.028677</td>\n",
       "      <td>-0.083815</td>\n",
       "      <td>0.063372</td>\n",
       "      <td>0.390286</td>\n",
       "      <td>0.783053</td>\n",
       "      <td>-0.912078</td>\n",
       "      <td>-0.065000</td>\n",
       "      <td>-1.034236</td>\n",
       "    </tr>\n",
       "    <tr>\n",
       "      <th>C0198</th>\n",
       "      <td>-0.928029</td>\n",
       "      <td>-0.454619</td>\n",
       "      <td>-0.233525</td>\n",
       "      <td>0.443395</td>\n",
       "      <td>-1.878871</td>\n",
       "      <td>-1.735947</td>\n",
       "      <td>1.704665</td>\n",
       "      <td>-1.097041</td>\n",
       "      <td>-1.162992</td>\n",
       "      <td>-1.042358</td>\n",
       "      <td>-0.558499</td>\n",
       "      <td>0.950076</td>\n",
       "      <td>0.150814</td>\n",
       "      <td>-0.752648</td>\n",
       "      <td>-0.462101</td>\n",
       "      <td>-0.166659</td>\n",
       "      <td>-0.524046</td>\n",
       "      <td>-1.020986</td>\n",
       "      <td>-0.922710</td>\n",
       "      <td>1.809283</td>\n",
       "      <td>-0.568112</td>\n",
       "      <td>-0.660895</td>\n",
       "      <td>0.648325</td>\n",
       "      <td>0.565131</td>\n",
       "      <td>-0.574271</td>\n",
       "      <td>0.084905</td>\n",
       "      <td>0.934770</td>\n",
       "      <td>0.063372</td>\n",
       "      <td>1.062902</td>\n",
       "      <td>1.540724</td>\n",
       "      <td>-1.204411</td>\n",
       "      <td>-1.246819</td>\n",
       "      <td>1.418886</td>\n",
       "    </tr>\n",
       "    <tr>\n",
       "      <th>C0199</th>\n",
       "      <td>-0.256841</td>\n",
       "      <td>-0.395976</td>\n",
       "      <td>-0.156001</td>\n",
       "      <td>0.037203</td>\n",
       "      <td>-0.935189</td>\n",
       "      <td>-1.162244</td>\n",
       "      <td>0.866565</td>\n",
       "      <td>0.595150</td>\n",
       "      <td>-1.345621</td>\n",
       "      <td>-0.907900</td>\n",
       "      <td>-0.697540</td>\n",
       "      <td>-1.352005</td>\n",
       "      <td>-0.304160</td>\n",
       "      <td>-0.891091</td>\n",
       "      <td>-0.660250</td>\n",
       "      <td>-0.558076</td>\n",
       "      <td>-0.763276</td>\n",
       "      <td>-0.255757</td>\n",
       "      <td>-0.455064</td>\n",
       "      <td>1.809283</td>\n",
       "      <td>-0.568112</td>\n",
       "      <td>-0.660895</td>\n",
       "      <td>-0.543449</td>\n",
       "      <td>0.565131</td>\n",
       "      <td>0.583533</td>\n",
       "      <td>0.169249</td>\n",
       "      <td>0.789258</td>\n",
       "      <td>0.063372</td>\n",
       "      <td>0.684555</td>\n",
       "      <td>-1.489960</td>\n",
       "      <td>1.718916</td>\n",
       "      <td>-1.246819</td>\n",
       "      <td>0.928261</td>\n",
       "    </tr>\n",
       "    <tr>\n",
       "      <th>C0200</th>\n",
       "      <td>0.593330</td>\n",
       "      <td>0.530991</td>\n",
       "      <td>0.170275</td>\n",
       "      <td>-0.812106</td>\n",
       "      <td>-0.463348</td>\n",
       "      <td>0.360027</td>\n",
       "      <td>0.260708</td>\n",
       "      <td>0.252537</td>\n",
       "      <td>0.818994</td>\n",
       "      <td>1.217467</td>\n",
       "      <td>0.822753</td>\n",
       "      <td>0.620540</td>\n",
       "      <td>0.317563</td>\n",
       "      <td>-0.164297</td>\n",
       "      <td>0.262935</td>\n",
       "      <td>0.365992</td>\n",
       "      <td>-0.063933</td>\n",
       "      <td>-0.136721</td>\n",
       "      <td>-0.109544</td>\n",
       "      <td>-0.552705</td>\n",
       "      <td>-0.568112</td>\n",
       "      <td>-0.660895</td>\n",
       "      <td>0.409970</td>\n",
       "      <td>-0.124053</td>\n",
       "      <td>-0.111149</td>\n",
       "      <td>-0.286205</td>\n",
       "      <td>0.614643</td>\n",
       "      <td>0.063372</td>\n",
       "      <td>-0.349592</td>\n",
       "      <td>-0.479732</td>\n",
       "      <td>-0.035080</td>\n",
       "      <td>-0.065000</td>\n",
       "      <td>1.418886</td>\n",
       "    </tr>\n",
       "  </tbody>\n",
       "</table>\n",
       "<p>199 rows × 33 columns</p>\n",
       "</div>"
      ],
      "text/plain": [
       "            Quantity  TotalValue     Price  Recency from Today  Frequency  \\\n",
       "CustomerID                                                                  \n",
       "C0001      -0.122604   -0.038733  0.041090           -0.092039  -0.463348   \n",
       "C0002      -0.033112   -0.455085 -0.452377           -0.664400  -0.935189   \n",
       "C0003       0.861805   -0.017550 -0.546305            1.200389  -0.935189   \n",
       "C0004       0.302482   -0.041866 -0.226905           -1.033666   0.952175   \n",
       "C0005      -0.182265   -0.024175  0.135422           -0.128966  -1.407030   \n",
       "...              ...         ...       ...                 ...        ...   \n",
       "C0196       0.414347    1.127464  1.026818           -0.885960  -0.935189   \n",
       "C0197       0.414347   -0.095582 -0.323443           -1.107519  -1.407030   \n",
       "C0198      -0.928029   -0.454619 -0.233525            0.443395  -1.878871   \n",
       "C0199      -0.256841   -0.395976 -0.156001            0.037203  -0.935189   \n",
       "C0200       0.593330    0.530991  0.170275           -0.812106  -0.463348   \n",
       "\n",
       "            Monetary  Difference of Transaction and Signup  CustomerName_min  \\\n",
       "CustomerID                                                                     \n",
       "C0001      -0.409007                              1.003657         -0.541183   \n",
       "C0002      -1.226075                              1.496388          0.347834   \n",
       "C0003      -0.753595                             -0.755425         -0.491948   \n",
       "C0004       0.686618                              0.895453          0.595150   \n",
       "C0005      -1.132142                              0.921488          0.756940   \n",
       "...              ...                                   ...               ...   \n",
       "C0196       0.482868                              1.452165          1.379798   \n",
       "C0197      -1.189975                              0.293804          1.629969   \n",
       "C0198      -1.735947                              1.704665         -1.097041   \n",
       "C0199      -1.162244                              0.866565          0.595150   \n",
       "C0200       0.360027                              0.260708          0.252537   \n",
       "\n",
       "            CustomerName_max  CustomerName_mean  CustomerName_median  \\\n",
       "CustomerID                                                             \n",
       "C0001              -0.131096          -0.088808            -0.046819   \n",
       "C0002              -1.512358          -1.043428            -0.720819   \n",
       "C0003               0.088476          -0.040240            -0.067523   \n",
       "C0004              -0.655172          -0.095991            -0.165001   \n",
       "C0005              -1.276738          -0.055428             0.773517   \n",
       "...                      ...                ...                  ...   \n",
       "C0196               0.829103           2.585070             2.813558   \n",
       "C0197              -0.879304          -0.219152            -0.585263   \n",
       "C0198              -1.162992          -1.042358            -0.558499   \n",
       "C0199              -1.345621          -0.907900            -0.697540   \n",
       "C0200               0.818994           1.217467             0.822753   \n",
       "\n",
       "            CustomerName_std  ProductName_min  ProductName_max  \\\n",
       "CustomerID                                                       \n",
       "C0001              -0.085864        -0.005106         0.149442   \n",
       "C0002              -1.582891        -0.071131        -0.390004   \n",
       "C0003               0.562082        -0.312001         0.057354   \n",
       "C0004              -0.914522        -0.096031         0.351821   \n",
       "C0005              -1.006482         0.524977         0.127831   \n",
       "...                      ...              ...              ...   \n",
       "C0196               0.649314        -0.210581         0.685578   \n",
       "C0197              -0.941186        -0.018862        -0.643226   \n",
       "C0198               0.950076         0.150814        -0.752648   \n",
       "C0199              -1.352005        -0.304160        -0.891091   \n",
       "C0200               0.620540         0.317563        -0.164297   \n",
       "\n",
       "            ProductName_mean  ProductName_median  ProductName_std  \\\n",
       "CustomerID                                                          \n",
       "C0001               0.139985            0.142772        -0.065068   \n",
       "C0002              -0.064404            0.145207        -0.312799   \n",
       "C0003              -0.060933           -0.152602        -0.048520   \n",
       "C0004              -0.024941           -0.061316         0.083776   \n",
       "C0005               0.267669            0.382710         0.007375   \n",
       "...                      ...                 ...              ...   \n",
       "C0196               0.757771            0.350683         1.279078   \n",
       "C0197              -0.271949            0.008533        -0.654952   \n",
       "C0198              -0.462101           -0.166659        -0.524046   \n",
       "C0199              -0.660250           -0.558076        -0.763276   \n",
       "C0200               0.262935            0.365992        -0.063933   \n",
       "\n",
       "            ProductName_count  ProductName_sum  Region_Europe  \\\n",
       "CustomerID                                                      \n",
       "C0001                0.996952         0.895866      -0.552705   \n",
       "C0002               -0.765910        -0.575551      -0.552705   \n",
       "C0003                0.679524         0.805825      -0.552705   \n",
       "C0004                0.339422         0.332902      -0.552705   \n",
       "C0005               -0.605306        -0.222527      -0.552705   \n",
       "...                       ...              ...            ...   \n",
       "C0196                0.424447         0.680716       1.809283   \n",
       "C0197                0.188265        -0.003582       1.809283   \n",
       "C0198               -1.020986        -0.922710       1.809283   \n",
       "C0199               -0.255757        -0.455064       1.809283   \n",
       "C0200               -0.136721        -0.109544      -0.552705   \n",
       "\n",
       "            Region_North America  Region_South America  Category_Clothing  \\\n",
       "CustomerID                                                                  \n",
       "C0001                  -0.568112              1.513101          -0.543449   \n",
       "C0002                  -0.568112             -0.660895           0.648325   \n",
       "C0003                  -0.568112              1.513101           0.052438   \n",
       "C0004                  -0.568112              1.513101          -0.543449   \n",
       "C0005                  -0.568112             -0.660895          -0.543449   \n",
       "...                          ...                   ...                ...   \n",
       "C0196                  -0.568112             -0.660895           0.052438   \n",
       "C0197                  -0.568112             -0.660895          -0.543449   \n",
       "C0198                  -0.568112             -0.660895           0.648325   \n",
       "C0199                  -0.568112             -0.660895          -0.543449   \n",
       "C0200                  -0.568112             -0.660895           0.409970   \n",
       "\n",
       "            Category_Electronics  Category_Home Decor  TransactionDate_day  \\\n",
       "CustomerID                                                                   \n",
       "C0001                   0.794859            -0.111149            -0.578594   \n",
       "C0002                  -0.583509             0.583533            -0.252467   \n",
       "C0003                  -0.009189             0.583533            -0.055666   \n",
       "C0004                  -0.009189             0.294082             0.267649   \n",
       "C0005                   0.948010             0.197599            -0.870984   \n",
       "...                          ...                  ...                  ...   \n",
       "C0196                  -0.583509             0.583533            -0.308696   \n",
       "C0197                   0.948010             0.197599             0.028677   \n",
       "C0198                   0.565131            -0.574271             0.084905   \n",
       "C0199                   0.565131             0.583533             0.169249   \n",
       "C0200                  -0.124053            -0.111149            -0.286205   \n",
       "\n",
       "            TransactionDate_month  TransactionDate_year  \\\n",
       "CustomerID                                                \n",
       "C0001                   -0.083815              0.063372   \n",
       "C0002                    0.134453              0.063372   \n",
       "C0003                   -0.229327              0.063372   \n",
       "C0004                    0.352721              0.063372   \n",
       "C0005                    0.013193              0.063372   \n",
       "...                           ...                   ...   \n",
       "C0196                    1.080282              0.063372   \n",
       "C0197                   -0.083815              0.063372   \n",
       "C0198                    0.934770              0.063372   \n",
       "C0199                    0.789258              0.063372   \n",
       "C0200                    0.614643              0.063372   \n",
       "\n",
       "            TransactionDate_weekday  SignupDate_day  SignupDate_month  \\\n",
       "CustomerID                                                              \n",
       "C0001                     -0.349592       -0.606011          0.257253   \n",
       "C0002                     -0.450485       -0.227175         -1.204411   \n",
       "C0003                      0.684555       -0.984846         -0.912078   \n",
       "C0004                     -0.324369       -0.732289          1.134251   \n",
       "C0005                      0.222131        0.025382          0.549585   \n",
       "...                             ...             ...               ...   \n",
       "C0196                     -0.198254       -0.984846         -0.035080   \n",
       "C0197                      0.390286        0.783053         -0.912078   \n",
       "C0198                      1.062902        1.540724         -1.204411   \n",
       "C0199                      0.684555       -1.489960          1.718916   \n",
       "C0200                     -0.349592       -0.479732         -0.035080   \n",
       "\n",
       "            SignupDate_year  SignupDate_weekday  \n",
       "CustomerID                                       \n",
       "C0001             -1.246819            1.418886  \n",
       "C0002             -1.246819            1.418886  \n",
       "C0003              1.116819           -0.052987  \n",
       "C0004             -1.246819            1.418886  \n",
       "C0005             -1.246819           -1.524861  \n",
       "...                     ...                 ...  \n",
       "C0196             -1.246819           -1.034236  \n",
       "C0197             -0.065000           -1.034236  \n",
       "C0198             -1.246819            1.418886  \n",
       "C0199             -1.246819            0.928261  \n",
       "C0200             -0.065000            1.418886  \n",
       "\n",
       "[199 rows x 33 columns]"
      ]
     },
     "execution_count": 56,
     "metadata": {},
     "output_type": "execute_result"
    }
   ],
   "source": [
    "avg_df"
   ]
  },
  {
   "cell_type": "markdown",
   "id": "dbca4925-a26f-45eb-9ce4-be43cb12d464",
   "metadata": {},
   "source": [
    "#\n",
    "---\n",
    "# Deciding best clusters fo this data"
   ]
  },
  {
   "cell_type": "code",
   "execution_count": 68,
   "id": "c287b718-842e-496c-bc5a-f03251c5b066",
   "metadata": {
    "execution": {
     "iopub.execute_input": "2025-01-27T17:17:29.000087Z",
     "iopub.status.busy": "2025-01-27T17:17:29.000087Z",
     "iopub.status.idle": "2025-01-27T17:17:29.007096Z",
     "shell.execute_reply": "2025-01-27T17:17:29.006079Z",
     "shell.execute_reply.started": "2025-01-27T17:17:29.000087Z"
    }
   },
   "outputs": [],
   "source": [
    "from sklearn.metrics import davies_bouldin_score, silhouette_score\n",
    "from sklearn.cluster import KMeans, AgglomerativeClustering, DBSCAN\n",
    "from yellowbrick.cluster import KElbowVisualizer, SilhouetteVisualizer"
   ]
  },
  {
   "cell_type": "code",
   "execution_count": 71,
   "id": "15f6a636-c3cf-467e-a4fa-d16ede7f4d05",
   "metadata": {
    "execution": {
     "iopub.execute_input": "2025-01-27T17:19:14.882269Z",
     "iopub.status.busy": "2025-01-27T17:19:14.881277Z",
     "iopub.status.idle": "2025-01-27T17:19:15.036903Z",
     "shell.execute_reply": "2025-01-27T17:19:15.036903Z",
     "shell.execute_reply.started": "2025-01-27T17:19:14.882269Z"
    }
   },
   "outputs": [],
   "source": [
    "wcss = []\n",
    "\n",
    "for i in range(2, 11):\n",
    "    model = KMeans(n_clusters=i)\n",
    "    model.fit(avg_df)\n",
    "    wcss.append(model.inertia_)"
   ]
  },
  {
   "cell_type": "code",
   "execution_count": 72,
   "id": "cb5f947d-0d21-405e-a7a7-61d74e320d62",
   "metadata": {
    "execution": {
     "iopub.execute_input": "2025-01-27T17:19:15.649134Z",
     "iopub.status.busy": "2025-01-27T17:19:15.648132Z",
     "iopub.status.idle": "2025-01-27T17:19:15.907213Z",
     "shell.execute_reply": "2025-01-27T17:19:15.905196Z",
     "shell.execute_reply.started": "2025-01-27T17:19:15.649134Z"
    }
   },
   "outputs": [
    {
     "data": {
      "image/png": "[encoded data removed]",
      "text/plain": [
       "<Figure size 800x550 with 1 Axes>"
      ]
     },
     "metadata": {},
     "output_type": "display_data"
    }
   ],
   "source": [
    "sns.lineplot(wcss)\n",
    "plt.show()"
   ]
  },
  {
   "cell_type": "markdown",
   "id": "6c62d6d2-3f4d-488d-8af0-acbb4903d928",
   "metadata": {},
   "source": [
    "## From the elbow plot we can say that, Kmeans in not performing well. We will see Agglomerative Clustering"
   ]
  },
  {
   "cell_type": "code",
   "execution_count": 74,
   "id": "77f61270-8d83-4dcd-9825-8da71dd57e3b",
   "metadata": {
    "execution": {
     "iopub.execute_input": "2025-01-27T17:22:48.739943Z",
     "iopub.status.busy": "2025-01-27T17:22:48.739943Z",
     "iopub.status.idle": "2025-01-27T17:22:48.750943Z",
     "shell.execute_reply": "2025-01-27T17:22:48.749845Z",
     "shell.execute_reply.started": "2025-01-27T17:22:48.739943Z"
    }
   },
   "outputs": [],
   "source": [
    "from scipy.cluster.hierarchy import dendrogram, linkage"
   ]
  },
  {
   "cell_type": "code",
   "execution_count": 81,
   "id": "375fc3d6-2e23-41cb-9a0e-6a357867b63d",
   "metadata": {
    "execution": {
     "iopub.execute_input": "2025-01-27T17:27:17.748028Z",
     "iopub.status.busy": "2025-01-27T17:27:17.746945Z",
     "iopub.status.idle": "2025-01-27T17:27:17.954924Z",
     "shell.execute_reply": "2025-01-27T17:27:17.953527Z",
     "shell.execute_reply.started": "2025-01-27T17:27:17.748028Z"
    }
   },
   "outputs": [
    {
     "data": {
      "image/png": "[encoded data removed]",
      "text/plain": [
       "<Figure size 2000x800 with 1 Axes>"
      ]
     },
     "metadata": {},
     "output_type": "display_data"
    }
   ],
   "source": [
    "plt.figure(figsize=(20, 8))\n",
    "\n",
    "linked = linkage(avg_df, method='ward')\n",
    "dendrogram(linked, no_labels=True)\n",
    "\n",
    "plt.title('Dendrogram for Agglomerative Clustering')\n",
    "plt.xlabel('Customer ID')\n",
    "plt.ylabel('Euclidean Distance')\n",
    "plt.show()"
   ]
  },
  {
   "cell_type": "markdown",
   "id": "ab6bd418-c82c-468b-8833-3ea35ef4d4df",
   "metadata": {},
   "source": [
    "## Agglomerative Clustering is able to cluster good, but from the dendograms we can see that there is a tie among 2 clusters and 4 clusters. We will pick the best with DB Index"
   ]
  },
  {
   "cell_type": "code",
   "execution_count": 157,
   "id": "0cb6787a-2803-41ed-94a0-a513c3365ca0",
   "metadata": {
    "execution": {
     "iopub.execute_input": "2025-01-27T17:56:35.675066Z",
     "iopub.status.busy": "2025-01-27T17:56:35.674065Z",
     "iopub.status.idle": "2025-01-27T17:56:35.687150Z",
     "shell.execute_reply": "2025-01-27T17:56:35.686114Z",
     "shell.execute_reply.started": "2025-01-27T17:56:35.675066Z"
    }
   },
   "outputs": [],
   "source": [
    "model_2 = AgglomerativeClustering(n_clusters=2)\n",
    "labels_2 = model_2.fit_predict(avg_df)"
   ]
  },
  {
   "cell_type": "code",
   "execution_count": 158,
   "id": "2bb98835-bc2c-4f7e-8e3b-0f32e40371f1",
   "metadata": {
    "execution": {
     "iopub.execute_input": "2025-01-27T17:56:35.962245Z",
     "iopub.status.busy": "2025-01-27T17:56:35.961239Z",
     "iopub.status.idle": "2025-01-27T17:56:35.974705Z",
     "shell.execute_reply": "2025-01-27T17:56:35.973689Z",
     "shell.execute_reply.started": "2025-01-27T17:56:35.962245Z"
    }
   },
   "outputs": [
    {
     "data": {
      "text/plain": [
       "np.float64(2.616982388122985)"
      ]
     },
     "execution_count": 158,
     "metadata": {},
     "output_type": "execute_result"
    }
   ],
   "source": [
    "davies_bouldin_score(avg_df, labels_2)"
   ]
  },
  {
   "cell_type": "code",
   "execution_count": 159,
   "id": "f006eb8e-35e2-47f6-863c-0e56f6830e16",
   "metadata": {
    "execution": {
     "iopub.execute_input": "2025-01-27T17:56:36.589371Z",
     "iopub.status.busy": "2025-01-27T17:56:36.588267Z",
     "iopub.status.idle": "2025-01-27T17:56:36.599574Z",
     "shell.execute_reply": "2025-01-27T17:56:36.598491Z",
     "shell.execute_reply.started": "2025-01-27T17:56:36.589371Z"
    }
   },
   "outputs": [],
   "source": [
    "model_4 = AgglomerativeClustering(n_clusters=4)\n",
    "labels_4 = model_4.fit_predict(avg_df)"
   ]
  },
  {
   "cell_type": "code",
   "execution_count": 160,
   "id": "b1b6e9c7-e340-4566-8dc2-38b57c421e0f",
   "metadata": {
    "execution": {
     "iopub.execute_input": "2025-01-27T17:56:37.106427Z",
     "iopub.status.busy": "2025-01-27T17:56:37.105410Z",
     "iopub.status.idle": "2025-01-27T17:56:37.119307Z",
     "shell.execute_reply": "2025-01-27T17:56:37.118291Z",
     "shell.execute_reply.started": "2025-01-27T17:56:37.106427Z"
    }
   },
   "outputs": [
    {
     "data": {
      "text/plain": [
       "np.float64(2.591623603399763)"
      ]
     },
     "execution_count": 160,
     "metadata": {},
     "output_type": "execute_result"
    }
   ],
   "source": [
    "davies_bouldin_score(avg_df, labels_4)"
   ]
  },
  {
   "cell_type": "markdown",
   "id": "ddd5d703-c5c8-4ca2-9b63-71e517101b7b",
   "metadata": {},
   "source": [
    "## From Agglomerative Clustering, DB Index for 2 clusters is **2.616**, where as for 4 clusters is **2.591**. So based on Agglomerative Clustering we will go with 4 clusters\n",
    "\n",
    "## Now lets try DBScan, Before that we will do PCA and see the data "
   ]
  },
  {
   "cell_type": "code",
   "execution_count": 169,
   "id": "1de84a72-aa36-4e24-89a6-9995fed69cae",
   "metadata": {
    "execution": {
     "iopub.execute_input": "2025-01-27T18:07:25.261109Z",
     "iopub.status.busy": "2025-01-27T18:07:25.259108Z",
     "iopub.status.idle": "2025-01-27T18:07:25.279291Z",
     "shell.execute_reply": "2025-01-27T18:07:25.278278Z",
     "shell.execute_reply.started": "2025-01-27T18:07:25.260118Z"
    }
   },
   "outputs": [
    {
     "data": {
      "text/plain": [
       "np.float64(0.07545904060723524)"
      ]
     },
     "execution_count": 169,
     "metadata": {},
     "output_type": "execute_result"
    }
   ],
   "source": [
    "silhouette_score(avg_df, labels_4)"
   ]
  },
  {
   "cell_type": "code",
   "execution_count": 110,
   "id": "897da7fe-55a1-4687-b29f-e4b2740d6be8",
   "metadata": {
    "execution": {
     "iopub.execute_input": "2025-01-27T17:41:16.158779Z",
     "iopub.status.busy": "2025-01-27T17:41:16.157778Z",
     "iopub.status.idle": "2025-01-27T17:41:16.164080Z",
     "shell.execute_reply": "2025-01-27T17:41:16.163067Z",
     "shell.execute_reply.started": "2025-01-27T17:41:16.158779Z"
    }
   },
   "outputs": [],
   "source": [
    "from sklearn.decomposition import PCA"
   ]
  },
  {
   "cell_type": "code",
   "execution_count": 113,
   "id": "5289945c-bbb8-44a9-91f3-faf6b12816b9",
   "metadata": {
    "execution": {
     "iopub.execute_input": "2025-01-27T17:42:30.785970Z",
     "iopub.status.busy": "2025-01-27T17:42:30.785970Z",
     "iopub.status.idle": "2025-01-27T17:42:30.801204Z",
     "shell.execute_reply": "2025-01-27T17:42:30.799186Z",
     "shell.execute_reply.started": "2025-01-27T17:42:30.785970Z"
    }
   },
   "outputs": [
    {
     "data": {
      "text/html": [
       "<style>#sk-container-id-1 {\n",
       "  /* Definition of color scheme common for light and dark mode */\n",
       "  --sklearn-color-text: black;\n",
       "  --sklearn-color-line: gray;\n",
       "  /* Definition of color scheme for unfitted estimators */\n",
       "  --sklearn-color-unfitted-level-0: #fff5e6;\n",
       "  --sklearn-color-unfitted-level-1: #f6e4d2;\n",
       "  --sklearn-color-unfitted-level-2: #ffe0b3;\n",
       "  --sklearn-color-unfitted-level-3: chocolate;\n",
       "  /* Definition of color scheme for fitted estimators */\n",
       "  --sklearn-color-fitted-level-0: #f0f8ff;\n",
       "  --sklearn-color-fitted-level-1: #d4ebff;\n",
       "  --sklearn-color-fitted-level-2: #b3dbfd;\n",
       "  --sklearn-color-fitted-level-3: cornflowerblue;\n",
       "\n",
       "  /* Specific color for light theme */\n",
       "  --sklearn-color-text-on-default-background: var(--sg-text-color, var(--theme-code-foreground, var(--jp-content-font-color1, black)));\n",
       "  --sklearn-color-background: var(--sg-background-color, var(--theme-background, var(--jp-layout-color0, white)));\n",
       "  --sklearn-color-border-box: var(--sg-text-color, var(--theme-code-foreground, var(--jp-content-font-color1, black)));\n",
       "  --sklearn-color-icon: #696969;\n",
       "\n",
       "  @media (prefers-color-scheme: dark) {\n",
       "    /* Redefinition of color scheme for dark theme */\n",
       "    --sklearn-color-text-on-default-background: var(--sg-text-color, var(--theme-code-foreground, var(--jp-content-font-color1, white)));\n",
       "    --sklearn-color-background: var(--sg-background-color, var(--theme-background, var(--jp-layout-color0, #111)));\n",
       "    --sklearn-color-border-box: var(--sg-text-color, var(--theme-code-foreground, var(--jp-content-font-color1, white)));\n",
       "    --sklearn-color-icon: #878787;\n",
       "  }\n",
       "}\n",
       "\n",
       "#sk-container-id-1 {\n",
       "  color: var(--sklearn-color-text);\n",
       "}\n",
       "\n",
       "#sk-container-id-1 pre {\n",
       "  padding: 0;\n",
       "}\n",
       "\n",
       "#sk-container-id-1 input.sk-hidden--visually {\n",
       "  border: 0;\n",
       "  clip: rect(1px 1px 1px 1px);\n",
       "  clip: rect(1px, 1px, 1px, 1px);\n",
       "  height: 1px;\n",
       "  margin: -1px;\n",
       "  overflow: hidden;\n",
       "  padding: 0;\n",
       "  position: absolute;\n",
       "  width: 1px;\n",
       "}\n",
       "\n",
       "#sk-container-id-1 div.sk-dashed-wrapped {\n",
       "  border: 1px dashed var(--sklearn-color-line);\n",
       "  margin: 0 0.4em 0.5em 0.4em;\n",
       "  box-sizing: border-box;\n",
       "  padding-bottom: 0.4em;\n",
       "  background-color: var(--sklearn-color-background);\n",
       "}\n",
       "\n",
       "#sk-container-id-1 div.sk-container {\n",
       "  /* jupyter's `normalize.less` sets `[hidden] { display: none; }`\n",
       "     but bootstrap.min.css set `[hidden] { display: none !important; }`\n",
       "     so we also need the `!important` here to be able to override the\n",
       "     default hidden behavior on the sphinx rendered scikit-learn.org.\n",
       "     See: https://github.com/scikit-learn/scikit-learn/issues/21755 */\n",
       "  display: inline-block !important;\n",
       "  position: relative;\n",
       "}\n",
       "\n",
       "#sk-container-id-1 div.sk-text-repr-fallback {\n",
       "  display: none;\n",
       "}\n",
       "\n",
       "div.sk-parallel-item,\n",
       "div.sk-serial,\n",
       "div.sk-item {\n",
       "  /* draw centered vertical line to link estimators */\n",
       "  background-image: linear-gradient(var(--sklearn-color-text-on-default-background), var(--sklearn-color-text-on-default-background));\n",
       "  background-size: 2px 100%;\n",
       "  background-repeat: no-repeat;\n",
       "  background-position: center center;\n",
       "}\n",
       "\n",
       "/* Parallel-specific style estimator block */\n",
       "\n",
       "#sk-container-id-1 div.sk-parallel-item::after {\n",
       "  content: \"\";\n",
       "  width: 100%;\n",
       "  border-bottom: 2px solid var(--sklearn-color-text-on-default-background);\n",
       "  flex-grow: 1;\n",
       "}\n",
       "\n",
       "#sk-container-id-1 div.sk-parallel {\n",
       "  display: flex;\n",
       "  align-items: stretch;\n",
       "  justify-content: center;\n",
       "  background-color: var(--sklearn-color-background);\n",
       "  position: relative;\n",
       "}\n",
       "\n",
       "#sk-container-id-1 div.sk-parallel-item {\n",
       "  display: flex;\n",
       "  flex-direction: column;\n",
       "}\n",
       "\n",
       "#sk-container-id-1 div.sk-parallel-item:first-child::after {\n",
       "  align-self: flex-end;\n",
       "  width: 50%;\n",
       "}\n",
       "\n",
       "#sk-container-id-1 div.sk-parallel-item:last-child::after {\n",
       "  align-self: flex-start;\n",
       "  width: 50%;\n",
       "}\n",
       "\n",
       "#sk-container-id-1 div.sk-parallel-item:only-child::after {\n",
       "  width: 0;\n",
       "}\n",
       "\n",
       "/* Serial-specific style estimator block */\n",
       "\n",
       "#sk-container-id-1 div.sk-serial {\n",
       "  display: flex;\n",
       "  flex-direction: column;\n",
       "  align-items: center;\n",
       "  background-color: var(--sklearn-color-background);\n",
       "  padding-right: 1em;\n",
       "  padding-left: 1em;\n",
       "}\n",
       "\n",
       "\n",
       "/* Toggleable style: style used for estimator/Pipeline/ColumnTransformer box that is\n",
       "clickable and can be expanded/collapsed.\n",
       "- Pipeline and ColumnTransformer use this feature and define the default style\n",
       "- Estimators will overwrite some part of the style using the `sk-estimator` class\n",
       "*/\n",
       "\n",
       "/* Pipeline and ColumnTransformer style (default) */\n",
       "\n",
       "#sk-container-id-1 div.sk-toggleable {\n",
       "  /* Default theme specific background. It is overwritten whether we have a\n",
       "  specific estimator or a Pipeline/ColumnTransformer */\n",
       "  background-color: var(--sklearn-color-background);\n",
       "}\n",
       "\n",
       "/* Toggleable label */\n",
       "#sk-container-id-1 label.sk-toggleable__label {\n",
       "  cursor: pointer;\n",
       "  display: block;\n",
       "  width: 100%;\n",
       "  margin-bottom: 0;\n",
       "  padding: 0.5em;\n",
       "  box-sizing: border-box;\n",
       "  text-align: center;\n",
       "}\n",
       "\n",
       "#sk-container-id-1 label.sk-toggleable__label-arrow:before {\n",
       "  /* Arrow on the left of the label */\n",
       "  content: \"▸\";\n",
       "  float: left;\n",
       "  margin-right: 0.25em;\n",
       "  color: var(--sklearn-color-icon);\n",
       "}\n",
       "\n",
       "#sk-container-id-1 label.sk-toggleable__label-arrow:hover:before {\n",
       "  color: var(--sklearn-color-text);\n",
       "}\n",
       "\n",
       "/* Toggleable content - dropdown */\n",
       "\n",
       "#sk-container-id-1 div.sk-toggleable__content {\n",
       "  max-height: 0;\n",
       "  max-width: 0;\n",
       "  overflow: hidden;\n",
       "  text-align: left;\n",
       "  /* unfitted */\n",
       "  background-color: var(--sklearn-color-unfitted-level-0);\n",
       "}\n",
       "\n",
       "#sk-container-id-1 div.sk-toggleable__content.fitted {\n",
       "  /* fitted */\n",
       "  background-color: var(--sklearn-color-fitted-level-0);\n",
       "}\n",
       "\n",
       "#sk-container-id-1 div.sk-toggleable__content pre {\n",
       "  margin: 0.2em;\n",
       "  border-radius: 0.25em;\n",
       "  color: var(--sklearn-color-text);\n",
       "  /* unfitted */\n",
       "  background-color: var(--sklearn-color-unfitted-level-0);\n",
       "}\n",
       "\n",
       "#sk-container-id-1 div.sk-toggleable__content.fitted pre {\n",
       "  /* unfitted */\n",
       "  background-color: var(--sklearn-color-fitted-level-0);\n",
       "}\n",
       "\n",
       "#sk-container-id-1 input.sk-toggleable__control:checked~div.sk-toggleable__content {\n",
       "  /* Expand drop-down */\n",
       "  max-height: 200px;\n",
       "  max-width: 100%;\n",
       "  overflow: auto;\n",
       "}\n",
       "\n",
       "#sk-container-id-1 input.sk-toggleable__control:checked~label.sk-toggleable__label-arrow:before {\n",
       "  content: \"▾\";\n",
       "}\n",
       "\n",
       "/* Pipeline/ColumnTransformer-specific style */\n",
       "\n",
       "#sk-container-id-1 div.sk-label input.sk-toggleable__control:checked~label.sk-toggleable__label {\n",
       "  color: var(--sklearn-color-text);\n",
       "  background-color: var(--sklearn-color-unfitted-level-2);\n",
       "}\n",
       "\n",
       "#sk-container-id-1 div.sk-label.fitted input.sk-toggleable__control:checked~label.sk-toggleable__label {\n",
       "  background-color: var(--sklearn-color-fitted-level-2);\n",
       "}\n",
       "\n",
       "/* Estimator-specific style */\n",
       "\n",
       "/* Colorize estimator box */\n",
       "#sk-container-id-1 div.sk-estimator input.sk-toggleable__control:checked~label.sk-toggleable__label {\n",
       "  /* unfitted */\n",
       "  background-color: var(--sklearn-color-unfitted-level-2);\n",
       "}\n",
       "\n",
       "#sk-container-id-1 div.sk-estimator.fitted input.sk-toggleable__control:checked~label.sk-toggleable__label {\n",
       "  /* fitted */\n",
       "  background-color: var(--sklearn-color-fitted-level-2);\n",
       "}\n",
       "\n",
       "#sk-container-id-1 div.sk-label label.sk-toggleable__label,\n",
       "#sk-container-id-1 div.sk-label label {\n",
       "  /* The background is the default theme color */\n",
       "  color: var(--sklearn-color-text-on-default-background);\n",
       "}\n",
       "\n",
       "/* On hover, darken the color of the background */\n",
       "#sk-container-id-1 div.sk-label:hover label.sk-toggleable__label {\n",
       "  color: var(--sklearn-color-text);\n",
       "  background-color: var(--sklearn-color-unfitted-level-2);\n",
       "}\n",
       "\n",
       "/* Label box, darken color on hover, fitted */\n",
       "#sk-container-id-1 div.sk-label.fitted:hover label.sk-toggleable__label.fitted {\n",
       "  color: var(--sklearn-color-text);\n",
       "  background-color: var(--sklearn-color-fitted-level-2);\n",
       "}\n",
       "\n",
       "/* Estimator label */\n",
       "\n",
       "#sk-container-id-1 div.sk-label label {\n",
       "  font-family: monospace;\n",
       "  font-weight: bold;\n",
       "  display: inline-block;\n",
       "  line-height: 1.2em;\n",
       "}\n",
       "\n",
       "#sk-container-id-1 div.sk-label-container {\n",
       "  text-align: center;\n",
       "}\n",
       "\n",
       "/* Estimator-specific */\n",
       "#sk-container-id-1 div.sk-estimator {\n",
       "  font-family: monospace;\n",
       "  border: 1px dotted var(--sklearn-color-border-box);\n",
       "  border-radius: 0.25em;\n",
       "  box-sizing: border-box;\n",
       "  margin-bottom: 0.5em;\n",
       "  /* unfitted */\n",
       "  background-color: var(--sklearn-color-unfitted-level-0);\n",
       "}\n",
       "\n",
       "#sk-container-id-1 div.sk-estimator.fitted {\n",
       "  /* fitted */\n",
       "  background-color: var(--sklearn-color-fitted-level-0);\n",
       "}\n",
       "\n",
       "/* on hover */\n",
       "#sk-container-id-1 div.sk-estimator:hover {\n",
       "  /* unfitted */\n",
       "  background-color: var(--sklearn-color-unfitted-level-2);\n",
       "}\n",
       "\n",
       "#sk-container-id-1 div.sk-estimator.fitted:hover {\n",
       "  /* fitted */\n",
       "  background-color: var(--sklearn-color-fitted-level-2);\n",
       "}\n",
       "\n",
       "/* Specification for estimator info (e.g. \"i\" and \"?\") */\n",
       "\n",
       "/* Common style for \"i\" and \"?\" */\n",
       "\n",
       ".sk-estimator-doc-link,\n",
       "a:link.sk-estimator-doc-link,\n",
       "a:visited.sk-estimator-doc-link {\n",
       "  float: right;\n",
       "  font-size: smaller;\n",
       "  line-height: 1em;\n",
       "  font-family: monospace;\n",
       "  background-color: var(--sklearn-color-background);\n",
       "  border-radius: 1em;\n",
       "  height: 1em;\n",
       "  width: 1em;\n",
       "  text-decoration: none !important;\n",
       "  margin-left: 1ex;\n",
       "  /* unfitted */\n",
       "  border: var(--sklearn-color-unfitted-level-1) 1pt solid;\n",
       "  color: var(--sklearn-color-unfitted-level-1);\n",
       "}\n",
       "\n",
       ".sk-estimator-doc-link.fitted,\n",
       "a:link.sk-estimator-doc-link.fitted,\n",
       "a:visited.sk-estimator-doc-link.fitted {\n",
       "  /* fitted */\n",
       "  border: var(--sklearn-color-fitted-level-1) 1pt solid;\n",
       "  color: var(--sklearn-color-fitted-level-1);\n",
       "}\n",
       "\n",
       "/* On hover */\n",
       "div.sk-estimator:hover .sk-estimator-doc-link:hover,\n",
       ".sk-estimator-doc-link:hover,\n",
       "div.sk-label-container:hover .sk-estimator-doc-link:hover,\n",
       ".sk-estimator-doc-link:hover {\n",
       "  /* unfitted */\n",
       "  background-color: var(--sklearn-color-unfitted-level-3);\n",
       "  color: var(--sklearn-color-background);\n",
       "  text-decoration: none;\n",
       "}\n",
       "\n",
       "div.sk-estimator.fitted:hover .sk-estimator-doc-link.fitted:hover,\n",
       ".sk-estimator-doc-link.fitted:hover,\n",
       "div.sk-label-container:hover .sk-estimator-doc-link.fitted:hover,\n",
       ".sk-estimator-doc-link.fitted:hover {\n",
       "  /* fitted */\n",
       "  background-color: var(--sklearn-color-fitted-level-3);\n",
       "  color: var(--sklearn-color-background);\n",
       "  text-decoration: none;\n",
       "}\n",
       "\n",
       "/* Span, style for the box shown on hovering the info icon */\n",
       ".sk-estimator-doc-link span {\n",
       "  display: none;\n",
       "  z-index: 9999;\n",
       "  position: relative;\n",
       "  font-weight: normal;\n",
       "  right: .2ex;\n",
       "  padding: .5ex;\n",
       "  margin: .5ex;\n",
       "  width: min-content;\n",
       "  min-width: 20ex;\n",
       "  max-width: 50ex;\n",
       "  color: var(--sklearn-color-text);\n",
       "  box-shadow: 2pt 2pt 4pt #999;\n",
       "  /* unfitted */\n",
       "  background: var(--sklearn-color-unfitted-level-0);\n",
       "  border: .5pt solid var(--sklearn-color-unfitted-level-3);\n",
       "}\n",
       "\n",
       ".sk-estimator-doc-link.fitted span {\n",
       "  /* fitted */\n",
       "  background: var(--sklearn-color-fitted-level-0);\n",
       "  border: var(--sklearn-color-fitted-level-3);\n",
       "}\n",
       "\n",
       ".sk-estimator-doc-link:hover span {\n",
       "  display: block;\n",
       "}\n",
       "\n",
       "/* \"?\"-specific style due to the `<a>` HTML tag */\n",
       "\n",
       "#sk-container-id-1 a.estimator_doc_link {\n",
       "  float: right;\n",
       "  font-size: 1rem;\n",
       "  line-height: 1em;\n",
       "  font-family: monospace;\n",
       "  background-color: var(--sklearn-color-background);\n",
       "  border-radius: 1rem;\n",
       "  height: 1rem;\n",
       "  width: 1rem;\n",
       "  text-decoration: none;\n",
       "  /* unfitted */\n",
       "  color: var(--sklearn-color-unfitted-level-1);\n",
       "  border: var(--sklearn-color-unfitted-level-1) 1pt solid;\n",
       "}\n",
       "\n",
       "#sk-container-id-1 a.estimator_doc_link.fitted {\n",
       "  /* fitted */\n",
       "  border: var(--sklearn-color-fitted-level-1) 1pt solid;\n",
       "  color: var(--sklearn-color-fitted-level-1);\n",
       "}\n",
       "\n",
       "/* On hover */\n",
       "#sk-container-id-1 a.estimator_doc_link:hover {\n",
       "  /* unfitted */\n",
       "  background-color: var(--sklearn-color-unfitted-level-3);\n",
       "  color: var(--sklearn-color-background);\n",
       "  text-decoration: none;\n",
       "}\n",
       "\n",
       "#sk-container-id-1 a.estimator_doc_link.fitted:hover {\n",
       "  /* fitted */\n",
       "  background-color: var(--sklearn-color-fitted-level-3);\n",
       "}\n",
       "</style><div id=\"sk-container-id-1\" class=\"sk-top-container\"><div class=\"sk-text-repr-fallback\"><pre>PCA(n_components=33)</pre><b>In a Jupyter environment, please rerun this cell to show the HTML representation or trust the notebook. <br />On GitHub, the HTML representation is unable to render, please try loading this page with nbviewer.org.</b></div><div class=\"sk-container\" hidden><div class=\"sk-item\"><div class=\"sk-estimator fitted sk-toggleable\"><input class=\"sk-toggleable__control sk-hidden--visually\" id=\"sk-estimator-id-1\" type=\"checkbox\" checked><label for=\"sk-estimator-id-1\" class=\"sk-toggleable__label fitted sk-toggleable__label-arrow fitted\">&nbsp;&nbsp;PCA<a class=\"sk-estimator-doc-link fitted\" rel=\"noreferrer\" target=\"_blank\" href=\"https://scikit-learn.org/1.5/modules/generated/sklearn.decomposition.PCA.html\">?<span>Documentation for PCA</span></a><span class=\"sk-estimator-doc-link fitted\">i<span>Fitted</span></span></label><div class=\"sk-toggleable__content fitted\"><pre>PCA(n_components=33)</pre></div> </div></div></div></div>"
      ],
      "text/plain": [
       "PCA(n_components=33)"
      ]
     },
     "execution_count": 113,
     "metadata": {},
     "output_type": "execute_result"
    }
   ],
   "source": [
    "pca_model = PCA(n_components=33)\n",
    "pca_model.fit(avg_df)"
   ]
  },
  {
   "cell_type": "code",
   "execution_count": 119,
   "id": "918b32d2-0aba-4a1f-b31a-c1bbaaa56bdc",
   "metadata": {
    "execution": {
     "iopub.execute_input": "2025-01-27T17:44:37.178048Z",
     "iopub.status.busy": "2025-01-27T17:44:37.178048Z",
     "iopub.status.idle": "2025-01-27T17:44:37.187507Z",
     "shell.execute_reply": "2025-01-27T17:44:37.186143Z",
     "shell.execute_reply.started": "2025-01-27T17:44:37.178048Z"
    }
   },
   "outputs": [],
   "source": [
    "pca_df = pd.DataFrame(pca_model.transform(avg_df), columns=[f\"PCA{i}\" for i in range(1, 34)])"
   ]
  },
  {
   "cell_type": "code",
   "execution_count": 126,
   "id": "c5462c72-eda5-450d-96d6-cbad836b76a9",
   "metadata": {
    "execution": {
     "iopub.execute_input": "2025-01-27T17:47:58.404254Z",
     "iopub.status.busy": "2025-01-27T17:47:58.403244Z",
     "iopub.status.idle": "2025-01-27T17:47:58.417761Z",
     "shell.execute_reply": "2025-01-27T17:47:58.416745Z",
     "shell.execute_reply.started": "2025-01-27T17:47:58.404254Z"
    }
   },
   "outputs": [
    {
     "data": {
      "text/html": [
       "<div>\n",
       "<style scoped>\n",
       "    .dataframe tbody tr th:only-of-type {\n",
       "        vertical-align: middle;\n",
       "    }\n",
       "\n",
       "    .dataframe tbody tr th {\n",
       "        vertical-align: top;\n",
       "    }\n",
       "\n",
       "    .dataframe thead th {\n",
       "        text-align: right;\n",
       "    }\n",
       "</style>\n",
       "<table border=\"1\" class=\"dataframe\">\n",
       "  <thead>\n",
       "    <tr style=\"text-align: right;\">\n",
       "      <th></th>\n",
       "      <th>Expained Variance</th>\n",
       "    </tr>\n",
       "  </thead>\n",
       "  <tbody>\n",
       "    <tr>\n",
       "      <th>PCA1</th>\n",
       "      <td>21.42%</td>\n",
       "    </tr>\n",
       "    <tr>\n",
       "      <th>PCA2</th>\n",
       "      <td>15.25%</td>\n",
       "    </tr>\n",
       "    <tr>\n",
       "      <th>PCA3</th>\n",
       "      <td>9.06%</td>\n",
       "    </tr>\n",
       "    <tr>\n",
       "      <th>PCA4</th>\n",
       "      <td>7.42%</td>\n",
       "    </tr>\n",
       "    <tr>\n",
       "      <th>PCA5</th>\n",
       "      <td>6.42%</td>\n",
       "    </tr>\n",
       "    <tr>\n",
       "      <th>PCA6</th>\n",
       "      <td>5.92%</td>\n",
       "    </tr>\n",
       "    <tr>\n",
       "      <th>PCA7</th>\n",
       "      <td>4.98%</td>\n",
       "    </tr>\n",
       "    <tr>\n",
       "      <th>PCA8</th>\n",
       "      <td>4.68%</td>\n",
       "    </tr>\n",
       "    <tr>\n",
       "      <th>PCA9</th>\n",
       "      <td>4.11%</td>\n",
       "    </tr>\n",
       "    <tr>\n",
       "      <th>PCA10</th>\n",
       "      <td>3.41%</td>\n",
       "    </tr>\n",
       "    <tr>\n",
       "      <th>PCA11</th>\n",
       "      <td>3.19%</td>\n",
       "    </tr>\n",
       "    <tr>\n",
       "      <th>PCA12</th>\n",
       "      <td>1.98%</td>\n",
       "    </tr>\n",
       "    <tr>\n",
       "      <th>PCA13</th>\n",
       "      <td>1.74%</td>\n",
       "    </tr>\n",
       "    <tr>\n",
       "      <th>PCA14</th>\n",
       "      <td>1.65%</td>\n",
       "    </tr>\n",
       "    <tr>\n",
       "      <th>PCA15</th>\n",
       "      <td>1.52%</td>\n",
       "    </tr>\n",
       "    <tr>\n",
       "      <th>PCA16</th>\n",
       "      <td>1.35%</td>\n",
       "    </tr>\n",
       "    <tr>\n",
       "      <th>PCA17</th>\n",
       "      <td>1.17%</td>\n",
       "    </tr>\n",
       "    <tr>\n",
       "      <th>PCA18</th>\n",
       "      <td>0.97%</td>\n",
       "    </tr>\n",
       "    <tr>\n",
       "      <th>PCA19</th>\n",
       "      <td>0.88%</td>\n",
       "    </tr>\n",
       "    <tr>\n",
       "      <th>PCA20</th>\n",
       "      <td>0.69%</td>\n",
       "    </tr>\n",
       "    <tr>\n",
       "      <th>PCA21</th>\n",
       "      <td>0.57%</td>\n",
       "    </tr>\n",
       "    <tr>\n",
       "      <th>PCA22</th>\n",
       "      <td>0.54%</td>\n",
       "    </tr>\n",
       "    <tr>\n",
       "      <th>PCA23</th>\n",
       "      <td>0.32%</td>\n",
       "    </tr>\n",
       "    <tr>\n",
       "      <th>PCA24</th>\n",
       "      <td>0.24%</td>\n",
       "    </tr>\n",
       "    <tr>\n",
       "      <th>PCA25</th>\n",
       "      <td>0.20%</td>\n",
       "    </tr>\n",
       "    <tr>\n",
       "      <th>PCA26</th>\n",
       "      <td>0.10%</td>\n",
       "    </tr>\n",
       "    <tr>\n",
       "      <th>PCA27</th>\n",
       "      <td>0.09%</td>\n",
       "    </tr>\n",
       "    <tr>\n",
       "      <th>PCA28</th>\n",
       "      <td>0.06%</td>\n",
       "    </tr>\n",
       "    <tr>\n",
       "      <th>PCA29</th>\n",
       "      <td>0.03%</td>\n",
       "    </tr>\n",
       "    <tr>\n",
       "      <th>PCA30</th>\n",
       "      <td>0.03%</td>\n",
       "    </tr>\n",
       "    <tr>\n",
       "      <th>PCA31</th>\n",
       "      <td>0.01%</td>\n",
       "    </tr>\n",
       "    <tr>\n",
       "      <th>PCA32</th>\n",
       "      <td>0.00%</td>\n",
       "    </tr>\n",
       "    <tr>\n",
       "      <th>PCA33</th>\n",
       "      <td>0.00%</td>\n",
       "    </tr>\n",
       "  </tbody>\n",
       "</table>\n",
       "</div>"
      ],
      "text/plain": [
       "      Expained Variance\n",
       "PCA1             21.42%\n",
       "PCA2             15.25%\n",
       "PCA3              9.06%\n",
       "PCA4              7.42%\n",
       "PCA5              6.42%\n",
       "PCA6              5.92%\n",
       "PCA7              4.98%\n",
       "PCA8              4.68%\n",
       "PCA9              4.11%\n",
       "PCA10             3.41%\n",
       "PCA11             3.19%\n",
       "PCA12             1.98%\n",
       "PCA13             1.74%\n",
       "PCA14             1.65%\n",
       "PCA15             1.52%\n",
       "PCA16             1.35%\n",
       "PCA17             1.17%\n",
       "PCA18             0.97%\n",
       "PCA19             0.88%\n",
       "PCA20             0.69%\n",
       "PCA21             0.57%\n",
       "PCA22             0.54%\n",
       "PCA23             0.32%\n",
       "PCA24             0.24%\n",
       "PCA25             0.20%\n",
       "PCA26             0.10%\n",
       "PCA27             0.09%\n",
       "PCA28             0.06%\n",
       "PCA29             0.03%\n",
       "PCA30             0.03%\n",
       "PCA31             0.01%\n",
       "PCA32             0.00%\n",
       "PCA33             0.00%"
      ]
     },
     "execution_count": 126,
     "metadata": {},
     "output_type": "execute_result"
    }
   ],
   "source": [
    "pd.DataFrame({\"Expained Variance\" : [f\"{i*100:.2f}%\" for i in pca_model.explained_variance_ratio_]}, index=[f\"PCA{i}\" for i in range(1, 34)])"
   ]
  },
  {
   "cell_type": "code",
   "execution_count": 164,
   "id": "263ebb14-8e66-46ac-a9b1-afaa64952666",
   "metadata": {
    "execution": {
     "iopub.execute_input": "2025-01-27T17:58:25.631566Z",
     "iopub.status.busy": "2025-01-27T17:58:25.631566Z",
     "iopub.status.idle": "2025-01-27T17:58:25.837292Z",
     "shell.execute_reply": "2025-01-27T17:58:25.836135Z",
     "shell.execute_reply.started": "2025-01-27T17:58:25.631566Z"
    }
   },
   "outputs": [
    {
     "data": {
      "image/png": "[encoded data removed]",
      "text/plain": [
       "<Figure size 2000x800 with 1 Axes>"
      ]
     },
     "metadata": {},
     "output_type": "display_data"
    }
   ],
   "source": [
    "plt.figure(figsize=(20, 8))\n",
    "\n",
    "\n",
    "sns.scatterplot(x=pca_df[\"PCA1\"], y=pca_df[\"PCA2\"])\n",
    "\n",
    "plt.show()"
   ]
  },
  {
   "cell_type": "code",
   "execution_count": 129,
   "id": "8c65ff42-5a0d-47c9-96d1-1231c8bec814",
   "metadata": {
    "execution": {
     "iopub.execute_input": "2025-01-27T17:50:58.148416Z",
     "iopub.status.busy": "2025-01-27T17:50:58.147423Z",
     "iopub.status.idle": "2025-01-27T17:50:58.154486Z",
     "shell.execute_reply": "2025-01-27T17:50:58.153471Z",
     "shell.execute_reply.started": "2025-01-27T17:50:58.148416Z"
    }
   },
   "outputs": [],
   "source": [
    "from sklearn.cluster import DBSCAN"
   ]
  },
  {
   "cell_type": "code",
   "execution_count": 153,
   "id": "f1c6c310-bc44-4d99-9f2f-91f8ab180f23",
   "metadata": {
    "execution": {
     "iopub.execute_input": "2025-01-27T17:53:53.554864Z",
     "iopub.status.busy": "2025-01-27T17:53:53.554864Z",
     "iopub.status.idle": "2025-01-27T17:53:53.577290Z",
     "shell.execute_reply": "2025-01-27T17:53:53.576277Z",
     "shell.execute_reply.started": "2025-01-27T17:53:53.554864Z"
    }
   },
   "outputs": [
    {
     "data": {
      "text/plain": [
       "array([ 0,  0,  0,  0,  0,  0,  0,  0,  0,  0,  0,  0,  0, -1,  0,  0,  0,\n",
       "        0,  0, -1,  0,  0,  0,  0,  0,  0,  0,  0,  0,  0,  0,  0, -1,  0,\n",
       "        0,  0,  0,  0,  0, -1,  0,  0,  0,  0,  0,  0,  0,  0,  0,  0,  0,\n",
       "        0,  0,  0,  0,  0,  0, -1,  0,  0,  0,  0,  0,  0,  0,  0,  0,  0,\n",
       "        0,  0,  0,  0,  0,  0,  0,  0,  0, -1,  0, -1,  0,  0,  0,  0,  0,\n",
       "        0,  0,  0, -1,  0,  0,  0,  0,  0,  0,  0, -1,  0,  0,  0,  0,  0,\n",
       "        0,  0,  0,  0,  0,  0,  0, -1,  0,  0,  0,  0,  0,  0,  0,  0,  0,\n",
       "        0,  0,  0,  0,  0,  0,  0,  0,  0,  0, -1,  0,  0,  0,  0,  0,  0,\n",
       "        0,  0,  0,  0, -1,  0,  0, -1,  0,  0,  0,  0,  0, -1, -1,  0,  0,\n",
       "        0,  0,  0,  0,  0,  0,  0,  0,  0,  0,  0,  0,  0,  0,  0,  0,  0,\n",
       "        0,  0,  0,  0,  0,  0,  0,  0,  0,  0,  0,  0,  0, -1,  0,  0,  0,\n",
       "        0,  0,  0,  0,  0,  0,  0,  0,  0,  0,  0,  0])"
      ]
     },
     "execution_count": 153,
     "metadata": {},
     "output_type": "execute_result"
    }
   ],
   "source": [
    "dbscan = DBSCAN(eps=5, min_samples=5, metric='euclidean') \n",
    "labels = dbscan.fit_predict(pca_df)\n",
    "\n",
    "labels"
   ]
  },
  {
   "cell_type": "markdown",
   "id": "056f5658-772b-43e4-a853-7cf4fa9fb1e1",
   "metadata": {
    "execution": {
     "iopub.execute_input": "2025-01-27T17:51:35.722458Z",
     "iopub.status.busy": "2025-01-27T17:51:35.721459Z",
     "iopub.status.idle": "2025-01-27T17:51:35.779749Z",
     "shell.execute_reply": "2025-01-27T17:51:35.777297Z",
     "shell.execute_reply.started": "2025-01-27T17:51:35.722458Z"
    }
   },
   "source": [
    "## As the is not density and seperable boundary, DBScan is not working well."
   ]
  },
  {
   "cell_type": "markdown",
   "id": "f31a6c02-f55f-4111-aad9-8985f9b92d41",
   "metadata": {},
   "source": [
    "# So we go with **Agglomerative Clustering with 4 clusters** and DB Index of 2.591"
   ]
  },
  {
   "cell_type": "code",
   "execution_count": 165,
   "id": "0fd03a57-91b4-4181-b02c-c6302ad6a471",
   "metadata": {
    "execution": {
     "iopub.execute_input": "2025-01-27T17:58:41.165931Z",
     "iopub.status.busy": "2025-01-27T17:58:41.164931Z",
     "iopub.status.idle": "2025-01-27T17:58:41.697078Z",
     "shell.execute_reply": "2025-01-27T17:58:41.697078Z",
     "shell.execute_reply.started": "2025-01-27T17:58:41.165931Z"
    }
   },
   "outputs": [
    {
     "data": {
      "image/png": "[encoded data removed]",
      "text/plain": [
       "<Figure size 2000x800 with 1 Axes>"
      ]
     },
     "metadata": {},
     "output_type": "display_data"
    }
   ],
   "source": [
    "plt.figure(figsize=(20, 8))\n",
    "\n",
    "sns.scatterplot(x=pca_df[\"PCA1\"], y=pca_df[\"PCA2\"], hue=labels_4, palette=\"Set1\")\n",
    "\n",
    "plt.show()"
   ]
  },
  {
   "cell_type": "code",
   "execution_count": 163,
   "id": "494ad6b0-dda3-48d0-b1fa-e3db8575b94f",
   "metadata": {
    "execution": {
     "iopub.execute_input": "2025-01-27T17:57:21.025811Z",
     "iopub.status.busy": "2025-01-27T17:57:21.025811Z",
     "iopub.status.idle": "2025-01-27T17:57:21.035293Z",
     "shell.execute_reply": "2025-01-27T17:57:21.034274Z",
     "shell.execute_reply.started": "2025-01-27T17:57:21.025811Z"
    }
   },
   "outputs": [
    {
     "data": {
      "text/plain": [
       "array([0, 1, 0, 0, 1, 2, 3, 0, 1, 1, 0, 0, 0, 3, 3, 0, 1, 0, 1, 3, 0, 0,\n",
       "       1, 0, 1, 2, 1, 0, 1, 0, 0, 1, 1, 0, 0, 0, 1, 1, 0, 2, 0, 0, 1, 2,\n",
       "       0, 0, 0, 0, 0, 2, 0, 0, 1, 0, 0, 0, 0, 3, 0, 1, 1, 1, 1, 0, 0, 2,\n",
       "       0, 0, 1, 1, 1, 0, 3, 1, 1, 0, 1, 2, 3, 3, 0, 0, 1, 0, 0, 1, 2, 1,\n",
       "       2, 0, 0, 0, 0, 0, 1, 2, 3, 0, 0, 1, 0, 0, 1, 0, 1, 1, 0, 0, 1, 3,\n",
       "       1, 0, 0, 2, 2, 0, 0, 0, 1, 3, 1, 0, 1, 1, 3, 0, 1, 3, 0, 3, 3, 1,\n",
       "       0, 1, 1, 0, 0, 2, 1, 1, 0, 0, 0, 0, 0, 0, 1, 2, 1, 3, 1, 0, 0, 0,\n",
       "       0, 0, 0, 2, 1, 1, 1, 0, 2, 1, 0, 1, 1, 2, 0, 1, 2, 1, 0, 0, 0, 3,\n",
       "       0, 1, 1, 0, 0, 0, 0, 2, 3, 2, 0, 0, 0, 0, 0, 3, 0, 0, 2, 1, 1, 1,\n",
       "       1])"
      ]
     },
     "execution_count": 163,
     "metadata": {},
     "output_type": "execute_result"
    }
   ],
   "source": [
    "labels_4"
   ]
  },
  {
   "cell_type": "code",
   "execution_count": 168,
   "id": "b0a37512-9661-473b-9e8a-054869446e57",
   "metadata": {
    "execution": {
     "iopub.execute_input": "2025-01-27T18:01:11.453553Z",
     "iopub.status.busy": "2025-01-27T18:01:11.452553Z",
     "iopub.status.idle": "2025-01-27T18:01:11.477851Z",
     "shell.execute_reply": "2025-01-27T18:01:11.475834Z",
     "shell.execute_reply.started": "2025-01-27T18:01:11.453553Z"
    }
   },
   "outputs": [
    {
     "data": {
      "application/vnd.plotly.v1+json": {
       "config": {
        "plotlyServerURL": "https://plot.ly"
       },
       "data": [
        {
         "marker": {
          "color": [
           0,
           1,
           0,
           0,
           1,
           2,
           3,
           0,
           1,
           1,
           0,
           0,
           0,
           3,
           3,
           0,
           1,
           0,
           1,
           3,
           0,
           0,
           1,
           0,
           1,
           2,
           1,
           0,
           1,
           0,
           0,
           1,
           1,
           0,
           0,
           0,
           1,
           1,
           0,
           2,
           0,
           0,
           1,
           2,
           0,
           0,
           0,
           0,
           0,
           2,
           0,
           0,
           1,
           0,
           0,
           0,
           0,
           3,
           0,
           1,
           1,
           1,
           1,
           0,
           0,
           2,
           0,
           0,
           1,
           1,
           1,
           0,
           3,
           1,
           1,
           0,
           1,
           2,
           3,
           3,
           0,
           0,
           1,
           0,
           0,
           1,
           2,
           1,
           2,
           0,
           0,
           0,
           0,
           0,
           1,
           2,
           3,
           0,
           0,
           1,
           0,
           0,
           1,
           0,
           1,
           1,
           0,
           0,
           1,
           3,
           1,
           0,
           0,
           2,
           2,
           0,
           0,
           0,
           1,
           3,
           1,
           0,
           1,
           1,
           3,
           0,
           1,
           3,
           0,
           3,
           3,
           1,
           0,
           1,
           1,
           0,
           0,
           2,
           1,
           1,
           0,
           0,
           0,
           0,
           0,
           0,
           1,
           2,
           1,
           3,
           1,
           0,
           0,
           0,
           0,
           0,
           0,
           2,
           1,
           1,
           1,
           0,
           2,
           1,
           0,
           1,
           1,
           2,
           0,
           1,
           2,
           1,
           0,
           0,
           0,
           3,
           0,
           1,
           1,
           0,
           0,
           0,
           0,
           2,
           3,
           2,
           0,
           0,
           0,
           0,
           0,
           3,
           0,
           0,
           2,
           1,
           1,
           1,
           1
          ],
          "opacity": 0.8,
          "size": 5
         },
         "mode": "markers",
         "type": "scatter3d",
         "x": [
          0.18388468556393361,
          -2.3627965075695236,
          -0.012950176298611255,
          0.4099947631856682,
          -0.5261219615301458,
          3.054792214538349,
          0.9261059020572059,
          -1.3402923476239261,
          -3.658832069391527,
          -2.0766080051216256,
          0.848597407134772,
          1.563437763799695,
          2.361693745332409,
          -4.554773370884382,
          -2.088762092132258,
          1.5387607857484487,
          -0.19763920206543648,
          2.277794192163221,
          -2.5936116030490317,
          0.7406569474996061,
          1.0423722541895113,
          1.0143151906773782,
          1.8549562922864236,
          -1.6733321347922334,
          -3.1343149402899444,
          1.3279424353549778,
          -0.5935997162856913,
          1.6647632952897948,
          -2.303563209896932,
          -1.4434637791252782,
          -1.9188076026079752,
          -3.9478069464497856,
          -5.988723477512564,
          -1.4682565957963043,
          -1.0444099157416593,
          -1.8382396681939137,
          1.7207234227320771,
          -1.3710249670068684,
          0.46115845000219235,
          4.673304974414971,
          2.082143507089387,
          1.272834340492607,
          -3.65256481799713,
          3.3257486890789503,
          1.1093153976933177,
          1.2986766567647883,
          -2.0154277112266237,
          1.012917411085775,
          -3.238119538521256,
          2.4516565939775594,
          1.6360239707178745,
          -0.6117638597218618,
          1.9568114599718138,
          2.607660499033682,
          -1.606433275964883,
          -0.6390368593212024,
          1.1872207908786105,
          -2.6758764757957887,
          2.104180338755569,
          -5.964816518554493,
          -0.5493065422586163,
          -1.9406925942270998,
          0.15658634785207456,
          1.9592185787872656,
          1.888321645549775,
          4.911849909003335,
          0.21523531086122377,
          1.3627596748283155,
          -1.0161817599782863,
          0.4963980510274826,
          -2.687137153886666,
          -0.6930349089351655,
          -0.9378553841845805,
          1.929831140179864,
          0.35892117474521834,
          -1.731107457851526,
          -4.419896210355031,
          2.2160334692243784,
          2.258919744908465,
          1.457635104242197,
          -0.5225033743610363,
          3.8327907857792374,
          -4.46198333538382,
          -1.1946130488055784,
          1.5214440193779049,
          -1.333882345122535,
          2.8455248623637237,
          -2.0754399828318535,
          4.144836835655781,
          -0.5525256276300421,
          -1.0303188734907278,
          0.34533363660490357,
          0.3999251493850251,
          -3.7063566154773873,
          -0.2191059181235255,
          4.70539280765513,
          -5.974138044883847,
          -2.06514699468491,
          2.0351470093304007,
          1.7887210384723427,
          0.6942781548900041,
          1.3483085422605157,
          -1.7401411630648222,
          1.9225830552828584,
          1.4120244498924897,
          -0.7675191696771058,
          0.13340738224381143,
          0.2562683640592718,
          -1.542850766393538,
          0.4994804668392504,
          -2.6516591887613403,
          -0.09921770468717231,
          0.019691798540304978,
          3.7882077310238476,
          2.65791100507597,
          -2.025908792972176,
          1.9938882433074931,
          0.02022101676824084,
          -4.2309950315333476,
          0.38408563567418663,
          -4.591575438738171,
          0.8495197659524312,
          0.3713958491659561,
          -0.5180002779225023,
          -0.054860727169285,
          1.291629355122404,
          -1.1767194516153092,
          -3.7395152075418387,
          0.02567204848758947,
          -1.6147483396172044,
          -0.6977826456415172,
          -0.5644374362035638,
          0.30862059104165646,
          -1.3771888726714956,
          0.4544413513216583,
          -0.0869444336278811,
          0.14018244812201242,
          4.403805018080558,
          -1.544959966652858,
          2.2525007529447403,
          4.803114044975399,
          -0.9058689416143735,
          2.7268662925673337,
          -1.632508695304069,
          0.7529783408838815,
          -0.3639122030180526,
          -2.6307684530606754,
          3.5864671058647475,
          1.1774001159007976,
          -1.8163430734205464,
          -5.080854057762035,
          0.028727480204312705,
          0.9578523264750712,
          -0.48322572648081785,
          1.8082840274800582,
          1.630787503978122,
          -3.345563896147903,
          2.3325817039508894,
          -0.4164751890689732,
          -0.6971293639830242,
          -2.349330388571861,
          -0.6341967674750326,
          2.827693375836657,
          -0.05573962033330729,
          1.4748720880469839,
          -1.0058601386837704,
          0.16221923694237797,
          5.1554383289387244,
          1.3378963145084863,
          2.0753122488037286,
          3.700420217786618,
          -2.6373105503661254,
          1.2546592261817218,
          0.22108362551038663,
          0.8529335520107441,
          -0.759940967250197,
          -0.5886032502100932,
          -0.09544153244510431,
          -0.7273702426417443,
          -0.4524836545795159,
          2.2027018141056445,
          0.3706851527129202,
          -0.9725282031582336,
          2.7657322956657775,
          -0.8625616310574156,
          2.70797752030273,
          2.312923604780625,
          -1.4519064644823434,
          -0.6794857151700111,
          0.07450816348250508,
          -1.1299445242532096,
          0.20222061736116514,
          -0.9798060753935909,
          -0.4554547751103126,
          4.4018173231347415,
          -1.085811838387272,
          -2.536402666056525,
          -2.324193318017568,
          2.1596947091009078
         ],
         "y": [
          -1.1182595685407435,
          -0.4108332401885343,
          0.35039404906109783,
          -1.7234899714795833,
          1.0119938646048419,
          0.8003609571868374,
          1.8609182811048028,
          -2.3363426353002823,
          0.7790275010449369,
          -0.8890758705560924,
          -0.9711150798881026,
          -2.244535507570582,
          -1.9623171400588864,
          4.6475715179403965,
          2.8574385838132574,
          -0.039869069291042836,
          -1.170022791486009,
          1.811947638022715,
          -0.5623122766974686,
          7.346248563762654,
          -1.6055759485928753,
          -0.607190015755217,
          -0.586260909290459,
          0.511440738352449,
          -0.20027407505075867,
          1.7922752289200652,
          -0.06756524570832234,
          -0.8032997427046473,
          -1.499960196173656,
          -0.6665215515259053,
          0.3857345992117357,
          -0.08491013055778329,
          1.9185314171145005,
          -0.57053616127181,
          0.583698535809062,
          1.5516836419616356,
          0.23554375734090027,
          -1.6001461310864165,
          -0.5793361025137833,
          3.830505471622952,
          -1.3829528492987422,
          0.5341155399982486,
          0.21781980638884568,
          0.9649058433057892,
          -0.08780387091444264,
          0.04286241550561154,
          -0.01900679388126858,
          0.6332818592358233,
          -0.26865089711411366,
          3.119568589250851,
          -1.7646329155960032,
          0.7026230243960566,
          -1.4286862300590306,
          -0.8847658535868578,
          0.2570088826001323,
          -0.16100093599374254,
          -1.2754170692004907,
          4.726344794152794,
          -0.3615657787248914,
          0.392812976532819,
          -0.7047643595617255,
          1.2874879398161236,
          0.6577248801681442,
          -0.7397698775380124,
          -2.3745721430953006,
          3.273923130245181,
          -0.7876045694180297,
          -1.9428840904349913,
          -0.68163556948904,
          0.6549030789183593,
          0.08543259378708767,
          -0.8288511962197633,
          2.7892562338876816,
          1.8243909539687095,
          -1.9316408908839886,
          -0.28049224022905356,
          0.6391696114110988,
          4.164669449967324,
          2.5105519958347595,
          7.032575844357844,
          -1.3779282524952192,
          -2.059308754995735,
          -1.094707770163304,
          -1.9039137341278929,
          1.2194156014179862,
          -0.820718606671102,
          0.46375314042819904,
          -1.3967577863902467,
          3.727198338029119,
          -0.8246407739080882,
          -1.1132839791206677,
          0.21979689667266344,
          -1.3227351519033506,
          -0.21337741067170773,
          -0.35064423326201893,
          0.12994436574368096,
          3.0121204982551357,
          -1.026114349132823,
          -3.060949885201076,
          0.10932327255025187,
          -2.406084592966579,
          -1.133997767660347,
          -0.5763467316612522,
          -2.0228289156856194,
          0.11652184643170582,
          -1.1516500499880893,
          -0.7936311552027909,
          -1.7655798324491645,
          -1.992176515580414,
          7.673938993098334,
          -0.9241040466157042,
          0.03326413231250136,
          -2.792724671312324,
          2.608890113038355,
          1.7166779390359914,
          0.19424468006972906,
          1.5131701545118403,
          -2.6942951034636233,
          -0.20372139826618862,
          3.243312451607955,
          0.11905231710356767,
          -1.842950660690966,
          0.08047228801512207,
          0.1679675435904079,
          1.3359201041722137,
          -1.6684323035618989,
          0.6534592135005785,
          3.158270916754733,
          1.4289699877399502,
          3.899879660306083,
          0.0007530157278524685,
          0.2051055381758058,
          0.2465800868561715,
          -1.6316829857525894,
          -0.21338089061685944,
          -0.06330154825144108,
          -1.1447265841549399,
          0.8494727283728859,
          -0.7432445407190863,
          0.1402402273021992,
          -1.8491079144671523,
          -0.4644528217308663,
          -1.4867584995206846,
          2.603335037694954,
          -1.0661675010720508,
          0.6079691093143756,
          -2.6014386940320358,
          1.1478516083323638,
          -0.4175672002163656,
          3.3674263703709566,
          0.3471010188348628,
          -1.790595657669639,
          -1.641176345324722,
          0.23150227760101172,
          -1.263004770441423,
          -2.7683324474371345,
          -0.4730430889245644,
          0.389540499316112,
          -0.7498948839178912,
          -0.1946482106850453,
          -1.0209090918273724,
          -2.170905359070666,
          -0.2530470899750714,
          -1.2641573579488696,
          -4.231324144657888,
          -0.48182422915337664,
          1.7673906671809578,
          0.5412487409292809,
          -2.515405896838622,
          0.7907914880617618,
          -0.7363990037416401,
          -0.637702694930042,
          -1.3915723295142945,
          -2.3569365282997525,
          -3.2289405360819816,
          2.344812638472291,
          0.14711124078286042,
          -1.2248793132977314,
          -1.1841979336558286,
          -1.1590864620673196,
          2.0215500542295004,
          -0.41102940377382513,
          -0.27036044702678513,
          4.996928158206781,
          1.8776287044192888,
          0.3646433857910789,
          -2.402130978032514,
          -1.1449485373023627,
          -1.6251018540398032,
          -1.1124258079416411,
          -0.27141641275987266,
          0.9887493616365651,
          -0.8793007049939423,
          -0.37023776561219646,
          0.42702365640560414,
          0.8230951349613579,
          -0.7170807972414184,
          0.3047018729396328,
          -0.780963676510769
         ],
         "z": [
          1.921119941145523,
          2.253369030094408,
          -0.2825746336987167,
          1.54533631561956,
          1.5933350960955823,
          0.3524437209861138,
          1.829066437108153,
          -2.153175458312946,
          0.5882401063899996,
          0.9350771581590827,
          1.160124038722808,
          -1.3146181394420586,
          -1.1358053829353474,
          -0.7672852036605866,
          -0.509697597606177,
          -0.9997755595223465,
          -0.730428758619492,
          -2.377508834590288,
          0.855404369595488,
          -0.9996321725906574,
          -0.6878016296882086,
          -0.868976100683307,
          2.3899337496310875,
          -1.6171122562451319,
          1.719447230148992,
          -1.0666741518167768,
          1.0444119212817318,
          -1.8619761819799283,
          0.9169361616925411,
          -1.974486716176463,
          0.04094205318797736,
          -0.09047728423985638,
          -1.3483878057334306,
          -1.2515141869028321,
          -2.450151020442738,
          -1.3978562442239124,
          1.0945341020544335,
          0.45306645012045693,
          -1.0383726771517345,
          2.565000173329022,
          -1.2242804417772164,
          0.3420024439366493,
          0.9561308537736077,
          -0.7830029339871243,
          1.2912767052190788,
          -3.0676587118150596,
          -2.1419556727753037,
          -0.6543148621202275,
          -2.9428405756358775,
          -0.23077926068531215,
          -1.075510208829962,
          -0.4790827778475411,
          1.2161992175127134,
          -2.3396213955109655,
          -2.814977031136929,
          -0.8061703167857317,
          -1.758410584601953,
          -0.603185091764423,
          -1.8934120936251686,
          2.134637319263784,
          0.5510781306367227,
          1.1546749525540447,
          -0.3000374195068459,
          -0.3632802778612547,
          -3.064304780710022,
          -0.7481237620551835,
          -0.7095648856409305,
          -0.936796291292108,
          0.09896935722555517,
          1.9521409338520603,
          2.378738682095357,
          -2.727648686910387,
          1.64862229857603,
          1.6197838983040254,
          -0.15013868257007745,
          0.03908844075961823,
          0.5835636249407958,
          0.19185178122605645,
          1.671038997283805,
          0.6358785812486796,
          -1.2219701310940903,
          1.7877390701122657,
          2.8086715072284516,
          -2.320069983100225,
          -0.5191427871537105,
          1.6140725339234285,
          -0.7250402467146433,
          0.4341602680409579,
          0.33369240215597973,
          -0.925376217883662,
          0.02215466272878666,
          -1.4079238400813572,
          -1.8209462125595357,
          -0.7929385533984292,
          1.3276321573342713,
          1.5557563030360304,
          -0.47481589481985464,
          -2.9987221319898754,
          0.2336646429875165,
          0.3378886585875948,
          -1.1582758283053198,
          1.2531680806338015,
          1.982817226557301,
          1.9373128276328562,
          -1.9882073345267306,
          0.9976432017655716,
          0.8847558458618945,
          0.62680819747914,
          0.04258870273849355,
          -0.586117396127204,
          -2.0995261086000405,
          2.1660777319995503,
          0.9489639717537766,
          -1.3970840717580346,
          -1.0846408490545656,
          -2.229529434760138,
          -2.5620020804693295,
          2.113523711179671,
          -0.06133377962410008,
          2.082312004648207,
          0.29210081061764187,
          0.5966619582102102,
          0.6236305169338945,
          -1.8824053553430338,
          0.4237342551319964,
          -1.0530395900151779,
          -0.567547941319346,
          0.31600777848705497,
          0.18569511221465917,
          1.4872669024792258,
          1.3402123654033105,
          1.8928196271466498,
          1.4196714494515776,
          1.7157097770167544,
          0.8940580372610971,
          -1.2089854557611712,
          -0.9525597614925814,
          -1.0241928001405203,
          0.7607584529038118,
          0.556750573542218,
          -0.23571630510549307,
          -0.46916570914090816,
          -2.1309769001402312,
          -2.8194375429983816,
          0.31470611942656473,
          -0.898079227493815,
          1.3586557857960304,
          1.1094087112484778,
          0.37389415885412974,
          2.532603136486103,
          -0.862426538271782,
          1.4328269093194237,
          1.949372006542893,
          -2.7363859167909284,
          0.49250092639529913,
          -1.7967185092678208,
          -2.136260900394934,
          0.9864618767204236,
          1.664017051012192,
          0.5436640236320145,
          0.9639422601463872,
          0.4493614196920272,
          0.4916242276570955,
          0.05523389416155289,
          1.4350308266487442,
          2.3920502236571544,
          -0.12228558748960763,
          1.5215366215974635,
          0.290588276162833,
          -0.08030063014268976,
          1.0779526981137217,
          -1.559735965592361,
          0.43441382441346915,
          1.5595989731182414,
          0.8189668664588694,
          1.0820402655915042,
          -0.5792862200664542,
          -0.3464751211818109,
          0.7913634866180499,
          0.1566755786215594,
          -2.056648496463826,
          -1.939918408624276,
          2.140704111139925,
          0.06490570670884055,
          0.7948688328413851,
          -0.5495486141325314,
          1.2279613564520075,
          -2.0050029354493213,
          -1.0353457854166306,
          -0.2818574235332884,
          1.6325901726588024,
          0.7073822026394685,
          -1.9509226321324136,
          -1.3680086947603278,
          2.252275273788486,
          0.6523537731277924,
          2.230522268845519,
          1.7407518228832963,
          0.3195313242560914
         ]
        }
       ],
       "layout": {
        "autosize": true,
        "scene": {
         "aspectmode": "auto",
         "aspectratio": {
          "x": 1.2108301008481601,
          "y": 1.2935249161016622,
          "z": 0.6384722005402487
         },
         "camera": {
          "center": {
           "x": 0,
           "y": 0,
           "z": 0
          },
          "eye": {
           "x": 1.1390954088064043,
           "y": 0.8906860595791805,
           "z": 1.6114093188595764
          },
          "projection": {
           "type": "perspective"
          },
          "up": {
           "x": 0,
           "y": 0,
           "z": 1
          }
         },
         "xaxis": {
          "title": {
           "text": "PCA1"
          },
          "type": "linear"
         },
         "yaxis": {
          "title": {
           "text": "PCA2"
          },
          "type": "linear"
         },
         "zaxis": {
          "title": {
           "text": "PCA3"
          },
          "type": "linear"
         }
        },
        "template": {
         "data": {
          "bar": [
           {
            "error_x": {
             "color": "#2a3f5f"
            },
            "error_y": {
             "color": "#2a3f5f"
            },
            "marker": {
             "line": {
              "color": "#E5ECF6",
              "width": 0.5
             },
             "pattern": {
              "fillmode": "overlay",
              "size": 10,
              "solidity": 0.2
             }
            },
            "type": "bar"
           }
          ],
          "barpolar": [
           {
            "marker": {
             "line": {
              "color": "#E5ECF6",
              "width": 0.5
             },
             "pattern": {
              "fillmode": "overlay",
              "size": 10,
              "solidity": 0.2
             }
            },
            "type": "barpolar"
           }
          ],
          "carpet": [
           {
            "aaxis": {
             "endlinecolor": "#2a3f5f",
             "gridcolor": "white",
             "linecolor": "white",
             "minorgridcolor": "white",
             "startlinecolor": "#2a3f5f"
            },
            "baxis": {
             "endlinecolor": "#2a3f5f",
             "gridcolor": "white",
             "linecolor": "white",
             "minorgridcolor": "white",
             "startlinecolor": "#2a3f5f"
            },
            "type": "carpet"
           }
          ],
          "choropleth": [
           {
            "colorbar": {
             "outlinewidth": 0,
             "ticks": ""
            },
            "type": "choropleth"
           }
          ],
          "contour": [
           {
            "colorbar": {
             "outlinewidth": 0,
             "ticks": ""
            },
            "colorscale": [
             [
              0,
              "#0d0887"
             ],
             [
              0.1111111111111111,
              "#46039f"
             ],
             [
              0.2222222222222222,
              "#7201a8"
             ],
             [
              0.3333333333333333,
              "#9c179e"
             ],
             [
              0.4444444444444444,
              "#bd3786"
             ],
             [
              0.5555555555555556,
              "#d8576b"
             ],
             [
              0.6666666666666666,
              "#ed7953"
             ],
             [
              0.7777777777777778,
              "#fb9f3a"
             ],
             [
              0.8888888888888888,
              "#fdca26"
             ],
             [
              1,
              "#f0f921"
             ]
            ],
            "type": "contour"
           }
          ],
          "contourcarpet": [
           {
            "colorbar": {
             "outlinewidth": 0,
             "ticks": ""
            },
            "type": "contourcarpet"
           }
          ],
          "heatmap": [
           {
            "colorbar": {
             "outlinewidth": 0,
             "ticks": ""
            },
            "colorscale": [
             [
              0,
              "#0d0887"
             ],
             [
              0.1111111111111111,
              "#46039f"
             ],
             [
              0.2222222222222222,
              "#7201a8"
             ],
             [
              0.3333333333333333,
              "#9c179e"
             ],
             [
              0.4444444444444444,
              "#bd3786"
             ],
             [
              0.5555555555555556,
              "#d8576b"
             ],
             [
              0.6666666666666666,
              "#ed7953"
             ],
             [
              0.7777777777777778,
              "#fb9f3a"
             ],
             [
              0.8888888888888888,
              "#fdca26"
             ],
             [
              1,
              "#f0f921"
             ]
            ],
            "type": "heatmap"
           }
          ],
          "heatmapgl": [
           {
            "colorbar": {
             "outlinewidth": 0,
             "ticks": ""
            },
            "colorscale": [
             [
              0,
              "#0d0887"
             ],
             [
              0.1111111111111111,
              "#46039f"
             ],
             [
              0.2222222222222222,
              "#7201a8"
             ],
             [
              0.3333333333333333,
              "#9c179e"
             ],
             [
              0.4444444444444444,
              "#bd3786"
             ],
             [
              0.5555555555555556,
              "#d8576b"
             ],
             [
              0.6666666666666666,
              "#ed7953"
             ],
             [
              0.7777777777777778,
              "#fb9f3a"
             ],
             [
              0.8888888888888888,
              "#fdca26"
             ],
             [
              1,
              "#f0f921"
             ]
            ],
            "type": "heatmapgl"
           }
          ],
          "histogram": [
           {
            "marker": {
             "pattern": {
              "fillmode": "overlay",
              "size": 10,
              "solidity": 0.2
             }
            },
            "type": "histogram"
           }
          ],
          "histogram2d": [
           {
            "colorbar": {
             "outlinewidth": 0,
             "ticks": ""
            },
            "colorscale": [
             [
              0,
              "#0d0887"
             ],
             [
              0.1111111111111111,
              "#46039f"
             ],
             [
              0.2222222222222222,
              "#7201a8"
             ],
             [
              0.3333333333333333,
              "#9c179e"
             ],
             [
              0.4444444444444444,
              "#bd3786"
             ],
             [
              0.5555555555555556,
              "#d8576b"
             ],
             [
              0.6666666666666666,
              "#ed7953"
             ],
             [
              0.7777777777777778,
              "#fb9f3a"
             ],
             [
              0.8888888888888888,
              "#fdca26"
             ],
             [
              1,
              "#f0f921"
             ]
            ],
            "type": "histogram2d"
           }
          ],
          "histogram2dcontour": [
           {
            "colorbar": {
             "outlinewidth": 0,
             "ticks": ""
            },
            "colorscale": [
             [
              0,
              "#0d0887"
             ],
             [
              0.1111111111111111,
              "#46039f"
             ],
             [
              0.2222222222222222,
              "#7201a8"
             ],
             [
              0.3333333333333333,
              "#9c179e"
             ],
             [
              0.4444444444444444,
              "#bd3786"
             ],
             [
              0.5555555555555556,
              "#d8576b"
             ],
             [
              0.6666666666666666,
              "#ed7953"
             ],
             [
              0.7777777777777778,
              "#fb9f3a"
             ],
             [
              0.8888888888888888,
              "#fdca26"
             ],
             [
              1,
              "#f0f921"
             ]
            ],
            "type": "histogram2dcontour"
           }
          ],
          "mesh3d": [
           {
            "colorbar": {
             "outlinewidth": 0,
             "ticks": ""
            },
            "type": "mesh3d"
           }
          ],
          "parcoords": [
           {
            "line": {
             "colorbar": {
              "outlinewidth": 0,
              "ticks": ""
             }
            },
            "type": "parcoords"
           }
          ],
          "pie": [
           {
            "automargin": true,
            "type": "pie"
           }
          ],
          "scatter": [
           {
            "fillpattern": {
             "fillmode": "overlay",
             "size": 10,
             "solidity": 0.2
            },
            "type": "scatter"
           }
          ],
          "scatter3d": [
           {
            "line": {
             "colorbar": {
              "outlinewidth": 0,
              "ticks": ""
             }
            },
            "marker": {
             "colorbar": {
              "outlinewidth": 0,
              "ticks": ""
             }
            },
            "type": "scatter3d"
           }
          ],
          "scattercarpet": [
           {
            "marker": {
             "colorbar": {
              "outlinewidth": 0,
              "ticks": ""
             }
            },
            "type": "scattercarpet"
           }
          ],
          "scattergeo": [
           {
            "marker": {
             "colorbar": {
              "outlinewidth": 0,
              "ticks": ""
             }
            },
            "type": "scattergeo"
           }
          ],
          "scattergl": [
           {
            "marker": {
             "colorbar": {
              "outlinewidth": 0,
              "ticks": ""
             }
            },
            "type": "scattergl"
           }
          ],
          "scattermapbox": [
           {
            "marker": {
             "colorbar": {
              "outlinewidth": 0,
              "ticks": ""
             }
            },
            "type": "scattermapbox"
           }
          ],
          "scatterpolar": [
           {
            "marker": {
             "colorbar": {
              "outlinewidth": 0,
              "ticks": ""
             }
            },
            "type": "scatterpolar"
           }
          ],
          "scatterpolargl": [
           {
            "marker": {
             "colorbar": {
              "outlinewidth": 0,
              "ticks": ""
             }
            },
            "type": "scatterpolargl"
           }
          ],
          "scatterternary": [
           {
            "marker": {
             "colorbar": {
              "outlinewidth": 0,
              "ticks": ""
             }
            },
            "type": "scatterternary"
           }
          ],
          "surface": [
           {
            "colorbar": {
             "outlinewidth": 0,
             "ticks": ""
            },
            "colorscale": [
             [
              0,
              "#0d0887"
             ],
             [
              0.1111111111111111,
              "#46039f"
             ],
             [
              0.2222222222222222,
              "#7201a8"
             ],
             [
              0.3333333333333333,
              "#9c179e"
             ],
             [
              0.4444444444444444,
              "#bd3786"
             ],
             [
              0.5555555555555556,
              "#d8576b"
             ],
             [
              0.6666666666666666,
              "#ed7953"
             ],
             [
              0.7777777777777778,
              "#fb9f3a"
             ],
             [
              0.8888888888888888,
              "#fdca26"
             ],
             [
              1,
              "#f0f921"
             ]
            ],
            "type": "surface"
           }
          ],
          "table": [
           {
            "cells": {
             "fill": {
              "color": "#EBF0F8"
             },
             "line": {
              "color": "white"
             }
            },
            "header": {
             "fill": {
              "color": "#C8D4E3"
             },
             "line": {
              "color": "white"
             }
            },
            "type": "table"
           }
          ]
         },
         "layout": {
          "annotationdefaults": {
           "arrowcolor": "#2a3f5f",
           "arrowhead": 0,
           "arrowwidth": 1
          },
          "autotypenumbers": "strict",
          "coloraxis": {
           "colorbar": {
            "outlinewidth": 0,
            "ticks": ""
           }
          },
          "colorscale": {
           "diverging": [
            [
             0,
             "#8e0152"
            ],
            [
             0.1,
             "#c51b7d"
            ],
            [
             0.2,
             "#de77ae"
            ],
            [
             0.3,
             "#f1b6da"
            ],
            [
             0.4,
             "#fde0ef"
            ],
            [
             0.5,
             "#f7f7f7"
            ],
            [
             0.6,
             "#e6f5d0"
            ],
            [
             0.7,
             "#b8e186"
            ],
            [
             0.8,
             "#7fbc41"
            ],
            [
             0.9,
             "#4d9221"
            ],
            [
             1,
             "#276419"
            ]
           ],
           "sequential": [
            [
             0,
             "#0d0887"
            ],
            [
             0.1111111111111111,
             "#46039f"
            ],
            [
             0.2222222222222222,
             "#7201a8"
            ],
            [
             0.3333333333333333,
             "#9c179e"
            ],
            [
             0.4444444444444444,
             "#bd3786"
            ],
            [
             0.5555555555555556,
             "#d8576b"
            ],
            [
             0.6666666666666666,
             "#ed7953"
            ],
            [
             0.7777777777777778,
             "#fb9f3a"
            ],
            [
             0.8888888888888888,
             "#fdca26"
            ],
            [
             1,
             "#f0f921"
            ]
           ],
           "sequentialminus": [
            [
             0,
             "#0d0887"
            ],
            [
             0.1111111111111111,
             "#46039f"
            ],
            [
             0.2222222222222222,
             "#7201a8"
            ],
            [
             0.3333333333333333,
             "#9c179e"
            ],
            [
             0.4444444444444444,
             "#bd3786"
            ],
            [
             0.5555555555555556,
             "#d8576b"
            ],
            [
             0.6666666666666666,
             "#ed7953"
            ],
            [
             0.7777777777777778,
             "#fb9f3a"
            ],
            [
             0.8888888888888888,
             "#fdca26"
            ],
            [
             1,
             "#f0f921"
            ]
           ]
          },
          "colorway": [
           "#636efa",
           "#EF553B",
           "#00cc96",
           "#ab63fa",
           "#FFA15A",
           "#19d3f3",
           "#FF6692",
           "#B6E880",
           "#FF97FF",
           "#FECB52"
          ],
          "font": {
           "color": "#2a3f5f"
          },
          "geo": {
           "bgcolor": "white",
           "lakecolor": "white",
           "landcolor": "#E5ECF6",
           "showlakes": true,
           "showland": true,
           "subunitcolor": "white"
          },
          "hoverlabel": {
           "align": "left"
          },
          "hovermode": "closest",
          "mapbox": {
           "style": "light"
          },
          "paper_bgcolor": "white",
          "plot_bgcolor": "#E5ECF6",
          "polar": {
           "angularaxis": {
            "gridcolor": "white",
            "linecolor": "white",
            "ticks": ""
           },
           "bgcolor": "#E5ECF6",
           "radialaxis": {
            "gridcolor": "white",
            "linecolor": "white",
            "ticks": ""
           }
          },
          "scene": {
           "xaxis": {
            "backgroundcolor": "#E5ECF6",
            "gridcolor": "white",
            "gridwidth": 2,
            "linecolor": "white",
            "showbackground": true,
            "ticks": "",
            "zerolinecolor": "white"
           },
           "yaxis": {
            "backgroundcolor": "#E5ECF6",
            "gridcolor": "white",
            "gridwidth": 2,
            "linecolor": "white",
            "showbackground": true,
            "ticks": "",
            "zerolinecolor": "white"
           },
           "zaxis": {
            "backgroundcolor": "#E5ECF6",
            "gridcolor": "white",
            "gridwidth": 2,
            "linecolor": "white",
            "showbackground": true,
            "ticks": "",
            "zerolinecolor": "white"
           }
          },
          "shapedefaults": {
           "line": {
            "color": "#2a3f5f"
           }
          },
          "ternary": {
           "aaxis": {
            "gridcolor": "white",
            "linecolor": "white",
            "ticks": ""
           },
           "baxis": {
            "gridcolor": "white",
            "linecolor": "white",
            "ticks": ""
           },
           "bgcolor": "#E5ECF6",
           "caxis": {
            "gridcolor": "white",
            "linecolor": "white",
            "ticks": ""
           }
          },
          "title": {
           "x": 0.05
          },
          "xaxis": {
           "automargin": true,
           "gridcolor": "white",
           "linecolor": "white",
           "ticks": "",
           "title": {
            "standoff": 15
           },
           "zerolinecolor": "white",
           "zerolinewidth": 2
          },
          "yaxis": {
           "automargin": true,
           "gridcolor": "white",
           "linecolor": "white",
           "ticks": "",
           "title": {
            "standoff": 15
           },
           "zerolinecolor": "white",
           "zerolinewidth": 2
          }
         }
        },
        "title": {
         "text": "AlgoCust4"
        }
       }
      },
      "image/png": "[encoded data removed]",
      "text/html": [
       "<div>                            <div id=\"0d40859f-6f63-4d3c-b5fb-f4a046f0d1d1\" class=\"plotly-graph-div\" style=\"height:800px; width:100%;\"></div>            <script type=\"text/javascript\">                require([\"plotly\"], function(Plotly) {                    window.PLOTLYENV=window.PLOTLYENV || {};                                    if (document.getElementById(\"0d40859f-6f63-4d3c-b5fb-f4a046f0d1d1\")) {                    Plotly.newPlot(                        \"0d40859f-6f63-4d3c-b5fb-f4a046f0d1d1\",                        [{\"marker\":{\"color\":[0,1,0,0,1,2,3,0,1,1,0,0,0,3,3,0,1,0,1,3,0,0,1,0,1,2,1,0,1,0,0,1,1,0,0,0,1,1,0,2,0,0,1,2,0,0,0,0,0,2,0,0,1,0,0,0,0,3,0,1,1,1,1,0,0,2,0,0,1,1,1,0,3,1,1,0,1,2,3,3,0,0,1,0,0,1,2,1,2,0,0,0,0,0,1,2,3,0,0,1,0,0,1,0,1,1,0,0,1,3,1,0,0,2,2,0,0,0,1,3,1,0,1,1,3,0,1,3,0,3,3,1,0,1,1,0,0,2,1,1,0,0,0,0,0,0,1,2,1,3,1,0,0,0,0,0,0,2,1,1,1,0,2,1,0,1,1,2,0,1,2,1,0,0,0,3,0,1,1,0,0,0,0,2,3,2,0,0,0,0,0,3,0,0,2,1,1,1,1],\"opacity\":0.8,\"size\":5},\"mode\":\"markers\",\"x\":[0.18388468556393361,-2.3627965075695236,-0.012950176298611255,0.4099947631856682,-0.5261219615301458,3.054792214538349,0.9261059020572059,-1.3402923476239261,-3.658832069391527,-2.0766080051216256,0.848597407134772,1.563437763799695,2.361693745332409,-4.554773370884382,-2.088762092132258,1.5387607857484487,-0.19763920206543648,2.277794192163221,-2.5936116030490317,0.7406569474996061,1.0423722541895113,1.0143151906773782,1.8549562922864236,-1.6733321347922334,-3.1343149402899444,1.3279424353549778,-0.5935997162856913,1.6647632952897948,-2.303563209896932,-1.4434637791252782,-1.9188076026079752,-3.9478069464497856,-5.988723477512564,-1.4682565957963043,-1.0444099157416593,-1.8382396681939137,1.7207234227320771,-1.3710249670068684,0.46115845000219235,4.673304974414971,2.082143507089387,1.272834340492607,-3.65256481799713,3.3257486890789503,1.1093153976933177,1.2986766567647883,-2.0154277112266237,1.012917411085775,-3.238119538521256,2.4516565939775594,1.6360239707178745,-0.6117638597218618,1.9568114599718138,2.607660499033682,-1.606433275964883,-0.6390368593212024,1.1872207908786105,-2.6758764757957887,2.104180338755569,-5.964816518554493,-0.5493065422586163,-1.9406925942270998,0.15658634785207456,1.9592185787872656,1.888321645549775,4.911849909003335,0.21523531086122377,1.3627596748283155,-1.0161817599782863,0.4963980510274826,-2.687137153886666,-0.6930349089351655,-0.9378553841845805,1.929831140179864,0.35892117474521834,-1.731107457851526,-4.419896210355031,2.2160334692243784,2.258919744908465,1.457635104242197,-0.5225033743610363,3.8327907857792374,-4.46198333538382,-1.1946130488055784,1.5214440193779049,-1.333882345122535,2.8455248623637237,-2.0754399828318535,4.144836835655781,-0.5525256276300421,-1.0303188734907278,0.34533363660490357,0.3999251493850251,-3.7063566154773873,-0.2191059181235255,4.70539280765513,-5.974138044883847,-2.06514699468491,2.0351470093304007,1.7887210384723427,0.6942781548900041,1.3483085422605157,-1.7401411630648222,1.9225830552828584,1.4120244498924897,-0.7675191696771058,0.13340738224381143,0.2562683640592718,-1.542850766393538,0.4994804668392504,-2.6516591887613403,-0.09921770468717231,0.019691798540304978,3.7882077310238476,2.65791100507597,-2.025908792972176,1.9938882433074931,0.02022101676824084,-4.2309950315333476,0.38408563567418663,-4.591575438738171,0.8495197659524312,0.3713958491659561,-0.5180002779225023,-0.054860727169285,1.291629355122404,-1.1767194516153092,-3.7395152075418387,0.02567204848758947,-1.6147483396172044,-0.6977826456415172,-0.5644374362035638,0.30862059104165646,-1.3771888726714956,0.4544413513216583,-0.0869444336278811,0.14018244812201242,4.403805018080558,-1.544959966652858,2.2525007529447403,4.803114044975399,-0.9058689416143735,2.7268662925673337,-1.632508695304069,0.7529783408838815,-0.3639122030180526,-2.6307684530606754,3.5864671058647475,1.1774001159007976,-1.8163430734205464,-5.080854057762035,0.028727480204312705,0.9578523264750712,-0.48322572648081785,1.8082840274800582,1.630787503978122,-3.345563896147903,2.3325817039508894,-0.4164751890689732,-0.6971293639830242,-2.349330388571861,-0.6341967674750326,2.827693375836657,-0.05573962033330729,1.4748720880469839,-1.0058601386837704,0.16221923694237797,5.1554383289387244,1.3378963145084863,2.0753122488037286,3.700420217786618,-2.6373105503661254,1.2546592261817218,0.22108362551038663,0.8529335520107441,-0.759940967250197,-0.5886032502100932,-0.09544153244510431,-0.7273702426417443,-0.4524836545795159,2.2027018141056445,0.3706851527129202,-0.9725282031582336,2.7657322956657775,-0.8625616310574156,2.70797752030273,2.312923604780625,-1.4519064644823434,-0.6794857151700111,0.07450816348250508,-1.1299445242532096,0.20222061736116514,-0.9798060753935909,-0.4554547751103126,4.4018173231347415,-1.085811838387272,-2.536402666056525,-2.324193318017568,2.1596947091009078],\"y\":[-1.1182595685407435,-0.4108332401885343,0.35039404906109783,-1.7234899714795833,1.0119938646048419,0.8003609571868374,1.8609182811048028,-2.3363426353002823,0.7790275010449369,-0.8890758705560924,-0.9711150798881026,-2.244535507570582,-1.9623171400588864,4.6475715179403965,2.8574385838132574,-0.039869069291042836,-1.170022791486009,1.811947638022715,-0.5623122766974686,7.346248563762654,-1.6055759485928753,-0.607190015755217,-0.586260909290459,0.511440738352449,-0.20027407505075867,1.7922752289200652,-0.06756524570832234,-0.8032997427046473,-1.499960196173656,-0.6665215515259053,0.3857345992117357,-0.08491013055778329,1.9185314171145005,-0.57053616127181,0.583698535809062,1.5516836419616356,0.23554375734090027,-1.6001461310864165,-0.5793361025137833,3.830505471622952,-1.3829528492987422,0.5341155399982486,0.21781980638884568,0.9649058433057892,-0.08780387091444264,0.04286241550561154,-0.01900679388126858,0.6332818592358233,-0.26865089711411366,3.119568589250851,-1.7646329155960032,0.7026230243960566,-1.4286862300590306,-0.8847658535868578,0.2570088826001323,-0.16100093599374254,-1.2754170692004907,4.726344794152794,-0.3615657787248914,0.392812976532819,-0.7047643595617255,1.2874879398161236,0.6577248801681442,-0.7397698775380124,-2.3745721430953006,3.273923130245181,-0.7876045694180297,-1.9428840904349913,-0.68163556948904,0.6549030789183593,0.08543259378708767,-0.8288511962197633,2.7892562338876816,1.8243909539687095,-1.9316408908839886,-0.28049224022905356,0.6391696114110988,4.164669449967324,2.5105519958347595,7.032575844357844,-1.3779282524952192,-2.059308754995735,-1.094707770163304,-1.9039137341278929,1.2194156014179862,-0.820718606671102,0.46375314042819904,-1.3967577863902467,3.727198338029119,-0.8246407739080882,-1.1132839791206677,0.21979689667266344,-1.3227351519033506,-0.21337741067170773,-0.35064423326201893,0.12994436574368096,3.0121204982551357,-1.026114349132823,-3.060949885201076,0.10932327255025187,-2.406084592966579,-1.133997767660347,-0.5763467316612522,-2.0228289156856194,0.11652184643170582,-1.1516500499880893,-0.7936311552027909,-1.7655798324491645,-1.992176515580414,7.673938993098334,-0.9241040466157042,0.03326413231250136,-2.792724671312324,2.608890113038355,1.7166779390359914,0.19424468006972906,1.5131701545118403,-2.6942951034636233,-0.20372139826618862,3.243312451607955,0.11905231710356767,-1.842950660690966,0.08047228801512207,0.1679675435904079,1.3359201041722137,-1.6684323035618989,0.6534592135005785,3.158270916754733,1.4289699877399502,3.899879660306083,0.0007530157278524685,0.2051055381758058,0.2465800868561715,-1.6316829857525894,-0.21338089061685944,-0.06330154825144108,-1.1447265841549399,0.8494727283728859,-0.7432445407190863,0.1402402273021992,-1.8491079144671523,-0.4644528217308663,-1.4867584995206846,2.603335037694954,-1.0661675010720508,0.6079691093143756,-2.6014386940320358,1.1478516083323638,-0.4175672002163656,3.3674263703709566,0.3471010188348628,-1.790595657669639,-1.641176345324722,0.23150227760101172,-1.263004770441423,-2.7683324474371345,-0.4730430889245644,0.389540499316112,-0.7498948839178912,-0.1946482106850453,-1.0209090918273724,-2.170905359070666,-0.2530470899750714,-1.2641573579488696,-4.231324144657888,-0.48182422915337664,1.7673906671809578,0.5412487409292809,-2.515405896838622,0.7907914880617618,-0.7363990037416401,-0.637702694930042,-1.3915723295142945,-2.3569365282997525,-3.2289405360819816,2.344812638472291,0.14711124078286042,-1.2248793132977314,-1.1841979336558286,-1.1590864620673196,2.0215500542295004,-0.41102940377382513,-0.27036044702678513,4.996928158206781,1.8776287044192888,0.3646433857910789,-2.402130978032514,-1.1449485373023627,-1.6251018540398032,-1.1124258079416411,-0.27141641275987266,0.9887493616365651,-0.8793007049939423,-0.37023776561219646,0.42702365640560414,0.8230951349613579,-0.7170807972414184,0.3047018729396328,-0.780963676510769],\"z\":[1.921119941145523,2.253369030094408,-0.2825746336987167,1.54533631561956,1.5933350960955823,0.3524437209861138,1.829066437108153,-2.153175458312946,0.5882401063899996,0.9350771581590827,1.160124038722808,-1.3146181394420586,-1.1358053829353474,-0.7672852036605866,-0.509697597606177,-0.9997755595223465,-0.730428758619492,-2.377508834590288,0.855404369595488,-0.9996321725906574,-0.6878016296882086,-0.868976100683307,2.3899337496310875,-1.6171122562451319,1.719447230148992,-1.0666741518167768,1.0444119212817318,-1.8619761819799283,0.9169361616925411,-1.974486716176463,0.04094205318797736,-0.09047728423985638,-1.3483878057334306,-1.2515141869028321,-2.450151020442738,-1.3978562442239124,1.0945341020544335,0.45306645012045693,-1.0383726771517345,2.565000173329022,-1.2242804417772164,0.3420024439366493,0.9561308537736077,-0.7830029339871243,1.2912767052190788,-3.0676587118150596,-2.1419556727753037,-0.6543148621202275,-2.9428405756358775,-0.23077926068531215,-1.075510208829962,-0.4790827778475411,1.2161992175127134,-2.3396213955109655,-2.814977031136929,-0.8061703167857317,-1.758410584601953,-0.603185091764423,-1.8934120936251686,2.134637319263784,0.5510781306367227,1.1546749525540447,-0.3000374195068459,-0.3632802778612547,-3.064304780710022,-0.7481237620551835,-0.7095648856409305,-0.936796291292108,0.09896935722555517,1.9521409338520603,2.378738682095357,-2.727648686910387,1.64862229857603,1.6197838983040254,-0.15013868257007745,0.03908844075961823,0.5835636249407958,0.19185178122605645,1.671038997283805,0.6358785812486796,-1.2219701310940903,1.7877390701122657,2.8086715072284516,-2.320069983100225,-0.5191427871537105,1.6140725339234285,-0.7250402467146433,0.4341602680409579,0.33369240215597973,-0.925376217883662,0.02215466272878666,-1.4079238400813572,-1.8209462125595357,-0.7929385533984292,1.3276321573342713,1.5557563030360304,-0.47481589481985464,-2.9987221319898754,0.2336646429875165,0.3378886585875948,-1.1582758283053198,1.2531680806338015,1.982817226557301,1.9373128276328562,-1.9882073345267306,0.9976432017655716,0.8847558458618945,0.62680819747914,0.04258870273849355,-0.586117396127204,-2.0995261086000405,2.1660777319995503,0.9489639717537766,-1.3970840717580346,-1.0846408490545656,-2.229529434760138,-2.5620020804693295,2.113523711179671,-0.06133377962410008,2.082312004648207,0.29210081061764187,0.5966619582102102,0.6236305169338945,-1.8824053553430338,0.4237342551319964,-1.0530395900151779,-0.567547941319346,0.31600777848705497,0.18569511221465917,1.4872669024792258,1.3402123654033105,1.8928196271466498,1.4196714494515776,1.7157097770167544,0.8940580372610971,-1.2089854557611712,-0.9525597614925814,-1.0241928001405203,0.7607584529038118,0.556750573542218,-0.23571630510549307,-0.46916570914090816,-2.1309769001402312,-2.8194375429983816,0.31470611942656473,-0.898079227493815,1.3586557857960304,1.1094087112484778,0.37389415885412974,2.532603136486103,-0.862426538271782,1.4328269093194237,1.949372006542893,-2.7363859167909284,0.49250092639529913,-1.7967185092678208,-2.136260900394934,0.9864618767204236,1.664017051012192,0.5436640236320145,0.9639422601463872,0.4493614196920272,0.4916242276570955,0.05523389416155289,1.4350308266487442,2.3920502236571544,-0.12228558748960763,1.5215366215974635,0.290588276162833,-0.08030063014268976,1.0779526981137217,-1.559735965592361,0.43441382441346915,1.5595989731182414,0.8189668664588694,1.0820402655915042,-0.5792862200664542,-0.3464751211818109,0.7913634866180499,0.1566755786215594,-2.056648496463826,-1.939918408624276,2.140704111139925,0.06490570670884055,0.7948688328413851,-0.5495486141325314,1.2279613564520075,-2.0050029354493213,-1.0353457854166306,-0.2818574235332884,1.6325901726588024,0.7073822026394685,-1.9509226321324136,-1.3680086947603278,2.252275273788486,0.6523537731277924,2.230522268845519,1.7407518228832963,0.3195313242560914],\"type\":\"scatter3d\"}],                        {\"template\":{\"data\":{\"histogram2dcontour\":[{\"type\":\"histogram2dcontour\",\"colorbar\":{\"outlinewidth\":0,\"ticks\":\"\"},\"colorscale\":[[0.0,\"#0d0887\"],[0.1111111111111111,\"#46039f\"],[0.2222222222222222,\"#7201a8\"],[0.3333333333333333,\"#9c179e\"],[0.4444444444444444,\"#bd3786\"],[0.5555555555555556,\"#d8576b\"],[0.6666666666666666,\"#ed7953\"],[0.7777777777777778,\"#fb9f3a\"],[0.8888888888888888,\"#fdca26\"],[1.0,\"#f0f921\"]]}],\"choropleth\":[{\"type\":\"choropleth\",\"colorbar\":{\"outlinewidth\":0,\"ticks\":\"\"}}],\"histogram2d\":[{\"type\":\"histogram2d\",\"colorbar\":{\"outlinewidth\":0,\"ticks\":\"\"},\"colorscale\":[[0.0,\"#0d0887\"],[0.1111111111111111,\"#46039f\"],[0.2222222222222222,\"#7201a8\"],[0.3333333333333333,\"#9c179e\"],[0.4444444444444444,\"#bd3786\"],[0.5555555555555556,\"#d8576b\"],[0.6666666666666666,\"#ed7953\"],[0.7777777777777778,\"#fb9f3a\"],[0.8888888888888888,\"#fdca26\"],[1.0,\"#f0f921\"]]}],\"heatmap\":[{\"type\":\"heatmap\",\"colorbar\":{\"outlinewidth\":0,\"ticks\":\"\"},\"colorscale\":[[0.0,\"#0d0887\"],[0.1111111111111111,\"#46039f\"],[0.2222222222222222,\"#7201a8\"],[0.3333333333333333,\"#9c179e\"],[0.4444444444444444,\"#bd3786\"],[0.5555555555555556,\"#d8576b\"],[0.6666666666666666,\"#ed7953\"],[0.7777777777777778,\"#fb9f3a\"],[0.8888888888888888,\"#fdca26\"],[1.0,\"#f0f921\"]]}],\"heatmapgl\":[{\"type\":\"heatmapgl\",\"colorbar\":{\"outlinewidth\":0,\"ticks\":\"\"},\"colorscale\":[[0.0,\"#0d0887\"],[0.1111111111111111,\"#46039f\"],[0.2222222222222222,\"#7201a8\"],[0.3333333333333333,\"#9c179e\"],[0.4444444444444444,\"#bd3786\"],[0.5555555555555556,\"#d8576b\"],[0.6666666666666666,\"#ed7953\"],[0.7777777777777778,\"#fb9f3a\"],[0.8888888888888888,\"#fdca26\"],[1.0,\"#f0f921\"]]}],\"contourcarpet\":[{\"type\":\"contourcarpet\",\"colorbar\":{\"outlinewidth\":0,\"ticks\":\"\"}}],\"contour\":[{\"type\":\"contour\",\"colorbar\":{\"outlinewidth\":0,\"ticks\":\"\"},\"colorscale\":[[0.0,\"#0d0887\"],[0.1111111111111111,\"#46039f\"],[0.2222222222222222,\"#7201a8\"],[0.3333333333333333,\"#9c179e\"],[0.4444444444444444,\"#bd3786\"],[0.5555555555555556,\"#d8576b\"],[0.6666666666666666,\"#ed7953\"],[0.7777777777777778,\"#fb9f3a\"],[0.8888888888888888,\"#fdca26\"],[1.0,\"#f0f921\"]]}],\"surface\":[{\"type\":\"surface\",\"colorbar\":{\"outlinewidth\":0,\"ticks\":\"\"},\"colorscale\":[[0.0,\"#0d0887\"],[0.1111111111111111,\"#46039f\"],[0.2222222222222222,\"#7201a8\"],[0.3333333333333333,\"#9c179e\"],[0.4444444444444444,\"#bd3786\"],[0.5555555555555556,\"#d8576b\"],[0.6666666666666666,\"#ed7953\"],[0.7777777777777778,\"#fb9f3a\"],[0.8888888888888888,\"#fdca26\"],[1.0,\"#f0f921\"]]}],\"mesh3d\":[{\"type\":\"mesh3d\",\"colorbar\":{\"outlinewidth\":0,\"ticks\":\"\"}}],\"scatter\":[{\"fillpattern\":{\"fillmode\":\"overlay\",\"size\":10,\"solidity\":0.2},\"type\":\"scatter\"}],\"parcoords\":[{\"type\":\"parcoords\",\"line\":{\"colorbar\":{\"outlinewidth\":0,\"ticks\":\"\"}}}],\"scatterpolargl\":[{\"type\":\"scatterpolargl\",\"marker\":{\"colorbar\":{\"outlinewidth\":0,\"ticks\":\"\"}}}],\"bar\":[{\"error_x\":{\"color\":\"#2a3f5f\"},\"error_y\":{\"color\":\"#2a3f5f\"},\"marker\":{\"line\":{\"color\":\"#E5ECF6\",\"width\":0.5},\"pattern\":{\"fillmode\":\"overlay\",\"size\":10,\"solidity\":0.2}},\"type\":\"bar\"}],\"scattergeo\":[{\"type\":\"scattergeo\",\"marker\":{\"colorbar\":{\"outlinewidth\":0,\"ticks\":\"\"}}}],\"scatterpolar\":[{\"type\":\"scatterpolar\",\"marker\":{\"colorbar\":{\"outlinewidth\":0,\"ticks\":\"\"}}}],\"histogram\":[{\"marker\":{\"pattern\":{\"fillmode\":\"overlay\",\"size\":10,\"solidity\":0.2}},\"type\":\"histogram\"}],\"scattergl\":[{\"type\":\"scattergl\",\"marker\":{\"colorbar\":{\"outlinewidth\":0,\"ticks\":\"\"}}}],\"scatter3d\":[{\"type\":\"scatter3d\",\"line\":{\"colorbar\":{\"outlinewidth\":0,\"ticks\":\"\"}},\"marker\":{\"colorbar\":{\"outlinewidth\":0,\"ticks\":\"\"}}}],\"scattermapbox\":[{\"type\":\"scattermapbox\",\"marker\":{\"colorbar\":{\"outlinewidth\":0,\"ticks\":\"\"}}}],\"scatterternary\":[{\"type\":\"scatterternary\",\"marker\":{\"colorbar\":{\"outlinewidth\":0,\"ticks\":\"\"}}}],\"scattercarpet\":[{\"type\":\"scattercarpet\",\"marker\":{\"colorbar\":{\"outlinewidth\":0,\"ticks\":\"\"}}}],\"carpet\":[{\"aaxis\":{\"endlinecolor\":\"#2a3f5f\",\"gridcolor\":\"white\",\"linecolor\":\"white\",\"minorgridcolor\":\"white\",\"startlinecolor\":\"#2a3f5f\"},\"baxis\":{\"endlinecolor\":\"#2a3f5f\",\"gridcolor\":\"white\",\"linecolor\":\"white\",\"minorgridcolor\":\"white\",\"startlinecolor\":\"#2a3f5f\"},\"type\":\"carpet\"}],\"table\":[{\"cells\":{\"fill\":{\"color\":\"#EBF0F8\"},\"line\":{\"color\":\"white\"}},\"header\":{\"fill\":{\"color\":\"#C8D4E3\"},\"line\":{\"color\":\"white\"}},\"type\":\"table\"}],\"barpolar\":[{\"marker\":{\"line\":{\"color\":\"#E5ECF6\",\"width\":0.5},\"pattern\":{\"fillmode\":\"overlay\",\"size\":10,\"solidity\":0.2}},\"type\":\"barpolar\"}],\"pie\":[{\"automargin\":true,\"type\":\"pie\"}]},\"layout\":{\"autotypenumbers\":\"strict\",\"colorway\":[\"#636efa\",\"#EF553B\",\"#00cc96\",\"#ab63fa\",\"#FFA15A\",\"#19d3f3\",\"#FF6692\",\"#B6E880\",\"#FF97FF\",\"#FECB52\"],\"font\":{\"color\":\"#2a3f5f\"},\"hovermode\":\"closest\",\"hoverlabel\":{\"align\":\"left\"},\"paper_bgcolor\":\"white\",\"plot_bgcolor\":\"#E5ECF6\",\"polar\":{\"bgcolor\":\"#E5ECF6\",\"angularaxis\":{\"gridcolor\":\"white\",\"linecolor\":\"white\",\"ticks\":\"\"},\"radialaxis\":{\"gridcolor\":\"white\",\"linecolor\":\"white\",\"ticks\":\"\"}},\"ternary\":{\"bgcolor\":\"#E5ECF6\",\"aaxis\":{\"gridcolor\":\"white\",\"linecolor\":\"white\",\"ticks\":\"\"},\"baxis\":{\"gridcolor\":\"white\",\"linecolor\":\"white\",\"ticks\":\"\"},\"caxis\":{\"gridcolor\":\"white\",\"linecolor\":\"white\",\"ticks\":\"\"}},\"coloraxis\":{\"colorbar\":{\"outlinewidth\":0,\"ticks\":\"\"}},\"colorscale\":{\"sequential\":[[0.0,\"#0d0887\"],[0.1111111111111111,\"#46039f\"],[0.2222222222222222,\"#7201a8\"],[0.3333333333333333,\"#9c179e\"],[0.4444444444444444,\"#bd3786\"],[0.5555555555555556,\"#d8576b\"],[0.6666666666666666,\"#ed7953\"],[0.7777777777777778,\"#fb9f3a\"],[0.8888888888888888,\"#fdca26\"],[1.0,\"#f0f921\"]],\"sequentialminus\":[[0.0,\"#0d0887\"],[0.1111111111111111,\"#46039f\"],[0.2222222222222222,\"#7201a8\"],[0.3333333333333333,\"#9c179e\"],[0.4444444444444444,\"#bd3786\"],[0.5555555555555556,\"#d8576b\"],[0.6666666666666666,\"#ed7953\"],[0.7777777777777778,\"#fb9f3a\"],[0.8888888888888888,\"#fdca26\"],[1.0,\"#f0f921\"]],\"diverging\":[[0,\"#8e0152\"],[0.1,\"#c51b7d\"],[0.2,\"#de77ae\"],[0.3,\"#f1b6da\"],[0.4,\"#fde0ef\"],[0.5,\"#f7f7f7\"],[0.6,\"#e6f5d0\"],[0.7,\"#b8e186\"],[0.8,\"#7fbc41\"],[0.9,\"#4d9221\"],[1,\"#276419\"]]},\"xaxis\":{\"gridcolor\":\"white\",\"linecolor\":\"white\",\"ticks\":\"\",\"title\":{\"standoff\":15},\"zerolinecolor\":\"white\",\"automargin\":true,\"zerolinewidth\":2},\"yaxis\":{\"gridcolor\":\"white\",\"linecolor\":\"white\",\"ticks\":\"\",\"title\":{\"standoff\":15},\"zerolinecolor\":\"white\",\"automargin\":true,\"zerolinewidth\":2},\"scene\":{\"xaxis\":{\"backgroundcolor\":\"#E5ECF6\",\"gridcolor\":\"white\",\"linecolor\":\"white\",\"showbackground\":true,\"ticks\":\"\",\"zerolinecolor\":\"white\",\"gridwidth\":2},\"yaxis\":{\"backgroundcolor\":\"#E5ECF6\",\"gridcolor\":\"white\",\"linecolor\":\"white\",\"showbackground\":true,\"ticks\":\"\",\"zerolinecolor\":\"white\",\"gridwidth\":2},\"zaxis\":{\"backgroundcolor\":\"#E5ECF6\",\"gridcolor\":\"white\",\"linecolor\":\"white\",\"showbackground\":true,\"ticks\":\"\",\"zerolinecolor\":\"white\",\"gridwidth\":2}},\"shapedefaults\":{\"line\":{\"color\":\"#2a3f5f\"}},\"annotationdefaults\":{\"arrowcolor\":\"#2a3f5f\",\"arrowhead\":0,\"arrowwidth\":1},\"geo\":{\"bgcolor\":\"white\",\"landcolor\":\"#E5ECF6\",\"subunitcolor\":\"white\",\"showland\":true,\"showlakes\":true,\"lakecolor\":\"white\"},\"title\":{\"x\":0.05},\"mapbox\":{\"style\":\"light\"}}},\"height\":800,\"scene\":{\"xaxis\":{\"title\":{\"text\":\"PCA1\"}},\"yaxis\":{\"title\":{\"text\":\"PCA2\"}},\"zaxis\":{\"title\":{\"text\":\"PCA3\"}}},\"title\":{\"text\":\"AlgoCust4\"}},                        {\"responsive\": true}                    ).then(function(){\n",
       "                            \n",
       "var gd = document.getElementById('0d40859f-6f63-4d3c-b5fb-f4a046f0d1d1');\n",
       "var x = new MutationObserver(function (mutations, observer) {{\n",
       "        var display = window.getComputedStyle(gd).display;\n",
       "        if (!display || display === 'none') {{\n",
       "            console.log([gd, 'removed!']);\n",
       "            Plotly.purge(gd);\n",
       "            observer.disconnect();\n",
       "        }}\n",
       "}});\n",
       "\n",
       "// Listen for the removal of the full notebook cells\n",
       "var notebookContainer = gd.closest('#notebook-container');\n",
       "if (notebookContainer) {{\n",
       "    x.observe(notebookContainer, {childList: true});\n",
       "}}\n",
       "\n",
       "// Listen for the clearing of the current output cell\n",
       "var outputEl = gd.closest('.output');\n",
       "if (outputEl) {{\n",
       "    x.observe(outputEl, {childList: true});\n",
       "}}\n",
       "\n",
       "                        })                };                });            </script>        </div>"
      ]
     },
     "metadata": {},
     "output_type": "display_data"
    }
   ],
   "source": [
    "import plotly.graph_objects as go\n",
    "\n",
    "fig = go.Figure(data=[go.Scatter3d(\n",
    "    x=pca_df[\"PCA1\"],\n",
    "    y=pca_df[\"PCA2\"],\n",
    "    z=pca_df[\"PCA3\"],\n",
    "    mode='markers',\n",
    "    marker=dict(\n",
    "        size=5,\n",
    "        color=labels_4,\n",
    "        opacity=0.8\n",
    "    )\n",
    ")])\n",
    "\n",
    "fig.update_layout(\n",
    "    height=800,     # height in pixels\n",
    "    scene=dict(\n",
    "        xaxis_title='PCA1',\n",
    "        yaxis_title='PCA2',\n",
    "        zaxis_title='PCA3'\n",
    "    ),\n",
    "    title='AlgoCust4'\n",
    ")\n",
    "\n",
    "fig.show()\n"
   ]
  },
  {
   "cell_type": "code",
   "execution_count": null,
   "id": "81b0a855-1250-4ddc-b991-014f3d7d64f2",
   "metadata": {},
   "outputs": [],
   "source": []
  }
 ],
 "metadata": {
  "kernelspec": {
   "display_name": "Python 3 (ipykernel)",
   "language": "python",
   "name": "python3"
  },
  "language_info": {
   "codemirror_mode": {
    "name": "ipython",
    "version": 3
   },
   "file_extension": ".py",
   "mimetype": "text/x-python",
   "name": "python",
   "nbconvert_exporter": "python",
   "pygments_lexer": "ipython3",
   "version": "3.12.7"
  }
 },
 "nbformat": 4,
 "nbformat_minor": 5
}
